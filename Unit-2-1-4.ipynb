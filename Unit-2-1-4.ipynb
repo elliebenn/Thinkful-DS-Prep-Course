{
 "cells": [
  {
   "cell_type": "markdown",
   "metadata": {},
   "source": [
    "## Unit 2.1.4 Working with Files"
   ]
  },
  {
   "cell_type": "markdown",
   "metadata": {},
   "source": [
    "### CSVs\n",
    "Pandas read_csv() method takes a string representing the path to the file you want to read and returns the data frame object.  To output a data to a csv file, use .to_csv().  There are optional keyword arguments for both functions that allow you to tweak things."
   ]
  },
  {
   "cell_type": "code",
   "execution_count": 4,
   "metadata": {},
   "outputs": [
    {
     "name": "stdout",
     "output_type": "stream",
     "text": [
      "  Unnamed: 0 country  ad_views  items_purchased\n",
      "0     George      US        16                2\n",
      "1       John     CAN        42                1\n",
      "2     Thomas     CAN        32                0\n",
      "3      James      US        13                8\n",
      "4     Andrew     CAN        63                0\n",
      "5     Martin      US        19                5\n",
      "6    William      US        65                7\n",
      "7    Zachary      US        23                3\n",
      "8    Millard     CAN        16                0\n",
      "9   Franklin      US        77                5\n"
     ]
    }
   ],
   "source": [
    "import pandas as pd\n",
    "\n",
    "#File must be in the same file as jupyter notebook, otherwise you need to input file path.\n",
    "df = pd.read_csv('purchases.csv')\n",
    "print(df)"
   ]
  },
  {
   "cell_type": "markdown",
   "metadata": {},
   "source": [
    "purchases.csv looks like this:\n",
    "\n",
    ",country,ad_views,items_purchased\n",
    "\n",
    "George,US,16,2\n",
    "\n",
    "John,CAN,42,1\n",
    "\n",
    "Thomas,CAN,32,0\n",
    "\n",
    "James,US,13,8\n",
    "\n",
    "Andrew,CAN,63,0\n",
    "\n",
    "Martin,US,19,5\n",
    "\n",
    "William,US,65,7\n",
    "\n",
    "Zachary,US,23,3\n",
    "\n",
    "Millard,CAN,16,0\n",
    "\n",
    "Franklin,US,77,5\n"
   ]
  },
  {
   "cell_type": "code",
   "execution_count": 13,
   "metadata": {},
   "outputs": [],
   "source": [
    "#creates a csv file of df called my_data in folder\n",
    "df.to_csv('/Users/joannelin410/Desktop/my_data.csv')"
   ]
  },
  {
   "cell_type": "markdown",
   "metadata": {},
   "source": [
    "### JSON - JavaScript Object Notation\n",
    "\n",
    "JSON and XML files allow for more customizable and flexible data storage.  They are known as semi-structured files.\n",
    "The flexibility of semi-structured data often comes with additional complexity.  JSON data can be deeply nested and many take substantial processing before you can get it in to the form you want to work with.\n",
    "\n",
    "JSON is a way to represent a JavaScript object as a string.  \"Objects\" in JavaScript are collections of key-value pairs, like dictionaries in Python.  \n",
    "\n",
    "You can create a data frame from a JSON file with read_json()"
   ]
  },
  {
   "cell_type": "markdown",
   "metadata": {},
   "source": [
    "purchases.json looks like this:\n",
    "\n",
    "{\n",
    "  \"Unnamed: 0\":{\n",
    "    \"0\":\"George\",\n",
    "    \"1\":\"John\",\n",
    "    \"2\":\"Thomas\",\n",
    "    \"3\":\"James\",\n",
    "    \"4\":\"Andrew\",\n",
    "    \"5\":\"Martin\",\n",
    "    \"6\":\"William\",\n",
    "    \"7\":\"Zachary\",\n",
    "    \"8\":\"Millard\",\n",
    "    \"9\":\"Franklin\"\n",
    "  },\n",
    "  \"country\":{\n",
    "    \"0\":\"US\",\n",
    "    \"1\":\"CAN\",\n",
    "    \"2\":\"CAN\",\n",
    "    \"3\":\"US\",\n",
    "    \"4\":\"CAN\",\n",
    "    \"5\":\"US\",\n",
    "    \"6\":\"US\",\n",
    "    \"7\":\"US\",\n",
    "    \"8\":\"CAN\",\n",
    "    \"9\":\"US\"\n",
    "  },\"ad_views\":{\n",
    "    \"0\":16,\n",
    "    \"1\":42,\n",
    "    \"2\":32,\n",
    "    \"3\":13,\n",
    "    \"4\":63,\n",
    "    \"5\":19,\n",
    "    \"6\":65,\n",
    "    \"7\":23,\n",
    "    \"8\":16,\n",
    "    \"9\":77\n",
    "  },\n",
    "  \"items_purchased\":{\n",
    "    \"0\":2,\n",
    "    \"1\":1,\n",
    "    \"2\":0,\n",
    "    \"3\":8,\n",
    "    \"4\":0,\n",
    "    \"5\":5,\n",
    "    \"6\":7,\n",
    "    \"7\":3,\n",
    "    \"8\":0,\n",
    "    \"9\":5\n",
    "  }\n",
    "}"
   ]
  },
  {
   "cell_type": "code",
   "execution_count": 16,
   "metadata": {},
   "outputs": [
    {
     "name": "stdout",
     "output_type": "stream",
     "text": [
      "  Unnamed: 0  ad_views country  items_purchased\n",
      "0     George        16      US                2\n",
      "1       John        42     CAN                1\n",
      "2     Thomas        32     CAN                0\n",
      "3      James        13      US                8\n",
      "4     Andrew        63     CAN                0\n",
      "5     Martin        19      US                5\n",
      "6    William        65      US                7\n",
      "7    Zachary        23      US                3\n",
      "8    Millard        16     CAN                0\n",
      "9   Franklin        77      US                5\n"
     ]
    }
   ],
   "source": [
    "df = pd.read_json('purchases.json')\n",
    "print(df)"
   ]
  },
  {
   "cell_type": "markdown",
   "metadata": {},
   "source": [
    "You can normalize a nested JSON into a flat table using pandas.io.json.json_normalize(). See here: http://pandas.pydata.org/pandas-docs/stable/io.html#normalization\n",
    "\n",
    "You can output your dataframe as a JSON file using .to_json."
   ]
  },
  {
   "cell_type": "markdown",
   "metadata": {},
   "source": [
    "### XML\n",
    "XML, or \"eXtensible Markup Language\", is a hierarchical semi-structured data format, like JSON.  They are both widely used to transder data over the web.  The newer JSON format is more common than older, clunkier XML.  \n",
    "\n",
    "Pandas does not have an XML equivalent to read_csv() and read_json, so we use the xml module from the Python Standard Library to read in XML files and convert them to an element tree.  Then we can manually process the element tree into a list that we can feed into pandas.\n",
    "\n",
    "Read more about element trees here: https://docs.python.org/3.6/library/xml.etree.elementtree.html\n",
    "\n",
    "When generating data files, you should probably avoid XML because it takes more work to process.  "
   ]
  },
  {
   "cell_type": "code",
   "execution_count": 19,
   "metadata": {},
   "outputs": [
    {
     "name": "stdout",
     "output_type": "stream",
     "text": [
      "          0    1   2  3\n",
      "0    George   US  16  2\n",
      "1      John  CAN  42  1\n",
      "2    Thomas  CAN  32  0\n",
      "3     James   US  13  8\n",
      "4    Andrew  CAN  63  0\n",
      "5    Martin   US  19  5\n",
      "6   William   US  65  7\n",
      "7   Zachary   US  23  3\n",
      "8   Millard  CAN  16  0\n",
      "9  Franklin   US  77  5\n"
     ]
    }
   ],
   "source": [
    "# Import Pandas and a part of the xml module.\n",
    "import pandas\n",
    "import xml.etree.ElementTree as ET\n",
    "\n",
    "\n",
    "# Load and parse the XML file into a tree.\n",
    "tree = ET.parse('purchases.xml')\n",
    "\n",
    "# Find the root of the tree. This is the node of the tree where we'll\n",
    "# start our iteration.\n",
    "root = tree.getroot()\n",
    "\n",
    "# Define a custom function to loop over our tree, extract values, and\n",
    "# return a two-dimensional list. \n",
    "#If you are working with a differently structured XML, then you'll need\n",
    "# to iterate over your XML tree differently\n",
    "\n",
    "def xml_to_list(root):\n",
    "    result = []\n",
    "    for row in root:\n",
    "        row_list = []\n",
    "        for column in row:\n",
    "            row_list.append(column.text)\n",
    "        result.append(row_list)\n",
    "    return result\n",
    "    \n",
    "# Feed our two-dimensional list into Pandas.\n",
    "df = pandas.DataFrame(xml_to_list(root))\n",
    "print(df)\n"
   ]
  },
  {
   "cell_type": "markdown",
   "metadata": {},
   "source": [
    "### Python open()\n",
    "Python offers a more general-purpose way to open any files with open() function."
   ]
  },
  {
   "cell_type": "code",
   "execution_count": 23,
   "metadata": {},
   "outputs": [
    {
     "name": "stdout",
     "output_type": "stream",
     "text": [
      "This file is 19 lines long\n",
      "Beautiful is better than ugly.\n",
      "\n",
      "Explicit is better than implicit.\n",
      "\n",
      "Simple is better than complex.\n",
      "\n",
      "Complex is better than complicated.\n",
      "\n",
      "Flat is better than nested.\n",
      "\n",
      "Sparse is better than dense.\n",
      "\n",
      "Readability counts.\n",
      "\n",
      "Special cases aren't special enough to break the rules.\n",
      "\n",
      "Although practicality beats purity.\n",
      "\n",
      "Errors should never pass silently.\n",
      "\n",
      "Unless explicitly silenced.\n",
      "\n",
      "In the face of ambiguity, refuse the temptation to guess.\n",
      "\n",
      "There should be one-- and preferably only one --obvious way to do it.\n",
      "\n",
      "Although that way may not be obvious at first unless you're Dutch.\n",
      "\n",
      "Now is better than never.\n",
      "\n",
      "Although never is often better than *right* now.\n",
      "\n",
      "If the implementation is hard to explain, it's a bad idea.\n",
      "\n",
      "If the implementation is easy to explain, it may be a good idea.\n",
      "\n",
      "Namespaces are one honking great idea -- let's do more of those!\n"
     ]
    }
   ],
   "source": [
    "# Let's open the poem.txt file, create a file object, and print out the\n",
    "# file text line by line.\n",
    "\n",
    "with open('poem.txt') as poem_file:\n",
    "    text = poem_file.readlines()\n",
    "    print(\"This file is {} lines long\".format(len(text)))\n",
    "    for line in text:\n",
    "        print(line)\n",
    "\n"
   ]
  },
  {
   "cell_type": "markdown",
   "metadata": {},
   "source": [
    "open() creates a <b>file object</b>. The .readlines() method of the file object creates a list of strings, where each element of the list is a line of text from the input file.  Learn more here: https://docs.python.org/3/library/io.html#i-o-base-classes\n",
    "\n",
    "open() will leave the file open until you close it.  .close() file object method closes the file.  Keeping a file open can keep resources tied up and cause unexpected trouble.  Using the \"with\" statement above means you don't have to remember to use .close(), because files opened in \"with\" statement automatically closes once \"with\" statement exits.  \n",
    "\n",
    "** Use \"with\" when manually opening files is best practice!!!"
   ]
  },
  {
   "cell_type": "markdown",
   "metadata": {},
   "source": [
    "### A word about encoding\n",
    "\n",
    "All strings in Python 3 are <b>Unicode</b> strings, and UTF-8 is the default encoding Python uses whenever possible.\n",
    "\n",
    "However, files may be created under a different encoding, and it is not possible to automatically determine a file's encoding and decode it correctly.  You need to make educated guesses about the likely encoding and use trial and error to test.\n",
    "\n",
    "English-language Microsoft Windows uses cp152 encoding, Cyrillic Windows uses cp1251, etc.  Microsoft Windows is a big culprit in encoding problems.\n",
    "\n",
    "Read about the history of Unicode here: https://docs.python.org/3/howto/unicode.html"
   ]
  },
  {
   "cell_type": "code",
   "execution_count": null,
   "metadata": {},
   "outputs": [],
   "source": []
  }
 ],
 "metadata": {
  "kernelspec": {
   "display_name": "Python 3",
   "language": "python",
   "name": "python3"
  },
  "language_info": {
   "codemirror_mode": {
    "name": "ipython",
    "version": 3
   },
   "file_extension": ".py",
   "mimetype": "text/x-python",
   "name": "python",
   "nbconvert_exporter": "python",
   "pygments_lexer": "ipython3",
   "version": "3.4.3"
  }
 },
 "nbformat": 4,
 "nbformat_minor": 2
}
