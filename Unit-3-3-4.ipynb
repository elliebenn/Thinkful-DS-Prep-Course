{
 "cells": [
  {
   "cell_type": "markdown",
   "metadata": {},
   "source": [
    "## DRILL - Descriptive Statistics and Normality\n",
    "\n",
    "To complete the following drills, you'll need to use your Python skills to create some datasets, then use your new statistical knowledge to summarize them. Choose 6 distributions from the list of random distributions available in NumPy, called [Distributions](https://docs.scipy.org/doc/numpy/reference/routines.random.html#distributions)\n"
   ]
  },
  {
   "cell_type": "code",
   "execution_count": 1,
   "metadata": {},
   "outputs": [],
   "source": [
    "import numpy as np\n",
    "import pandas as pd\n",
    "import matplotlib.pyplot as plt\n",
    "%matplotlib inline"
   ]
  },
  {
   "cell_type": "code",
   "execution_count": 39,
   "metadata": {},
   "outputs": [],
   "source": [
    "def histgen(dist, color):\n",
    "    plt.hist(dist, color = color)\n",
    "    \n",
    "    # Add a vertical line at the mean.\n",
    "    plt.axvline(dist.mean(), color='b', linestyle='solid', linewidth=2)\n",
    "\n",
    "    # Add a vertical line at one standard deviation above the mean.\n",
    "    plt.axvline(dist.mean() + dist.std(), color='b', linestyle='dashed', linewidth=2)\n",
    "\n",
    "    # Add a vertical line at one standard deviation below the mean.\n",
    "    plt.axvline(dist.mean() - dist.std(), color='b', linestyle='dashed', linewidth=2) \n",
    "\n",
    "    plt.show()\n",
    "    \n",
    "    print('Mean: ',dist.mean())\n",
    "    \n",
    "    print('Standard Deviation: ',dist.std())\n",
    "    "
   ]
  },
  {
   "cell_type": "code",
   "execution_count": 42,
   "metadata": {},
   "outputs": [
    {
     "data": {
      "image/png": "[encoded data removed]",
      "text/plain": [
       "<matplotlib.figure.Figure at 0x108cebf60>"
      ]
     },
     "metadata": {},
     "output_type": "display_data"
    },
    {
     "name": "stdout",
     "output_type": "stream",
     "text": [
      "Mean:  9.74\n",
      "Standard Deviation:  2.15230109418\n"
     ]
    }
   ],
   "source": [
    "# Binomial\n",
    "\n",
    "binomial = np.random.binomial(20, 0.5,100)\n",
    "\n",
    "histgen(binomial, 'y')"
   ]
  },
  {
   "cell_type": "markdown",
   "metadata": {},
   "source": [
    "Yes, the descriptive statistics provide useful information for the binomial distribution.  It is about normally distributed."
   ]
  },
  {
   "cell_type": "code",
   "execution_count": 119,
   "metadata": {},
   "outputs": [
    {
     "data": {
      "image/png": "[encoded data removed]",
      "text/plain": [
       "<matplotlib.figure.Figure at 0x108fbe5c0>"
      ]
     },
     "metadata": {},
     "output_type": "display_data"
    },
    {
     "name": "stdout",
     "output_type": "stream",
     "text": [
      "Mean:  2.83\n",
      "Standard Deviation:  2.1215796002\n"
     ]
    }
   ],
   "source": [
    "# Poisson\n",
    "\n",
    "# lambda set at rate 3 events occuring during a given time period\n",
    "poisson = np.random.poisson(3,100)\n",
    "\n",
    "histgen(poisson, 'aquamarine')"
   ]
  },
  {
   "cell_type": "markdown",
   "metadata": {},
   "source": [
    "The descriptive statistics do not provide useful information for the poisson distribution.  This variable is not normally distributed and is skewed to the right. "
   ]
  },
  {
   "cell_type": "code",
   "execution_count": 121,
   "metadata": {},
   "outputs": [
    {
     "data": {
      "image/png": "[encoded data removed]",
      "text/plain": [
       "<matplotlib.figure.Figure at 0x109108ef0>"
      ]
     },
     "metadata": {},
     "output_type": "display_data"
    },
    {
     "name": "stdout",
     "output_type": "stream",
     "text": [
      "Mean:  19.79\n",
      "Standard Deviation:  4.33888234457\n"
     ]
    }
   ],
   "source": [
    "# Poisson\n",
    "\n",
    "# lambda set at rate 20 events occuring during a given time period\n",
    "poisson2 = np.random.poisson(20,100)\n",
    "\n",
    "histgen(poisson2, 'goldenrod')"
   ]
  },
  {
   "cell_type": "markdown",
   "metadata": {},
   "source": [
    "At higher lambdas, the poisson distribution approaches normal.  Descriptive statistics do provide useful information in this case.\n",
    "\n",
    "Note that Poisson is based on continuous events (infinite attemps with infinitesimal chance of success) while Binomial is based on discrete events (n attempts with p probability of success).  Therefore, Poisson distribution is used to model occurences of events that could happen a very large number of times, but happen rarely (large n, small p), especially when the exact values of n and p are unknown."
   ]
  },
  {
   "cell_type": "code",
   "execution_count": 122,
   "metadata": {},
   "outputs": [
    {
     "data": {
      "image/png": "[encoded data removed]",
      "text/plain": [
       "<matplotlib.figure.Figure at 0x10914eb00>"
      ]
     },
     "metadata": {},
     "output_type": "display_data"
    },
    {
     "name": "stdout",
     "output_type": "stream",
     "text": [
      "Mean:  2.34\n",
      "Standard Deviation:  1.4981321704\n"
     ]
    }
   ],
   "source": [
    "#Geometric\n",
    "\n",
    "geometric = np.random.geometric(.5,100)\n",
    "\n",
    "histgen(geometric, 'maroon')"
   ]
  },
  {
   "cell_type": "markdown",
   "metadata": {},
   "source": [
    "Geometric distribution is skewed to the right, therefore the mean and standard deviation do not provide usedul information. "
   ]
  },
  {
   "cell_type": "code",
   "execution_count": 132,
   "metadata": {},
   "outputs": [
    {
     "data": {
      "image/png": "[encoded data removed]",
      "text/plain": [
       "<matplotlib.figure.Figure at 0x108ca4fd0>"
      ]
     },
     "metadata": {},
     "output_type": "display_data"
    },
    {
     "name": "stdout",
     "output_type": "stream",
     "text": [
      "Mean:  6.66666666667\n",
      "Standard Deviation:  4.29444085094\n"
     ]
    }
   ],
   "source": [
    "#Multinomial\n",
    "\n",
    "multinomial = np.random.multinomial(20,[1.0 / 10, 3.0 / 10, 3.0 / 5],100)\n",
    "\n",
    "histgen(multinomial, ['red','pink','orange'])"
   ]
  },
  {
   "cell_type": "markdown",
   "metadata": {},
   "source": [
    "Multinomial contains multiple distributions, so the summary statistics are not very helpful here."
   ]
  },
  {
   "cell_type": "code",
   "execution_count": 133,
   "metadata": {},
   "outputs": [
    {
     "data": {
      "image/png": "[encoded data removed]",
      "text/plain": [
       "<matplotlib.figure.Figure at 0x108fe7588>"
      ]
     },
     "metadata": {},
     "output_type": "display_data"
    },
    {
     "name": "stdout",
     "output_type": "stream",
     "text": [
      "Mean:  0.895659017281\n",
      "Standard Deviation:  0.213706758556\n"
     ]
    }
   ],
   "source": [
    "#Weibull\n",
    "\n",
    "weibull = np.random.weibull(5,100)\n",
    "\n",
    "histgen(weibull, 'lavender')"
   ]
  },
  {
   "cell_type": "markdown",
   "metadata": {},
   "source": [
    "Weibull looks to be normally distributed, therefore the mean and standard deviation are useful statistics."
   ]
  },
  {
   "cell_type": "code",
   "execution_count": 139,
   "metadata": {},
   "outputs": [
    {
     "data": {
      "image/png": "[encoded data removed]",
      "text/plain": [
       "<matplotlib.figure.Figure at 0x108d49550>"
      ]
     },
     "metadata": {},
     "output_type": "display_data"
    },
    {
     "name": "stdout",
     "output_type": "stream",
     "text": [
      "Mean:  0.376728502752\n",
      "Standard Deviation:  0.459675109716\n"
     ]
    }
   ],
   "source": [
    "# Pareto\n",
    "\n",
    "pareto = np.random.pareto(3, 100)\n",
    "\n",
    "histgen(pareto, 'tan')"
   ]
  },
  {
   "cell_type": "markdown",
   "metadata": {},
   "source": [
    "The Pareto distribution is not normal and the mean and standard deviation are not useful statistics. "
   ]
  },
  {
   "cell_type": "markdown",
   "metadata": {},
   "source": [
    "### Additionally:\n",
    " 1. Generate two normally-distributed variables, one with a mean of 5 and standard deviation of 0.5, \n",
    "and the other with a mean of 10 and standard deviation of 1.  \n",
    " 2. Add them together to create a third variable.\n",
    " 3. Graph the third variable using a histogram.\n",
    " 4. Compute the mean and standard deviation and plot them as vertical lines on the histogram.\n",
    " 5. Evaluate the descriptive statistics against the data"
   ]
  },
  {
   "cell_type": "code",
   "execution_count": 148,
   "metadata": {},
   "outputs": [
    {
     "data": {
      "image/png": "[encoded data removed]",
      "text/plain": [
       "<matplotlib.figure.Figure at 0x108be7828>"
      ]
     },
     "metadata": {},
     "output_type": "display_data"
    },
    {
     "name": "stdout",
     "output_type": "stream",
     "text": [
      "Mean:  14.9637320913\n",
      "Standard Deviation:  1.08811166924\n"
     ]
    }
   ],
   "source": [
    "var1 = np.random.normal(5, 0.5, 100)\n",
    "var2 = np.random.normal(10, 1, 100)\n",
    "var3 = var1 + var2\n",
    "\n",
    "histgen(var3, 'silver')"
   ]
  },
  {
   "cell_type": "markdown",
   "metadata": {},
   "source": [
    "Looks like the distribution is skewed to the right."
   ]
  },
  {
   "cell_type": "code",
   "execution_count": null,
   "metadata": {},
   "outputs": [],
   "source": []
  }
 ],
 "metadata": {
  "kernelspec": {
   "display_name": "Python 3",
   "language": "python",
   "name": "python3"
  },
  "language_info": {
   "codemirror_mode": {
    "name": "ipython",
    "version": 3
   },
   "file_extension": ".py",
   "mimetype": "text/x-python",
   "name": "python",
   "nbconvert_exporter": "python",
   "pygments_lexer": "ipython3",
   "version": "3.4.3"
  }
 },
 "nbformat": 4,
 "nbformat_minor": 2
}
