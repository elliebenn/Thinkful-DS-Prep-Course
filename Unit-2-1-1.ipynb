{
 "cells": [
  {
   "cell_type": "markdown",
   "metadata": {},
   "source": [
    "### Unit 2.1.1 NumPy"
   ]
  },
  {
   "cell_type": "code",
   "execution_count": 8,
   "metadata": {},
   "outputs": [],
   "source": [
    "import numpy as np"
   ]
  },
  {
   "cell_type": "code",
   "execution_count": 7,
   "metadata": {},
   "outputs": [
    {
     "data": {
      "text/plain": [
       "array([0, 1, 2, 3])"
      ]
     },
     "execution_count": 7,
     "metadata": {},
     "output_type": "execute_result"
    }
   ],
   "source": [
    "x = np.array([0,1,2,3])\n",
    "x"
   ]
  },
  {
   "cell_type": "code",
   "execution_count": 4,
   "metadata": {},
   "outputs": [
    {
     "data": {
      "text/plain": [
       "array([[0, 1, 2, 3],\n",
       "       [4, 5, 6, 7]])"
      ]
     },
     "execution_count": 4,
     "metadata": {},
     "output_type": "execute_result"
    }
   ],
   "source": [
    "#Adding dimensions to array manually\n",
    "w = np.array([[0,1,2,3],[4,5,6,7]])\n",
    "w"
   ]
  },
  {
   "cell_type": "code",
   "execution_count": 5,
   "metadata": {},
   "outputs": [
    {
     "data": {
      "text/plain": [
       "array([[0, 1, 2, 3],\n",
       "       [4, 5, 6, 7]])"
      ]
     },
     "execution_count": 5,
     "metadata": {},
     "output_type": "execute_result"
    }
   ],
   "source": [
    "#Adding dimensions to array with np.arange() and np.reshape().\n",
    "##For array range (arange) starting from 0 to 8, not including 8, create two four-item arrays.\n",
    "y = np.arange(8).reshape(2,4)\n",
    "y"
   ]
  },
  {
   "cell_type": "code",
   "execution_count": 11,
   "metadata": {},
   "outputs": [
    {
     "name": "stdout",
     "output_type": "stream",
     "text": [
      "[0 1 4 9]\n",
      "[ 0.          1.          1.41421356  1.73205081]\n",
      "[ 1.          0.54030231 -0.41614684 -0.9899925 ]\n"
     ]
    }
   ],
   "source": [
    "#Element-wise functions processes array elements one at a tie and then returns a new array.  \n",
    "#Use element-wise functions when you want to transform each individual element in an array \n",
    "#   and get back a collection of all results\n",
    "\n",
    "x = np.array([0,1,2,3])\n",
    "\n",
    "#Square each value\n",
    "print(np.square(x))\n",
    "\n",
    "#Square root each value\n",
    "print(np.sqrt(x))\n",
    "\n",
    "#Cosine of each value\n",
    "print(np.cos(x))\n",
    "\n",
    "#These methods return arrays the same length as the input array.  "
   ]
  },
  {
   "cell_type": "code",
   "execution_count": 12,
   "metadata": {},
   "outputs": [
    {
     "name": "stdout",
     "output_type": "stream",
     "text": [
      "3\n",
      "0\n",
      "1.5\n",
      "1.11803398875\n"
     ]
    }
   ],
   "source": [
    "#Aggregator functions aggregate elements of an array to return a single value\n",
    "x = np.array([0,1,2,3])\n",
    "\n",
    "#Find the max value\n",
    "print(np.max(x))\n",
    "\n",
    "#Find min value\n",
    "print(np.min(x))\n",
    "\n",
    "#Find mean of input array\n",
    "print(np.mean(x))\n",
    "\n",
    "#Find standard deviation of input array\n",
    "print(np.std(x))"
   ]
  },
  {
   "cell_type": "code",
   "execution_count": null,
   "metadata": {},
   "outputs": [],
   "source": []
  }
 ],
 "metadata": {
  "kernelspec": {
   "display_name": "Python 3",
   "language": "python",
   "name": "python3"
  },
  "language_info": {
   "codemirror_mode": {
    "name": "ipython",
    "version": 3
   },
   "file_extension": ".py",
   "mimetype": "text/x-python",
   "name": "python",
   "nbconvert_exporter": "python",
   "pygments_lexer": "ipython3",
   "version": "3.4.3"
  }
 },
 "nbformat": 4,
 "nbformat_minor": 2
}
