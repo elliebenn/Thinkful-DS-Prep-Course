{
 "cells": [
  {
   "cell_type": "markdown",
   "metadata": {},
   "source": [
    "## Evaluating Data Sources\n",
    "\n",
    "In each of the scenarios, find possible shortcomings of the data sources to answer the given question. What could be done to either adjust the analysis or reframe the question so that you can answer it accurately?"
   ]
  },
  {
   "cell_type": "markdown",
   "metadata": {},
   "source": [
    "#### Data Source: Amsterdam availability data scraped from AirBnB on December 24th. Question: What are the popular neighborhoods in Amsterdam?\n",
    "\n",
    "Reframe the question:  Popular for whom?  If popularity refers to residency, then sampling from AirBnB biases the data toward tourists.  A \"popular neightborhood\" for tourists is dependent on cost, locations of shopping or night life, access to metro lines, distance from tourist attractions. etc.  A popular neighborhood for residents factors in location and quality of schools and parks, nearest grocery stores, safety, commute times from work, etc.  \n",
    "\n",
    "December 24th is also Christmas Evem which is a exceptional circumstance.  There may be more tourists at this time, or there are less AirBnBs available as people are spending their time with family.  It would be useful to look at other dates when determinine nieghborhood popularity. "
   ]
  },
  {
   "cell_type": "markdown",
   "metadata": {},
   "source": [
    "#### Data Source: Mental health services use on September 12, 2001 in San Francisco, CA and New York City, NY. Question: How do patterns of mental health service use vary between cities?\n",
    "\n",
    "September 12, 2001 is the day after 9/11.  On this day, the patterns mental health services for New York, where the event took place, is going to look vastly different than San Francisco.  9/11 is an exceptional circumstance.  To compare patterns of mental health services between cities, you would want to look at additional dates as well as additional cities"
   ]
  },
  {
   "cell_type": "markdown",
   "metadata": {},
   "source": [
    "#### Data Source: Armenian Pub Survey. Question: What are the most common reasons Armenians visit local pubs\n",
    "\n",
    "This survey, designed and conducted by university students, is biased towards Armenian college students, whose reasons for visiting the pub may be different than, say, full-time workers.  This survey was also given online, which excludes Armenians who don't use or have access to the Internet (i.e. low income individuals).  I would limit my conclusions to the most common reasons Armenian college students visit local pubs, or expand the sample population beyond college students."
   ]
  },
  {
   "cell_type": "code",
   "execution_count": null,
   "metadata": {},
   "outputs": [],
   "source": []
  }
 ],
 "metadata": {
  "kernelspec": {
   "display_name": "Python 3",
   "language": "python",
   "name": "python3"
  },
  "language_info": {
   "codemirror_mode": {
    "name": "ipython",
    "version": 3
   },
   "file_extension": ".py",
   "mimetype": "text/x-python",
   "name": "python",
   "nbconvert_exporter": "python",
   "pygments_lexer": "ipython3",
   "version": "3.4.3"
  }
 },
 "nbformat": 4,
 "nbformat_minor": 2
}
