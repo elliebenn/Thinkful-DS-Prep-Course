{
 "cells": [
  {
   "cell_type": "markdown",
   "metadata": {},
   "source": [
    "## Where does it pay to go to college?\n",
    "\n",
    "For my capstone project, I will be analyzing data on starting and mid-career salaries for students that have gone to different types of colleges:  Engineering, Ivy League, Liberal Arts, Party, and State. "
   ]
  },
  {
   "cell_type": "code",
   "execution_count": 12,
   "metadata": {},
   "outputs": [],
   "source": [
    "# Importing libraries\n",
    "import pandas as pd\n",
    "import numpy as np\n",
    "import matplotlib.pyplot as plt\n",
    "from scipy import stats\n",
    "%matplotlib inline"
   ]
  },
  {
   "cell_type": "code",
   "execution_count": 2,
   "metadata": {},
   "outputs": [],
   "source": [
    "# Loading files\n",
    "degrees = pd.read_csv('capstone-data/degrees-that-pay-back.csv')\n",
    "college = pd.read_csv('capstone-data/salaries-by-college-type.csv')\n",
    "region = pd.read_csv('capstone-data/salaries-by-region.csv')"
   ]
  },
  {
   "cell_type": "markdown",
   "metadata": {},
   "source": [
    "### Describe the dataset"
   ]
  },
  {
   "cell_type": "code",
   "execution_count": 3,
   "metadata": {},
   "outputs": [
    {
     "data": {
      "text/html": [
       "<div>\n",
       "<style>\n",
       "    .dataframe thead tr:only-child th {\n",
       "        text-align: right;\n",
       "    }\n",
       "\n",
       "    .dataframe thead th {\n",
       "        text-align: left;\n",
       "    }\n",
       "\n",
       "    .dataframe tbody tr th {\n",
       "        vertical-align: top;\n",
       "    }\n",
       "</style>\n",
       "<table border=\"1\" class=\"dataframe\">\n",
       "  <thead>\n",
       "    <tr style=\"text-align: right;\">\n",
       "      <th></th>\n",
       "      <th>School Name</th>\n",
       "      <th>School Type</th>\n",
       "      <th>Starting Median Salary</th>\n",
       "      <th>Mid-Career Median Salary</th>\n",
       "      <th>Mid-Career 10th Percentile Salary</th>\n",
       "      <th>Mid-Career 25th Percentile Salary</th>\n",
       "      <th>Mid-Career 75th Percentile Salary</th>\n",
       "      <th>Mid-Career 90th Percentile Salary</th>\n",
       "    </tr>\n",
       "  </thead>\n",
       "  <tbody>\n",
       "    <tr>\n",
       "      <th>count</th>\n",
       "      <td>269</td>\n",
       "      <td>269</td>\n",
       "      <td>269</td>\n",
       "      <td>269</td>\n",
       "      <td>231</td>\n",
       "      <td>269</td>\n",
       "      <td>269</td>\n",
       "      <td>231</td>\n",
       "    </tr>\n",
       "    <tr>\n",
       "      <th>unique</th>\n",
       "      <td>249</td>\n",
       "      <td>5</td>\n",
       "      <td>145</td>\n",
       "      <td>168</td>\n",
       "      <td>141</td>\n",
       "      <td>178</td>\n",
       "      <td>110</td>\n",
       "      <td>98</td>\n",
       "    </tr>\n",
       "    <tr>\n",
       "      <th>top</th>\n",
       "      <td>University of Florida (UF)</td>\n",
       "      <td>State</td>\n",
       "      <td>$42,600.00</td>\n",
       "      <td>$72,100.00</td>\n",
       "      <td>$40,100.00</td>\n",
       "      <td>$54,100.00</td>\n",
       "      <td>$106,000.00</td>\n",
       "      <td>$150,000.00</td>\n",
       "    </tr>\n",
       "    <tr>\n",
       "      <th>freq</th>\n",
       "      <td>2</td>\n",
       "      <td>175</td>\n",
       "      <td>7</td>\n",
       "      <td>5</td>\n",
       "      <td>6</td>\n",
       "      <td>6</td>\n",
       "      <td>11</td>\n",
       "      <td>8</td>\n",
       "    </tr>\n",
       "  </tbody>\n",
       "</table>\n",
       "</div>"
      ],
      "text/plain": [
       "                       School Name School Type Starting Median Salary  \\\n",
       "count                          269         269                    269   \n",
       "unique                         249           5                    145   \n",
       "top     University of Florida (UF)       State             $42,600.00   \n",
       "freq                             2         175                      7   \n",
       "\n",
       "       Mid-Career Median Salary Mid-Career 10th Percentile Salary  \\\n",
       "count                       269                               231   \n",
       "unique                      168                               141   \n",
       "top                  $72,100.00                        $40,100.00   \n",
       "freq                          5                                 6   \n",
       "\n",
       "       Mid-Career 25th Percentile Salary Mid-Career 75th Percentile Salary  \\\n",
       "count                                269                               269   \n",
       "unique                               178                               110   \n",
       "top                           $54,100.00                       $106,000.00   \n",
       "freq                                   6                                11   \n",
       "\n",
       "       Mid-Career 90th Percentile Salary  \n",
       "count                                231  \n",
       "unique                                98  \n",
       "top                          $150,000.00  \n",
       "freq                                   8  "
      ]
     },
     "execution_count": 3,
     "metadata": {},
     "output_type": "execute_result"
    }
   ],
   "source": [
    "# Summary statistics of college dataset\n",
    "college.describe()"
   ]
  },
  {
   "cell_type": "code",
   "execution_count": 4,
   "metadata": {},
   "outputs": [
    {
     "data": {
      "text/html": [
       "<div>\n",
       "<style>\n",
       "    .dataframe thead tr:only-child th {\n",
       "        text-align: right;\n",
       "    }\n",
       "\n",
       "    .dataframe thead th {\n",
       "        text-align: left;\n",
       "    }\n",
       "\n",
       "    .dataframe tbody tr th {\n",
       "        vertical-align: top;\n",
       "    }\n",
       "</style>\n",
       "<table border=\"1\" class=\"dataframe\">\n",
       "  <thead>\n",
       "    <tr style=\"text-align: right;\">\n",
       "      <th></th>\n",
       "      <th>name</th>\n",
       "      <th>type</th>\n",
       "      <th>start_med</th>\n",
       "      <th>mid_med</th>\n",
       "      <th>mid_p10</th>\n",
       "      <th>mid_p25</th>\n",
       "      <th>mid_p75</th>\n",
       "      <th>mid_p90</th>\n",
       "    </tr>\n",
       "  </thead>\n",
       "  <tbody>\n",
       "    <tr>\n",
       "      <th>0</th>\n",
       "      <td>Massachusetts Institute of Technology (MIT)</td>\n",
       "      <td>Engineering</td>\n",
       "      <td>$72,200.00</td>\n",
       "      <td>$126,000.00</td>\n",
       "      <td>$76,800.00</td>\n",
       "      <td>$99,200.00</td>\n",
       "      <td>$168,000.00</td>\n",
       "      <td>$220,000.00</td>\n",
       "    </tr>\n",
       "    <tr>\n",
       "      <th>1</th>\n",
       "      <td>California Institute of Technology (CIT)</td>\n",
       "      <td>Engineering</td>\n",
       "      <td>$75,500.00</td>\n",
       "      <td>$123,000.00</td>\n",
       "      <td>NaN</td>\n",
       "      <td>$104,000.00</td>\n",
       "      <td>$161,000.00</td>\n",
       "      <td>NaN</td>\n",
       "    </tr>\n",
       "    <tr>\n",
       "      <th>2</th>\n",
       "      <td>Harvey Mudd College</td>\n",
       "      <td>Engineering</td>\n",
       "      <td>$71,800.00</td>\n",
       "      <td>$122,000.00</td>\n",
       "      <td>NaN</td>\n",
       "      <td>$96,000.00</td>\n",
       "      <td>$180,000.00</td>\n",
       "      <td>NaN</td>\n",
       "    </tr>\n",
       "    <tr>\n",
       "      <th>3</th>\n",
       "      <td>Polytechnic University of New York, Brooklyn</td>\n",
       "      <td>Engineering</td>\n",
       "      <td>$62,400.00</td>\n",
       "      <td>$114,000.00</td>\n",
       "      <td>$66,800.00</td>\n",
       "      <td>$94,300.00</td>\n",
       "      <td>$143,000.00</td>\n",
       "      <td>$190,000.00</td>\n",
       "    </tr>\n",
       "    <tr>\n",
       "      <th>4</th>\n",
       "      <td>Cooper Union</td>\n",
       "      <td>Engineering</td>\n",
       "      <td>$62,200.00</td>\n",
       "      <td>$114,000.00</td>\n",
       "      <td>NaN</td>\n",
       "      <td>$80,200.00</td>\n",
       "      <td>$142,000.00</td>\n",
       "      <td>NaN</td>\n",
       "    </tr>\n",
       "  </tbody>\n",
       "</table>\n",
       "</div>"
      ],
      "text/plain": [
       "                                           name         type   start_med  \\\n",
       "0   Massachusetts Institute of Technology (MIT)  Engineering  $72,200.00   \n",
       "1      California Institute of Technology (CIT)  Engineering  $75,500.00   \n",
       "2                           Harvey Mudd College  Engineering  $71,800.00   \n",
       "3  Polytechnic University of New York, Brooklyn  Engineering  $62,400.00   \n",
       "4                                  Cooper Union  Engineering  $62,200.00   \n",
       "\n",
       "       mid_med     mid_p10      mid_p25      mid_p75      mid_p90  \n",
       "0  $126,000.00  $76,800.00   $99,200.00  $168,000.00  $220,000.00  \n",
       "1  $123,000.00         NaN  $104,000.00  $161,000.00          NaN  \n",
       "2  $122,000.00         NaN   $96,000.00  $180,000.00          NaN  \n",
       "3  $114,000.00  $66,800.00   $94,300.00  $143,000.00  $190,000.00  \n",
       "4  $114,000.00         NaN   $80,200.00  $142,000.00          NaN  "
      ]
     },
     "execution_count": 4,
     "metadata": {},
     "output_type": "execute_result"
    }
   ],
   "source": [
    "# Renaming columns\n",
    "college.columns = ['name', 'type','start_med', 'mid_med', 'mid_p10', 'mid_p25', 'mid_p75', 'mid_p90']\n",
    "college.head()"
   ]
  },
  {
   "cell_type": "code",
   "execution_count": 5,
   "metadata": {},
   "outputs": [
    {
     "data": {
      "text/html": [
       "<div>\n",
       "<style>\n",
       "    .dataframe thead tr:only-child th {\n",
       "        text-align: right;\n",
       "    }\n",
       "\n",
       "    .dataframe thead th {\n",
       "        text-align: left;\n",
       "    }\n",
       "\n",
       "    .dataframe tbody tr th {\n",
       "        vertical-align: top;\n",
       "    }\n",
       "</style>\n",
       "<table border=\"1\" class=\"dataframe\">\n",
       "  <thead>\n",
       "    <tr style=\"text-align: right;\">\n",
       "      <th></th>\n",
       "      <th>name</th>\n",
       "      <th>type</th>\n",
       "      <th>start_med</th>\n",
       "      <th>mid_med</th>\n",
       "      <th>mid_p10</th>\n",
       "      <th>mid_p25</th>\n",
       "      <th>mid_p75</th>\n",
       "      <th>mid_p90</th>\n",
       "    </tr>\n",
       "  </thead>\n",
       "  <tbody>\n",
       "    <tr>\n",
       "      <th>0</th>\n",
       "      <td>Massachusetts Institute of Technology (MIT)</td>\n",
       "      <td>Engineering</td>\n",
       "      <td>72200.0</td>\n",
       "      <td>126000.0</td>\n",
       "      <td>76800.0</td>\n",
       "      <td>99200.0</td>\n",
       "      <td>168000.0</td>\n",
       "      <td>220000.0</td>\n",
       "    </tr>\n",
       "    <tr>\n",
       "      <th>1</th>\n",
       "      <td>California Institute of Technology (CIT)</td>\n",
       "      <td>Engineering</td>\n",
       "      <td>75500.0</td>\n",
       "      <td>123000.0</td>\n",
       "      <td>NaN</td>\n",
       "      <td>104000.0</td>\n",
       "      <td>161000.0</td>\n",
       "      <td>NaN</td>\n",
       "    </tr>\n",
       "    <tr>\n",
       "      <th>2</th>\n",
       "      <td>Harvey Mudd College</td>\n",
       "      <td>Engineering</td>\n",
       "      <td>71800.0</td>\n",
       "      <td>122000.0</td>\n",
       "      <td>NaN</td>\n",
       "      <td>96000.0</td>\n",
       "      <td>180000.0</td>\n",
       "      <td>NaN</td>\n",
       "    </tr>\n",
       "    <tr>\n",
       "      <th>3</th>\n",
       "      <td>Polytechnic University of New York, Brooklyn</td>\n",
       "      <td>Engineering</td>\n",
       "      <td>62400.0</td>\n",
       "      <td>114000.0</td>\n",
       "      <td>66800.0</td>\n",
       "      <td>94300.0</td>\n",
       "      <td>143000.0</td>\n",
       "      <td>190000.0</td>\n",
       "    </tr>\n",
       "    <tr>\n",
       "      <th>4</th>\n",
       "      <td>Cooper Union</td>\n",
       "      <td>Engineering</td>\n",
       "      <td>62200.0</td>\n",
       "      <td>114000.0</td>\n",
       "      <td>NaN</td>\n",
       "      <td>80200.0</td>\n",
       "      <td>142000.0</td>\n",
       "      <td>NaN</td>\n",
       "    </tr>\n",
       "  </tbody>\n",
       "</table>\n",
       "</div>"
      ],
      "text/plain": [
       "                                           name         type  start_med  \\\n",
       "0   Massachusetts Institute of Technology (MIT)  Engineering    72200.0   \n",
       "1      California Institute of Technology (CIT)  Engineering    75500.0   \n",
       "2                           Harvey Mudd College  Engineering    71800.0   \n",
       "3  Polytechnic University of New York, Brooklyn  Engineering    62400.0   \n",
       "4                                  Cooper Union  Engineering    62200.0   \n",
       "\n",
       "    mid_med  mid_p10   mid_p25   mid_p75   mid_p90  \n",
       "0  126000.0  76800.0   99200.0  168000.0  220000.0  \n",
       "1  123000.0      NaN  104000.0  161000.0       NaN  \n",
       "2  122000.0      NaN   96000.0  180000.0       NaN  \n",
       "3  114000.0  66800.0   94300.0  143000.0  190000.0  \n",
       "4  114000.0      NaN   80200.0  142000.0       NaN  "
      ]
     },
     "execution_count": 5,
     "metadata": {},
     "output_type": "execute_result"
    }
   ],
   "source": [
    "#Changing strings to ints for analysis\n",
    "\n",
    "dollar_cols = ['start_med', 'mid_med', 'mid_p10', 'mid_p25', 'mid_p75', 'mid_p90']\n",
    "\n",
    "for x in dollar_cols:\n",
    "    college[x] = college[x].str.replace(\"$\",\"\")\n",
    "    college[x] = college[x].str.replace(\",\",\"\")\n",
    "    college[x] = pd.to_numeric(college[x])\n",
    "\n",
    "college.head()"
   ]
  },
  {
   "cell_type": "code",
   "execution_count": 6,
   "metadata": {},
   "outputs": [
    {
     "data": {
      "text/html": [
       "<div>\n",
       "<style>\n",
       "    .dataframe thead tr:only-child th {\n",
       "        text-align: right;\n",
       "    }\n",
       "\n",
       "    .dataframe thead th {\n",
       "        text-align: left;\n",
       "    }\n",
       "\n",
       "    .dataframe tbody tr th {\n",
       "        vertical-align: top;\n",
       "    }\n",
       "</style>\n",
       "<table border=\"1\" class=\"dataframe\">\n",
       "  <thead>\n",
       "    <tr>\n",
       "      <th></th>\n",
       "      <th colspan=\"8\" halign=\"left\">mid_med</th>\n",
       "      <th colspan=\"2\" halign=\"left\">mid_p10</th>\n",
       "      <th>...</th>\n",
       "      <th colspan=\"2\" halign=\"left\">mid_p90</th>\n",
       "      <th colspan=\"8\" halign=\"left\">start_med</th>\n",
       "    </tr>\n",
       "    <tr>\n",
       "      <th></th>\n",
       "      <th>count</th>\n",
       "      <th>mean</th>\n",
       "      <th>std</th>\n",
       "      <th>min</th>\n",
       "      <th>25%</th>\n",
       "      <th>50%</th>\n",
       "      <th>75%</th>\n",
       "      <th>max</th>\n",
       "      <th>count</th>\n",
       "      <th>mean</th>\n",
       "      <th>...</th>\n",
       "      <th>75%</th>\n",
       "      <th>max</th>\n",
       "      <th>count</th>\n",
       "      <th>mean</th>\n",
       "      <th>std</th>\n",
       "      <th>min</th>\n",
       "      <th>25%</th>\n",
       "      <th>50%</th>\n",
       "      <th>75%</th>\n",
       "      <th>max</th>\n",
       "    </tr>\n",
       "    <tr>\n",
       "      <th>type</th>\n",
       "      <th></th>\n",
       "      <th></th>\n",
       "      <th></th>\n",
       "      <th></th>\n",
       "      <th></th>\n",
       "      <th></th>\n",
       "      <th></th>\n",
       "      <th></th>\n",
       "      <th></th>\n",
       "      <th></th>\n",
       "      <th></th>\n",
       "      <th></th>\n",
       "      <th></th>\n",
       "      <th></th>\n",
       "      <th></th>\n",
       "      <th></th>\n",
       "      <th></th>\n",
       "      <th></th>\n",
       "      <th></th>\n",
       "      <th></th>\n",
       "      <th></th>\n",
       "    </tr>\n",
       "  </thead>\n",
       "  <tbody>\n",
       "    <tr>\n",
       "      <th>Engineering</th>\n",
       "      <td>19.0</td>\n",
       "      <td>103842.105263</td>\n",
       "      <td>13840.733594</td>\n",
       "      <td>80000.0</td>\n",
       "      <td>94400.0</td>\n",
       "      <td>106000.0</td>\n",
       "      <td>114000.0</td>\n",
       "      <td>126000.0</td>\n",
       "      <td>15.0</td>\n",
       "      <td>61793.333333</td>\n",
       "      <td>...</td>\n",
       "      <td>187500.0</td>\n",
       "      <td>220000.0</td>\n",
       "      <td>19.0</td>\n",
       "      <td>59057.894737</td>\n",
       "      <td>7842.924326</td>\n",
       "      <td>46200.0</td>\n",
       "      <td>53250.0</td>\n",
       "      <td>58300.0</td>\n",
       "      <td>62000.0</td>\n",
       "      <td>75500.0</td>\n",
       "    </tr>\n",
       "    <tr>\n",
       "      <th>Ivy League</th>\n",
       "      <td>8.0</td>\n",
       "      <td>120125.000000</td>\n",
       "      <td>10412.046594</td>\n",
       "      <td>107000.0</td>\n",
       "      <td>109750.0</td>\n",
       "      <td>122000.0</td>\n",
       "      <td>127250.0</td>\n",
       "      <td>134000.0</td>\n",
       "      <td>8.0</td>\n",
       "      <td>57900.000000</td>\n",
       "      <td>...</td>\n",
       "      <td>296250.0</td>\n",
       "      <td>326000.0</td>\n",
       "      <td>8.0</td>\n",
       "      <td>60475.000000</td>\n",
       "      <td>3218.584427</td>\n",
       "      <td>56200.0</td>\n",
       "      <td>58825.0</td>\n",
       "      <td>59850.0</td>\n",
       "      <td>61525.0</td>\n",
       "      <td>66500.0</td>\n",
       "    </tr>\n",
       "    <tr>\n",
       "      <th>Liberal Arts</th>\n",
       "      <td>47.0</td>\n",
       "      <td>89378.723404</td>\n",
       "      <td>12318.172086</td>\n",
       "      <td>63900.0</td>\n",
       "      <td>80850.0</td>\n",
       "      <td>85800.0</td>\n",
       "      <td>101500.0</td>\n",
       "      <td>110000.0</td>\n",
       "      <td>14.0</td>\n",
       "      <td>47478.571429</td>\n",
       "      <td>...</td>\n",
       "      <td>214000.0</td>\n",
       "      <td>265000.0</td>\n",
       "      <td>47.0</td>\n",
       "      <td>45746.808511</td>\n",
       "      <td>4368.854743</td>\n",
       "      <td>38500.0</td>\n",
       "      <td>42250.0</td>\n",
       "      <td>45500.0</td>\n",
       "      <td>48600.0</td>\n",
       "      <td>54500.0</td>\n",
       "    </tr>\n",
       "    <tr>\n",
       "      <th>Party</th>\n",
       "      <td>20.0</td>\n",
       "      <td>84685.000000</td>\n",
       "      <td>7237.568289</td>\n",
       "      <td>73000.0</td>\n",
       "      <td>79350.0</td>\n",
       "      <td>84050.0</td>\n",
       "      <td>88975.0</td>\n",
       "      <td>96100.0</td>\n",
       "      <td>19.0</td>\n",
       "      <td>44052.631579</td>\n",
       "      <td>...</td>\n",
       "      <td>175000.0</td>\n",
       "      <td>209000.0</td>\n",
       "      <td>20.0</td>\n",
       "      <td>45715.000000</td>\n",
       "      <td>3685.715670</td>\n",
       "      <td>41300.0</td>\n",
       "      <td>42500.0</td>\n",
       "      <td>44600.0</td>\n",
       "      <td>47975.0</td>\n",
       "      <td>52900.0</td>\n",
       "    </tr>\n",
       "    <tr>\n",
       "      <th>State</th>\n",
       "      <td>175.0</td>\n",
       "      <td>78567.428571</td>\n",
       "      <td>10296.072330</td>\n",
       "      <td>43900.0</td>\n",
       "      <td>71800.0</td>\n",
       "      <td>78500.0</td>\n",
       "      <td>84450.0</td>\n",
       "      <td>112000.0</td>\n",
       "      <td>175.0</td>\n",
       "      <td>41886.285714</td>\n",
       "      <td>...</td>\n",
       "      <td>161500.0</td>\n",
       "      <td>215000.0</td>\n",
       "      <td>175.0</td>\n",
       "      <td>44126.285714</td>\n",
       "      <td>4269.067495</td>\n",
       "      <td>34800.0</td>\n",
       "      <td>41400.0</td>\n",
       "      <td>43600.0</td>\n",
       "      <td>46300.0</td>\n",
       "      <td>59900.0</td>\n",
       "    </tr>\n",
       "  </tbody>\n",
       "</table>\n",
       "<p>5 rows × 48 columns</p>\n",
       "</div>"
      ],
      "text/plain": [
       "             mid_med                                                   \\\n",
       "               count           mean           std       min       25%   \n",
       "type                                                                    \n",
       "Engineering     19.0  103842.105263  13840.733594   80000.0   94400.0   \n",
       "Ivy League       8.0  120125.000000  10412.046594  107000.0  109750.0   \n",
       "Liberal Arts    47.0   89378.723404  12318.172086   63900.0   80850.0   \n",
       "Party           20.0   84685.000000   7237.568289   73000.0   79350.0   \n",
       "State          175.0   78567.428571  10296.072330   43900.0   71800.0   \n",
       "\n",
       "                                           mid_p10                 ...     \\\n",
       "                   50%       75%       max   count          mean   ...      \n",
       "type                                                               ...      \n",
       "Engineering   106000.0  114000.0  126000.0    15.0  61793.333333   ...      \n",
       "Ivy League    122000.0  127250.0  134000.0     8.0  57900.000000   ...      \n",
       "Liberal Arts   85800.0  101500.0  110000.0    14.0  47478.571429   ...      \n",
       "Party          84050.0   88975.0   96100.0    19.0  44052.631579   ...      \n",
       "State          78500.0   84450.0  112000.0   175.0  41886.285714   ...      \n",
       "\n",
       "               mid_p90           start_med                             \\\n",
       "                   75%       max     count          mean          std   \n",
       "type                                                                    \n",
       "Engineering   187500.0  220000.0      19.0  59057.894737  7842.924326   \n",
       "Ivy League    296250.0  326000.0       8.0  60475.000000  3218.584427   \n",
       "Liberal Arts  214000.0  265000.0      47.0  45746.808511  4368.854743   \n",
       "Party         175000.0  209000.0      20.0  45715.000000  3685.715670   \n",
       "State         161500.0  215000.0     175.0  44126.285714  4269.067495   \n",
       "\n",
       "                                                           \n",
       "                  min      25%      50%      75%      max  \n",
       "type                                                       \n",
       "Engineering   46200.0  53250.0  58300.0  62000.0  75500.0  \n",
       "Ivy League    56200.0  58825.0  59850.0  61525.0  66500.0  \n",
       "Liberal Arts  38500.0  42250.0  45500.0  48600.0  54500.0  \n",
       "Party         41300.0  42500.0  44600.0  47975.0  52900.0  \n",
       "State         34800.0  41400.0  43600.0  46300.0  59900.0  \n",
       "\n",
       "[5 rows x 48 columns]"
      ]
     },
     "execution_count": 6,
     "metadata": {},
     "output_type": "execute_result"
    }
   ],
   "source": [
    "# Summary statistics by type of school\n",
    "college.groupby('type').describe()"
   ]
  },
  {
   "cell_type": "markdown",
   "metadata": {},
   "source": [
    "The summary statistics show that we have data on a lot more state schools (175) compared to the other types of schools.  We also see that Ivy League and Engineering schools have higher mean starting and mid-career salaries compared to the other types.  We would need to run statistical tests to determine if these differences are significant."
   ]
  },
  {
   "cell_type": "markdown",
   "metadata": {},
   "source": [
    "### Analysis\n",
    "\n",
    "#### What is the distribution of starting and mid-career salaries look like for the different types of colleges?"
   ]
  },
  {
   "cell_type": "code",
   "execution_count": 7,
   "metadata": {},
   "outputs": [
    {
     "name": "stderr",
     "output_type": "stream",
     "text": [
      "/Library/Frameworks/Python.framework/Versions/3.4/lib/python3.4/site-packages/numpy/core/fromnumeric.py:57: FutureWarning: reshape is deprecated and will raise in a subsequent release. Please use .values.reshape(...) instead\n",
      "  return getattr(obj, method)(*args, **kwds)\n"
     ]
    },
    {
     "data": {
      "image/png": "[encoded data removed]",
      "text/plain": [
       "<matplotlib.figure.Figure at 0x107e5e9e8>"
      ]
     },
     "metadata": {},
     "output_type": "display_data"
    }
   ],
   "source": [
    "# Creating variables for relevant data arrays\n",
    "Eng = college[college['type'] == \"Engineering\"]['start_med']\n",
    "Ivy = college[college['type'] == \"Ivy League\"]['start_med']\n",
    "LibArts = college[college['type'] == \"Liberal Arts\"]['start_med']\n",
    "Party = college[college['type'] == \"Party\"]['start_med']\n",
    "State = college[college['type'] == \"State\"]['start_med']\n",
    "start_med = [Eng, Ivy, LibArts, Party, State]\n",
    "\n",
    "Eng2 = college[college['type'] == \"Engineering\"]['mid_med']\n",
    "Ivy2 = college[college['type'] == \"Ivy League\"]['mid_med']\n",
    "LibArts2 = college[college['type'] == \"Liberal Arts\"]['mid_med']\n",
    "Party2 = college[college['type'] == \"Party\"]['mid_med']\n",
    "State2 = college[college['type'] == \"State\"]['mid_med']\n",
    "mid_career = [Eng2, Ivy2, LibArts2, Party2, State2]\n",
    "\n",
    "# Generating histograms for starting and mid-career salaries by type of school\n",
    "plt.figure(figsize=(12,5))\n",
    "\n",
    "n_bins = 9\n",
    "colors = ['blue','turquoise', 'orange', 'magenta','maroon']\n",
    "labels = ['Engineering','Ivy League','Liberal Arts','Party','State']\n",
    "xrange = (35000, 122000) \n",
    "\n",
    "plt.subplot(1, 2, 1)\n",
    "start_med_hist = plt.hist(start_med, n_bins, xrange, histtype='bar', normed=True, color=colors, label=labels)\n",
    "plt.title('Starting Career Median Salaries', fontsize=16)\n",
    "plt.xlabel(\"in dollars\", fontsize=12)  \n",
    "plt.ylabel(\"Probability Density\", fontsize=12)\n",
    "plt.xticks(fontsize=9)  \n",
    "plt.yticks(fontsize=14)\n",
    "plt.legend(prop={'size':10})\n",
    "\n",
    "plt.subplot(1, 2, 2)\n",
    "mid_career_hist = plt.hist(mid_career, n_bins, xrange, histtype='bar', normed=True, color = colors, label=labels)\n",
    "plt.title('Mid-Career Median Salaries', fontsize=16)\n",
    "plt.xlabel(\"in dollars\", fontsize=12)  \n",
    "plt.ylabel(\"Probability Density\", fontsize=12)\n",
    "plt.xticks(fontsize=9)  \n",
    "plt.yticks(fontsize=14)\n",
    "\n",
    "plt.tight_layout()\n",
    "plt.show()\n",
    "\n"
   ]
  },
  {
   "cell_type": "code",
   "execution_count": 8,
   "metadata": {},
   "outputs": [
    {
     "name": "stderr",
     "output_type": "stream",
     "text": [
      "/Library/Frameworks/Python.framework/Versions/3.4/lib/python3.4/site-packages/numpy/core/fromnumeric.py:57: FutureWarning: reshape is deprecated and will raise in a subsequent release. Please use .values.reshape(...) instead\n",
      "  return getattr(obj, method)(*args, **kwds)\n"
     ]
    },
    {
     "data": {
      "text/plain": [
       "<matplotlib.axes._subplots.AxesSubplot at 0x107e3d978>"
      ]
     },
     "execution_count": 8,
     "metadata": {},
     "output_type": "execute_result"
    },
    {
     "data": {
      "image/png": "[encoded data removed]",
      "text/plain": [
       "<matplotlib.figure.Figure at 0x107e3d748>"
      ]
     },
     "metadata": {},
     "output_type": "display_data"
    }
   ],
   "source": [
    "# Boxplots of starting median salaries by type of college.\n",
    "\n",
    "college.boxplot('start_med',by='type')"
   ]
  },
  {
   "cell_type": "code",
   "execution_count": 9,
   "metadata": {},
   "outputs": [
    {
     "name": "stderr",
     "output_type": "stream",
     "text": [
      "/Library/Frameworks/Python.framework/Versions/3.4/lib/python3.4/site-packages/numpy/core/fromnumeric.py:57: FutureWarning: reshape is deprecated and will raise in a subsequent release. Please use .values.reshape(...) instead\n",
      "  return getattr(obj, method)(*args, **kwds)\n"
     ]
    },
    {
     "data": {
      "text/plain": [
       "<matplotlib.axes._subplots.AxesSubplot at 0x1083aa9b0>"
      ]
     },
     "execution_count": 9,
     "metadata": {},
     "output_type": "execute_result"
    },
    {
     "data": {
      "image/png": "[encoded data removed]",
      "text/plain": [
       "<matplotlib.figure.Figure at 0x10834d320>"
      ]
     },
     "metadata": {},
     "output_type": "display_data"
    }
   ],
   "source": [
    "#Boxplots of mid-career salaries by type of college\n",
    "\n",
    "college.boxplot('mid_med',by='type')"
   ]
  },
  {
   "cell_type": "code",
   "execution_count": 10,
   "metadata": {},
   "outputs": [
    {
     "name": "stderr",
     "output_type": "stream",
     "text": [
      "/Library/Frameworks/Python.framework/Versions/3.4/lib/python3.4/site-packages/numpy/core/fromnumeric.py:57: FutureWarning: reshape is deprecated and will raise in a subsequent release. Please use .values.reshape(...) instead\n",
      "  return getattr(obj, method)(*args, **kwds)\n"
     ]
    },
    {
     "data": {
      "text/plain": [
       "<matplotlib.axes._subplots.AxesSubplot at 0x108532d30>"
      ]
     },
     "execution_count": 10,
     "metadata": {},
     "output_type": "execute_result"
    },
    {
     "data": {
      "image/png": "[encoded data removed]",
      "text/plain": [
       "<matplotlib.figure.Figure at 0x106e6b358>"
      ]
     },
     "metadata": {},
     "output_type": "display_data"
    }
   ],
   "source": [
    "#Boxplot of the difference between starting median salaries and mid-career salaries for each college type\n",
    "\n",
    "college['salary_diff'] = college['mid_med'] - college['start_med']\n",
    "\n",
    "college.boxplot('salary_diff', by='type')"
   ]
  },
  {
   "cell_type": "markdown",
   "metadata": {},
   "source": [
    "Engineering schools have the most range with starting median salaries, implying that where an engineering student goes to school matters more than the other types of colleges.  Ivy leagues have less variation in terms of starting salaries and the highest mean starting median salary. Where you go within the Ivy League system matters less when looking at starting median salaries. Liberal Arts, Party and State schools have similar mean median starting salaries, with more variation in state schools.  State schools also has the largest count compared to the other schools, as seen in the histogram. This may account for the variation.\n",
    "\n",
    "The mid-career boxplots actually look pretty similar to the starting median salaries boxplots.  It is interesting to note that Ivy League mid-career salaries has pulled ahead of Engineering mid-career salaries, such that all 8 mid-career salaries from Ivy League schools are higher than 50% of Engineering mid-career salaries.  \n",
    "\n",
    "The last boxpot examines the difference between mid-career salaries and starting salaries for each school type.  Not surprisingly, Ivy Leagues come on top again, with the highest mean difference in salaries.  Party schools have the second lowest mean and the least variation, suggesting that graduates from party schools experience limited growth in salaries.  \n",
    "\n"
   ]
  },
  {
   "cell_type": "markdown",
   "metadata": {},
   "source": [
    "#### Significance testing"
   ]
  },
  {
   "cell_type": "code",
   "execution_count": 33,
   "metadata": {},
   "outputs": [
    {
     "data": {
      "image/png": "[encoded data removed]",
      "text/plain": [
       "<matplotlib.figure.Figure at 0x10b222208>"
      ]
     },
     "metadata": {},
     "output_type": "display_data"
    }
   ],
   "source": [
    "#To run the ANOVA test, we want to check for normality in the data.  We do this by generating QQ plots.\n",
    "\n",
    "plt.figure(figsize=(20,5))\n",
    "types = ['Engineering','Ivy League','Liberal Arts','Party','State']\n",
    "\n",
    "for i in range(0,len(types)):  \n",
    "    plt.subplot(1, 5, i+1)\n",
    "        \n",
    "    t = types[i]\n",
    "        \n",
    "    x = college[college['type'] == t]['start_med'].sort_values()\n",
    "\n",
    "    norm = np.random.normal(0,1,len(x))\n",
    "    norm.sort()\n",
    "\n",
    "    plt.plot(norm, x, \".\", c=np.random.rand(3))\n",
    "    plt.title(t)\n",
    "        \n",
    "    i = i + 1 "
   ]
  },
  {
   "cell_type": "markdown",
   "metadata": {},
   "source": [
    "Given the relatively small n's for each type, especially for Ivy Leagues, we can say that the data is normal for the purposes of this analysis."
   ]
  },
  {
   "cell_type": "code",
   "execution_count": 26,
   "metadata": {},
   "outputs": [],
   "source": [
    "# Setting up for running ANOVA tests\n",
    "\n",
    "grps = ['Engineering','Ivy League','Liberal Arts', 'Party', 'State']\n",
    "sm_data = {grp:college['start_med'][college.type == grp] for grp in grps}\n",
    "mc_data = {grp:college['mid_med'][college.type == grp] for grp in grps}\n",
    "k = len(pd.unique(college.type))\n",
    "N = len(college.values)\n",
    "n = college.groupby('type').size()[0]"
   ]
  },
  {
   "cell_type": "code",
   "execution_count": 27,
   "metadata": {},
   "outputs": [
    {
     "data": {
      "text/plain": [
       "(3.4891625730952733, 0.032090521289493482)"
      ]
     },
     "execution_count": 27,
     "metadata": {},
     "output_type": "execute_result"
    }
   ],
   "source": [
    "# Let's start by comparing the starting median salaries of Liberal Arts, Party, and State schools.\n",
    "f, p = stats.f_oneway(sm_data['Liberal Arts'], sm_data['Party'], sm_data['State'])\n",
    "\n",
    "f, p"
   ]
  },
  {
   "cell_type": "markdown",
   "metadata": {},
   "source": [
    "The F-Statistic of 3.5 and a p-value of 0.03 indicates that, if the the starting median salaries of these three schools are the same, we would expect to obtain the observed difference or more in 3% of the studies due to sampling error.  This suggests we can reject the null hypothesis and assume that these three types of schools have significantly different starting median salaries."
   ]
  },
  {
   "cell_type": "code",
   "execution_count": 29,
   "metadata": {},
   "outputs": [
    {
     "data": {
      "text/plain": [
       "(20.803121035382407, 4.6872542148297379e-09)"
      ]
     },
     "execution_count": 29,
     "metadata": {},
     "output_type": "execute_result"
    }
   ],
   "source": [
    "# Looking at mid-career salaries between Liberal Arts, Party and State\n",
    "f, p = stats.f_oneway(mc_data['Liberal Arts'], mc_data['Party'], mc_data['State'])\n",
    "\n",
    "f, p"
   ]
  },
  {
   "cell_type": "markdown",
   "metadata": {},
   "source": [
    "The F-Statistic of 20.8 and a p-value of 4.7e-09 indicates we can reject the null hypothesis and assume that these three types of schools have significantly different mid-career median salaries."
   ]
  },
  {
   "cell_type": "code",
   "execution_count": 30,
   "metadata": {},
   "outputs": [
    {
     "data": {
      "text/plain": [
       "(0.23957672727197019, 0.62877930261234283)"
      ]
     },
     "execution_count": 30,
     "metadata": {},
     "output_type": "execute_result"
    }
   ],
   "source": [
    "# Now let's compare the starting median salaries and mid-career salaries for engineering and Ivy League schools.\n",
    "f, p = stats.f_oneway(sm_data['Engineering'], sm_data['Ivy League'])\n",
    "\n",
    "f, p"
   ]
  },
  {
   "cell_type": "code",
   "execution_count": 31,
   "metadata": {},
   "outputs": [
    {
     "data": {
      "text/plain": [
       "(8.8696038170912281, 0.0063626584007039971)"
      ]
     },
     "execution_count": 31,
     "metadata": {},
     "output_type": "execute_result"
    }
   ],
   "source": [
    "f, p = stats.f_oneway(mc_data['Engineering'], mc_data['Ivy League'])\n",
    "\n",
    "f, p"
   ]
  },
  {
   "cell_type": "markdown",
   "metadata": {},
   "source": [
    "Interestingly, the difference in salaries of Engineering and Ivy League schools start off as not significantly different (p-value = 0.63), but become significant when we look at mid-career salaries (p-value = 0.006).  This suggests that, in the long run, it still pays to go to an Ivy League school.  "
   ]
  },
  {
   "cell_type": "markdown",
   "metadata": {},
   "source": [
    "### Conclusions\n"
   ]
  },
  {
   "cell_type": "markdown",
   "metadata": {},
   "source": [
    "### Further Research\n",
    "\n",
    "The current analysis does not consider the cost of tuition and student loans.  Ivy leagues, for example, have higher sticker prices than a state school might.  How long does it take a student of each type school to earn back the cost of tuition?  If we consider the median student loan amounts, how would the conclusions change?  Analysis into tuition and student loans would require gathering more data through APIs and/or web-scraping.\n",
    "\n",
    "It would also be interesting to consider the majors.  Is a Party school engineering student doing better than an Ivy League Art History major?  We could apply linear regression models to determine what factors result in the highest starting and mid-career salaries.  \n",
    "\n"
   ]
  }
 ],
 "metadata": {
  "kernelspec": {
   "display_name": "Python 3",
   "language": "python",
   "name": "python3"
  },
  "language_info": {
   "codemirror_mode": {
    "name": "ipython",
    "version": 3
   },
   "file_extension": ".py",
   "mimetype": "text/x-python",
   "name": "python",
   "nbconvert_exporter": "python",
   "pygments_lexer": "ipython3",
   "version": "3.4.3"
  }
 },
 "nbformat": 4,
 "nbformat_minor": 2
}
