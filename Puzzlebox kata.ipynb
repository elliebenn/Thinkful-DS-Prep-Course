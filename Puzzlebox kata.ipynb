{
 "cells": [
  {
   "cell_type": "code",
   "execution_count": 13,
   "metadata": {},
   "outputs": [],
   "source": [
    "import random\n",
    "\n",
    "\n",
    "class Puzzlebox(object):\n",
    "    \"\"\"Puzzlebox for codewars kata.\"\"\"\n",
    "\n",
    "    def __init__(self):\n",
    "        self.key = random.randint(1, 99)\n",
    "\n",
    "    answer = \"Ha, not quite that easy.\\n\"\n",
    "\n",
    "    hint = \"How do you normally unlock things?\\n\"\n",
    "        \n",
    "    hint_two = \"The lock attribute is a method. Have you called it with anything yet?\\n\"\n",
    "\n",
    "    def lock(self, *args):\n",
    "        if len(args) != 1:\n",
    "            return \"This method expects one argument.\\n\"\n",
    "        elif type(args[0]) != int:\n",
    "            return \"This method expects an integer.\\n\"\n",
    "        elif args[0] != self.key:\n",
    "            return \"Did you know the key changes each time you print it?\\n\"\n",
    "        else:\n",
    "            return \"You put the key in the lock! The answer is, of course, 42. Return that number from your answer() function to pass this kata.\\n\"\n",
    "\n",
    "    def __repr__(self):\n",
    "        return \"The built-in dir() function is useful. Continue adding print statements till you know the answer.\\n\"\n",
    "\n",
    "puzzlebox = Puzzlebox()"
   ]
  },
  {
   "cell_type": "code",
   "execution_count": 14,
   "metadata": {},
   "outputs": [
    {
     "name": "stdout",
     "output_type": "stream",
     "text": [
      "['__class__', '__delattr__', '__dict__', '__dir__', '__doc__', '__eq__', '__format__', '__ge__', '__getattribute__', '__gt__', '__hash__', '__init__', '__le__', '__lt__', '__module__', '__ne__', '__new__', '__reduce__', '__reduce_ex__', '__repr__', '__setattr__', '__sizeof__', '__str__', '__subclasshook__', '__weakref__', 'answer', 'hint', 'hint_two', 'key', 'lock']\n"
     ]
    }
   ],
   "source": [
    "print(dir(puzzlebox))"
   ]
  },
  {
   "cell_type": "code",
   "execution_count": 3,
   "metadata": {},
   "outputs": [
    {
     "name": "stdout",
     "output_type": "stream",
     "text": [
      "Ha, not quite that easy.\n",
      "\n"
     ]
    }
   ],
   "source": [
    "print(puzzlebox.answer)"
   ]
  },
  {
   "cell_type": "code",
   "execution_count": 4,
   "metadata": {},
   "outputs": [
    {
     "name": "stdout",
     "output_type": "stream",
     "text": [
      "How do you normally unlock things?\n",
      "\n"
     ]
    }
   ],
   "source": [
    "print(puzzlebox.hint)"
   ]
  },
  {
   "cell_type": "code",
   "execution_count": 6,
   "metadata": {},
   "outputs": [
    {
     "name": "stdout",
     "output_type": "stream",
     "text": [
      "The lock attribute is a method. Have you called it with anything yet?\n",
      "\n"
     ]
    }
   ],
   "source": [
    "print(puzzlebox.hint_two)"
   ]
  },
  {
   "cell_type": "code",
   "execution_count": 7,
   "metadata": {},
   "outputs": [
    {
     "name": "stdout",
     "output_type": "stream",
     "text": [
      "This method expects one argument.\n",
      "\n"
     ]
    }
   ],
   "source": [
    "print(puzzlebox.lock())"
   ]
  },
  {
   "cell_type": "code",
   "execution_count": 15,
   "metadata": {},
   "outputs": [
    {
     "name": "stdout",
     "output_type": "stream",
     "text": [
      "35\n"
     ]
    }
   ],
   "source": [
    "print(puzzlebox.key)"
   ]
  },
  {
   "cell_type": "code",
   "execution_count": 18,
   "metadata": {},
   "outputs": [
    {
     "name": "stdout",
     "output_type": "stream",
     "text": [
      "Did you know the key changes each time you print it?\n",
      "\n"
     ]
    }
   ],
   "source": [
    "print(puzzlebox.lock(96))"
   ]
  },
  {
   "cell_type": "code",
   "execution_count": 17,
   "metadata": {},
   "outputs": [
    {
     "name": "stdout",
     "output_type": "stream",
     "text": [
      "You put the key in the lock! The answer is, of course, 42. Return that number from your answer() function to pass this kata.\n",
      "\n"
     ]
    }
   ],
   "source": [
    "print(puzzlebox.lock(puzzlebox.key))"
   ]
  },
  {
   "cell_type": "code",
   "execution_count": 10,
   "metadata": {},
   "outputs": [],
   "source": [
    "def answer(puzzlebox):\n",
    "    return 42\n"
   ]
  },
  {
   "cell_type": "code",
   "execution_count": null,
   "metadata": {},
   "outputs": [],
   "source": []
  }
 ],
 "metadata": {
  "kernelspec": {
   "display_name": "Python 3",
   "language": "python",
   "name": "python3"
  },
  "language_info": {
   "codemirror_mode": {
    "name": "ipython",
    "version": 3
   },
   "file_extension": ".py",
   "mimetype": "text/x-python",
   "name": "python",
   "nbconvert_exporter": "python",
   "pygments_lexer": "ipython3",
   "version": "3.4.3"
  }
 },
 "nbformat": 4,
 "nbformat_minor": 2
}
