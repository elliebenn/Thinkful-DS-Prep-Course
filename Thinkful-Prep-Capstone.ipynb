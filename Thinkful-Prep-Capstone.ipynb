{
 "cells": [
  {
   "cell_type": "markdown",
   "metadata": {},
   "source": [
    "# Where does it pay to go to college?\n",
    "Joanne Lin\n",
    "\n",
    "### Abstract:\n",
    "The student loan debt landscape is pretty grim. In the US, Americans owe 1.45 trillion dollars in student loans, spread over 44.2 million borrowers ([source](https://blogs.wsj.com/economics/2016/05/02/student-debt-is-about-to-set-another-record-but-the-picture-isnt-all-bad/)). The average graduate in 2016 has over $37,000 in loans to pay off ([source](https://blogs.wsj.com/economics/2016/05/02/student-debt-is-about-to-set-another-record-but-the-picture-isnt-all-bad/)). More than ever, students and their families must consider earning potential post-graduation when deciding where to attend college.  \n",
    "\n",
    "The following project examines the starting and mid-career salaries of 5 different school types:  Engineering, Ivy League, Liberal Arts, Party and State schools. I found that Ivy League schools have higher median starting and mid-career salaries with less variation, making these eight universities the safest bet in terms of earning potential. Engineering schools have the biggest range for starting median salary, indicating that where engineering students attend college matters when it comes to the first jobs out of college. The mean median salaries for Liberal Arts, Party and State schools are lower than that of Engineering and Ivy Leagues. With the most data points in the dataset, State schools have the biggest range of median mid-career salaries and the most outliers; \"Good\" State schools have median salaries similar to that of Ivy Leagues, while \"bad\" State schools fare worse than Party schools.\n",
    "\n",
    "I also ran ANOVA significance tests to compare the differences in mean median salaries for the school types. While the differences in mean median salaries for both starting and mid-career were statistically significant between Liberal Arts, Party and State (p < 0.001), differences in median salaries between just Liberal Arts and Party school were not (p = .98 and p = .12 for starting and mid-career, respectively). This means that the median salaries of Liberal Arts schools is no better or worse than that of Party schools. Interestingly, the difference in salaries of Engineering and Ivy League schools start off as not significantly different for starting median salaries (p = 0.63), but become significant when we look at mid-career salaries (p = 0.0064). This suggests that, in the long run, it still pays to go to an Ivy League school.  "
   ]
  },
  {
   "cell_type": "markdown",
   "metadata": {},
   "source": [
    "## Setting up the data frames"
   ]
  },
  {
   "cell_type": "code",
   "execution_count": 47,
   "metadata": {},
   "outputs": [],
   "source": [
    "# Importing libraries\n",
    "import pandas as pd\n",
    "import numpy as np\n",
    "import matplotlib.pyplot as plt\n",
    "from scipy import stats\n",
    "import math\n",
    "%matplotlib inline"
   ]
  },
  {
   "cell_type": "markdown",
   "metadata": {},
   "source": [
    "#### Data Source\n",
    "\n",
    "I downloaded this dataset frm kaggle.com ([source](https://www.kaggle.com/wsj/college-salaries)).  It was originally aggregated by the Wall Street Journal from Payscale, Inc.   \"Mid-Career\" is defined as 10 years post-commencement. "
   ]
  },
  {
   "cell_type": "code",
   "execution_count": 2,
   "metadata": {},
   "outputs": [
    {
     "data": {
      "text/html": [
       "<div>\n",
       "<style>\n",
       "    .dataframe thead tr:only-child th {\n",
       "        text-align: right;\n",
       "    }\n",
       "\n",
       "    .dataframe thead th {\n",
       "        text-align: left;\n",
       "    }\n",
       "\n",
       "    .dataframe tbody tr th {\n",
       "        vertical-align: top;\n",
       "    }\n",
       "</style>\n",
       "<table border=\"1\" class=\"dataframe\">\n",
       "  <thead>\n",
       "    <tr style=\"text-align: right;\">\n",
       "      <th></th>\n",
       "      <th>school_name</th>\n",
       "      <th>school_type</th>\n",
       "      <th>starting_median_salary</th>\n",
       "      <th>midcareer_median_salary</th>\n",
       "      <th>midcareer_p10</th>\n",
       "      <th>midcareer_p25</th>\n",
       "      <th>midcareer_p75</th>\n",
       "      <th>midcareer_p90</th>\n",
       "    </tr>\n",
       "  </thead>\n",
       "  <tbody>\n",
       "    <tr>\n",
       "      <th>0</th>\n",
       "      <td>Massachusetts Institute of Technology (MIT)</td>\n",
       "      <td>Engineering</td>\n",
       "      <td>$72,200.00</td>\n",
       "      <td>$126,000.00</td>\n",
       "      <td>$76,800.00</td>\n",
       "      <td>$99,200.00</td>\n",
       "      <td>$168,000.00</td>\n",
       "      <td>$220,000.00</td>\n",
       "    </tr>\n",
       "    <tr>\n",
       "      <th>1</th>\n",
       "      <td>California Institute of Technology (CIT)</td>\n",
       "      <td>Engineering</td>\n",
       "      <td>$75,500.00</td>\n",
       "      <td>$123,000.00</td>\n",
       "      <td>NaN</td>\n",
       "      <td>$104,000.00</td>\n",
       "      <td>$161,000.00</td>\n",
       "      <td>NaN</td>\n",
       "    </tr>\n",
       "    <tr>\n",
       "      <th>2</th>\n",
       "      <td>Harvey Mudd College</td>\n",
       "      <td>Engineering</td>\n",
       "      <td>$71,800.00</td>\n",
       "      <td>$122,000.00</td>\n",
       "      <td>NaN</td>\n",
       "      <td>$96,000.00</td>\n",
       "      <td>$180,000.00</td>\n",
       "      <td>NaN</td>\n",
       "    </tr>\n",
       "    <tr>\n",
       "      <th>3</th>\n",
       "      <td>Polytechnic University of New York, Brooklyn</td>\n",
       "      <td>Engineering</td>\n",
       "      <td>$62,400.00</td>\n",
       "      <td>$114,000.00</td>\n",
       "      <td>$66,800.00</td>\n",
       "      <td>$94,300.00</td>\n",
       "      <td>$143,000.00</td>\n",
       "      <td>$190,000.00</td>\n",
       "    </tr>\n",
       "    <tr>\n",
       "      <th>4</th>\n",
       "      <td>Cooper Union</td>\n",
       "      <td>Engineering</td>\n",
       "      <td>$62,200.00</td>\n",
       "      <td>$114,000.00</td>\n",
       "      <td>NaN</td>\n",
       "      <td>$80,200.00</td>\n",
       "      <td>$142,000.00</td>\n",
       "      <td>NaN</td>\n",
       "    </tr>\n",
       "  </tbody>\n",
       "</table>\n",
       "</div>"
      ],
      "text/plain": [
       "                                    school_name  school_type  \\\n",
       "0   Massachusetts Institute of Technology (MIT)  Engineering   \n",
       "1      California Institute of Technology (CIT)  Engineering   \n",
       "2                           Harvey Mudd College  Engineering   \n",
       "3  Polytechnic University of New York, Brooklyn  Engineering   \n",
       "4                                  Cooper Union  Engineering   \n",
       "\n",
       "  starting_median_salary midcareer_median_salary midcareer_p10 midcareer_p25  \\\n",
       "0             $72,200.00             $126,000.00    $76,800.00    $99,200.00   \n",
       "1             $75,500.00             $123,000.00           NaN   $104,000.00   \n",
       "2             $71,800.00             $122,000.00           NaN    $96,000.00   \n",
       "3             $62,400.00             $114,000.00    $66,800.00    $94,300.00   \n",
       "4             $62,200.00             $114,000.00           NaN    $80,200.00   \n",
       "\n",
       "  midcareer_p75 midcareer_p90  \n",
       "0   $168,000.00   $220,000.00  \n",
       "1   $161,000.00           NaN  \n",
       "2   $180,000.00           NaN  \n",
       "3   $143,000.00   $190,000.00  \n",
       "4   $142,000.00           NaN  "
      ]
     },
     "execution_count": 2,
     "metadata": {},
     "output_type": "execute_result"
    }
   ],
   "source": [
    "# Loading files\n",
    "college = pd.read_csv('capstone-data/salaries-by-college-type.csv')\n",
    "\n",
    "# Renaming columns\n",
    "college.columns = ['school_name', 'school_type','starting_median_salary', 'midcareer_median_salary', 'midcareer_p10', 'midcareer_p25', 'midcareer_p75', 'midcareer_p90']\n",
    "college.head()"
   ]
  },
  {
   "cell_type": "code",
   "execution_count": 4,
   "metadata": {},
   "outputs": [
    {
     "data": {
      "text/html": [
       "<div>\n",
       "<style>\n",
       "    .dataframe thead tr:only-child th {\n",
       "        text-align: right;\n",
       "    }\n",
       "\n",
       "    .dataframe thead th {\n",
       "        text-align: left;\n",
       "    }\n",
       "\n",
       "    .dataframe tbody tr th {\n",
       "        vertical-align: top;\n",
       "    }\n",
       "</style>\n",
       "<table border=\"1\" class=\"dataframe\">\n",
       "  <thead>\n",
       "    <tr style=\"text-align: right;\">\n",
       "      <th></th>\n",
       "      <th>school_name</th>\n",
       "      <th>school_type</th>\n",
       "      <th>starting_median_salary</th>\n",
       "      <th>midcareer_median_salary</th>\n",
       "      <th>midcareer_p10</th>\n",
       "      <th>midcareer_p25</th>\n",
       "      <th>midcareer_p75</th>\n",
       "      <th>midcareer_p90</th>\n",
       "    </tr>\n",
       "  </thead>\n",
       "  <tbody>\n",
       "    <tr>\n",
       "      <th>0</th>\n",
       "      <td>Massachusetts Institute of Technology (MIT)</td>\n",
       "      <td>Engineering</td>\n",
       "      <td>72200.0</td>\n",
       "      <td>126000.0</td>\n",
       "      <td>76800.0</td>\n",
       "      <td>99200.0</td>\n",
       "      <td>168000.0</td>\n",
       "      <td>220000.0</td>\n",
       "    </tr>\n",
       "    <tr>\n",
       "      <th>1</th>\n",
       "      <td>California Institute of Technology (CIT)</td>\n",
       "      <td>Engineering</td>\n",
       "      <td>75500.0</td>\n",
       "      <td>123000.0</td>\n",
       "      <td>NaN</td>\n",
       "      <td>104000.0</td>\n",
       "      <td>161000.0</td>\n",
       "      <td>NaN</td>\n",
       "    </tr>\n",
       "    <tr>\n",
       "      <th>2</th>\n",
       "      <td>Harvey Mudd College</td>\n",
       "      <td>Engineering</td>\n",
       "      <td>71800.0</td>\n",
       "      <td>122000.0</td>\n",
       "      <td>NaN</td>\n",
       "      <td>96000.0</td>\n",
       "      <td>180000.0</td>\n",
       "      <td>NaN</td>\n",
       "    </tr>\n",
       "    <tr>\n",
       "      <th>3</th>\n",
       "      <td>Polytechnic University of New York, Brooklyn</td>\n",
       "      <td>Engineering</td>\n",
       "      <td>62400.0</td>\n",
       "      <td>114000.0</td>\n",
       "      <td>66800.0</td>\n",
       "      <td>94300.0</td>\n",
       "      <td>143000.0</td>\n",
       "      <td>190000.0</td>\n",
       "    </tr>\n",
       "    <tr>\n",
       "      <th>4</th>\n",
       "      <td>Cooper Union</td>\n",
       "      <td>Engineering</td>\n",
       "      <td>62200.0</td>\n",
       "      <td>114000.0</td>\n",
       "      <td>NaN</td>\n",
       "      <td>80200.0</td>\n",
       "      <td>142000.0</td>\n",
       "      <td>NaN</td>\n",
       "    </tr>\n",
       "  </tbody>\n",
       "</table>\n",
       "</div>"
      ],
      "text/plain": [
       "                                    school_name  school_type  \\\n",
       "0   Massachusetts Institute of Technology (MIT)  Engineering   \n",
       "1      California Institute of Technology (CIT)  Engineering   \n",
       "2                           Harvey Mudd College  Engineering   \n",
       "3  Polytechnic University of New York, Brooklyn  Engineering   \n",
       "4                                  Cooper Union  Engineering   \n",
       "\n",
       "   starting_median_salary  midcareer_median_salary  midcareer_p10  \\\n",
       "0                 72200.0                 126000.0        76800.0   \n",
       "1                 75500.0                 123000.0            NaN   \n",
       "2                 71800.0                 122000.0            NaN   \n",
       "3                 62400.0                 114000.0        66800.0   \n",
       "4                 62200.0                 114000.0            NaN   \n",
       "\n",
       "   midcareer_p25  midcareer_p75  midcareer_p90  \n",
       "0        99200.0       168000.0       220000.0  \n",
       "1       104000.0       161000.0            NaN  \n",
       "2        96000.0       180000.0            NaN  \n",
       "3        94300.0       143000.0       190000.0  \n",
       "4        80200.0       142000.0            NaN  "
      ]
     },
     "execution_count": 4,
     "metadata": {},
     "output_type": "execute_result"
    }
   ],
   "source": [
    "#Changing strings to ints for analysis\n",
    "\n",
    "dollar_cols = ['starting_median_salary', 'midcareer_median_salary', 'midcareer_p10', 'midcareer_p25', 'midcareer_p75', 'midcareer_p90']\n",
    "\n",
    "# For column that has data stored as a string instead of a number, remove '$', the comma, and convert it to a number.\n",
    "for x in dollar_cols:\n",
    "    college[x] = college[x].str.replace(\"$\",\"\")\n",
    "    college[x] = college[x].str.replace(\",\",\"\")\n",
    "    college[x] = pd.to_numeric(college[x])\n",
    "\n",
    "college.head()"
   ]
  },
  {
   "cell_type": "markdown",
   "metadata": {},
   "source": [
    "## Describing the dataset"
   ]
  },
  {
   "cell_type": "markdown",
   "metadata": {},
   "source": [
    "This dataset contains 269 schools grouped into 5 different categories: Engineering, Ivy League, Liberal Arts, Party and State.  For each school, we have the starting and mid-career median salaries of their graduates.  The dataset also includes information on the schools' mid-career salaries for the 10th, 25th, 75th and 90th percentiles. Because the percentile information is incomplete, I will not be using this data for analysis.\n",
    "\n",
    "The summary statistics above show that we have data on a lot more state schools (175) compared to the other types of schools.  Ivy League schools have a small n at 8, which will limit significance testing that assumes normality.  From the summary statistics table by school type, we   see that Ivy League and Engineering schools have higher mean starting and mid-career salaries compared to the other types.  We would need to run statistical tests to determine if these differences are significant."
   ]
  },
  {
   "cell_type": "code",
   "execution_count": 68,
   "metadata": {},
   "outputs": [
    {
     "data": {
      "text/html": [
       "<div>\n",
       "<style>\n",
       "    .dataframe thead tr:only-child th {\n",
       "        text-align: right;\n",
       "    }\n",
       "\n",
       "    .dataframe thead th {\n",
       "        text-align: left;\n",
       "    }\n",
       "\n",
       "    .dataframe tbody tr th {\n",
       "        vertical-align: top;\n",
       "    }\n",
       "</style>\n",
       "<table border=\"1\" class=\"dataframe\">\n",
       "  <thead>\n",
       "    <tr style=\"text-align: right;\">\n",
       "      <th></th>\n",
       "      <th>starting_median_salary</th>\n",
       "      <th>midcareer_median_salary</th>\n",
       "      <th>midcareer_p10</th>\n",
       "      <th>midcareer_p25</th>\n",
       "      <th>midcareer_p75</th>\n",
       "      <th>midcareer_p90</th>\n",
       "      <th>median_salary_difference</th>\n",
       "    </tr>\n",
       "  </thead>\n",
       "  <tbody>\n",
       "    <tr>\n",
       "      <th>count</th>\n",
       "      <td>269.0</td>\n",
       "      <td>269.0</td>\n",
       "      <td>231.0</td>\n",
       "      <td>269.0</td>\n",
       "      <td>269.0</td>\n",
       "      <td>231.0</td>\n",
       "      <td>269.0</td>\n",
       "    </tr>\n",
       "    <tr>\n",
       "      <th>mean</th>\n",
       "      <td>46068.0</td>\n",
       "      <td>83932.0</td>\n",
       "      <td>44251.0</td>\n",
       "      <td>60373.0</td>\n",
       "      <td>116275.0</td>\n",
       "      <td>157706.0</td>\n",
       "      <td>37864.0</td>\n",
       "    </tr>\n",
       "    <tr>\n",
       "      <th>std</th>\n",
       "      <td>6413.0</td>\n",
       "      <td>14336.0</td>\n",
       "      <td>8720.0</td>\n",
       "      <td>11381.0</td>\n",
       "      <td>22952.0</td>\n",
       "      <td>34823.0</td>\n",
       "      <td>9114.0</td>\n",
       "    </tr>\n",
       "    <tr>\n",
       "      <th>min</th>\n",
       "      <td>34800.0</td>\n",
       "      <td>43900.0</td>\n",
       "      <td>22600.0</td>\n",
       "      <td>31800.0</td>\n",
       "      <td>60900.0</td>\n",
       "      <td>87600.0</td>\n",
       "      <td>8600.0</td>\n",
       "    </tr>\n",
       "    <tr>\n",
       "      <th>25%</th>\n",
       "      <td>42000.0</td>\n",
       "      <td>74000.0</td>\n",
       "      <td>39000.0</td>\n",
       "      <td>53200.0</td>\n",
       "      <td>100000.0</td>\n",
       "      <td>136000.0</td>\n",
       "      <td>31900.0</td>\n",
       "    </tr>\n",
       "    <tr>\n",
       "      <th>50%</th>\n",
       "      <td>44700.0</td>\n",
       "      <td>81600.0</td>\n",
       "      <td>43100.0</td>\n",
       "      <td>58400.0</td>\n",
       "      <td>113000.0</td>\n",
       "      <td>153000.0</td>\n",
       "      <td>37600.0</td>\n",
       "    </tr>\n",
       "    <tr>\n",
       "      <th>75%</th>\n",
       "      <td>48300.0</td>\n",
       "      <td>92200.0</td>\n",
       "      <td>47400.0</td>\n",
       "      <td>65100.0</td>\n",
       "      <td>126000.0</td>\n",
       "      <td>170500.0</td>\n",
       "      <td>41900.0</td>\n",
       "    </tr>\n",
       "    <tr>\n",
       "      <th>max</th>\n",
       "      <td>75500.0</td>\n",
       "      <td>134000.0</td>\n",
       "      <td>80000.0</td>\n",
       "      <td>104000.0</td>\n",
       "      <td>234000.0</td>\n",
       "      <td>326000.0</td>\n",
       "      <td>76000.0</td>\n",
       "    </tr>\n",
       "  </tbody>\n",
       "</table>\n",
       "</div>"
      ],
      "text/plain": [
       "       starting_median_salary  midcareer_median_salary  midcareer_p10  \\\n",
       "count                   269.0                    269.0          231.0   \n",
       "mean                  46068.0                  83932.0        44251.0   \n",
       "std                    6413.0                  14336.0         8720.0   \n",
       "min                   34800.0                  43900.0        22600.0   \n",
       "25%                   42000.0                  74000.0        39000.0   \n",
       "50%                   44700.0                  81600.0        43100.0   \n",
       "75%                   48300.0                  92200.0        47400.0   \n",
       "max                   75500.0                 134000.0        80000.0   \n",
       "\n",
       "       midcareer_p25  midcareer_p75  midcareer_p90  median_salary_difference  \n",
       "count          269.0          269.0          231.0                     269.0  \n",
       "mean         60373.0       116275.0       157706.0                   37864.0  \n",
       "std          11381.0        22952.0        34823.0                    9114.0  \n",
       "min          31800.0        60900.0        87600.0                    8600.0  \n",
       "25%          53200.0       100000.0       136000.0                   31900.0  \n",
       "50%          58400.0       113000.0       153000.0                   37600.0  \n",
       "75%          65100.0       126000.0       170500.0                   41900.0  \n",
       "max         104000.0       234000.0       326000.0                   76000.0  "
      ]
     },
     "execution_count": 68,
     "metadata": {},
     "output_type": "execute_result"
    }
   ],
   "source": [
    "# Summary statistics of college dataset\n",
    "college.describe().round(0)"
   ]
  },
  {
   "cell_type": "markdown",
   "metadata": {},
   "source": [
    "Note:  I was unable to convert numbers into integers."
   ]
  },
  {
   "cell_type": "code",
   "execution_count": 6,
   "metadata": {},
   "outputs": [
    {
     "data": {
      "text/html": [
       "<div>\n",
       "<style>\n",
       "    .dataframe thead tr:only-child th {\n",
       "        text-align: right;\n",
       "    }\n",
       "\n",
       "    .dataframe thead th {\n",
       "        text-align: left;\n",
       "    }\n",
       "\n",
       "    .dataframe tbody tr th {\n",
       "        vertical-align: top;\n",
       "    }\n",
       "</style>\n",
       "<table border=\"1\" class=\"dataframe\">\n",
       "  <thead>\n",
       "    <tr>\n",
       "      <th></th>\n",
       "      <th colspan=\"8\" halign=\"left\">midcareer_median_salary</th>\n",
       "      <th colspan=\"2\" halign=\"left\">midcareer_p10</th>\n",
       "      <th>...</th>\n",
       "      <th colspan=\"2\" halign=\"left\">midcareer_p90</th>\n",
       "      <th colspan=\"8\" halign=\"left\">starting_median_salary</th>\n",
       "    </tr>\n",
       "    <tr>\n",
       "      <th></th>\n",
       "      <th>count</th>\n",
       "      <th>mean</th>\n",
       "      <th>std</th>\n",
       "      <th>min</th>\n",
       "      <th>25%</th>\n",
       "      <th>50%</th>\n",
       "      <th>75%</th>\n",
       "      <th>max</th>\n",
       "      <th>count</th>\n",
       "      <th>mean</th>\n",
       "      <th>...</th>\n",
       "      <th>75%</th>\n",
       "      <th>max</th>\n",
       "      <th>count</th>\n",
       "      <th>mean</th>\n",
       "      <th>std</th>\n",
       "      <th>min</th>\n",
       "      <th>25%</th>\n",
       "      <th>50%</th>\n",
       "      <th>75%</th>\n",
       "      <th>max</th>\n",
       "    </tr>\n",
       "    <tr>\n",
       "      <th>school_type</th>\n",
       "      <th></th>\n",
       "      <th></th>\n",
       "      <th></th>\n",
       "      <th></th>\n",
       "      <th></th>\n",
       "      <th></th>\n",
       "      <th></th>\n",
       "      <th></th>\n",
       "      <th></th>\n",
       "      <th></th>\n",
       "      <th></th>\n",
       "      <th></th>\n",
       "      <th></th>\n",
       "      <th></th>\n",
       "      <th></th>\n",
       "      <th></th>\n",
       "      <th></th>\n",
       "      <th></th>\n",
       "      <th></th>\n",
       "      <th></th>\n",
       "      <th></th>\n",
       "    </tr>\n",
       "  </thead>\n",
       "  <tbody>\n",
       "    <tr>\n",
       "      <th>Engineering</th>\n",
       "      <td>19.0</td>\n",
       "      <td>103842.11</td>\n",
       "      <td>13840.73</td>\n",
       "      <td>80000.0</td>\n",
       "      <td>94400.0</td>\n",
       "      <td>106000.0</td>\n",
       "      <td>114000.0</td>\n",
       "      <td>126000.0</td>\n",
       "      <td>15.0</td>\n",
       "      <td>61793.33</td>\n",
       "      <td>...</td>\n",
       "      <td>187500.0</td>\n",
       "      <td>220000.0</td>\n",
       "      <td>19.0</td>\n",
       "      <td>59057.89</td>\n",
       "      <td>7842.92</td>\n",
       "      <td>46200.0</td>\n",
       "      <td>53250.0</td>\n",
       "      <td>58300.0</td>\n",
       "      <td>62000.0</td>\n",
       "      <td>75500.0</td>\n",
       "    </tr>\n",
       "    <tr>\n",
       "      <th>Ivy League</th>\n",
       "      <td>8.0</td>\n",
       "      <td>120125.00</td>\n",
       "      <td>10412.05</td>\n",
       "      <td>107000.0</td>\n",
       "      <td>109750.0</td>\n",
       "      <td>122000.0</td>\n",
       "      <td>127250.0</td>\n",
       "      <td>134000.0</td>\n",
       "      <td>8.0</td>\n",
       "      <td>57900.00</td>\n",
       "      <td>...</td>\n",
       "      <td>296250.0</td>\n",
       "      <td>326000.0</td>\n",
       "      <td>8.0</td>\n",
       "      <td>60475.00</td>\n",
       "      <td>3218.58</td>\n",
       "      <td>56200.0</td>\n",
       "      <td>58825.0</td>\n",
       "      <td>59850.0</td>\n",
       "      <td>61525.0</td>\n",
       "      <td>66500.0</td>\n",
       "    </tr>\n",
       "    <tr>\n",
       "      <th>Liberal Arts</th>\n",
       "      <td>47.0</td>\n",
       "      <td>89378.72</td>\n",
       "      <td>12318.17</td>\n",
       "      <td>63900.0</td>\n",
       "      <td>80850.0</td>\n",
       "      <td>85800.0</td>\n",
       "      <td>101500.0</td>\n",
       "      <td>110000.0</td>\n",
       "      <td>14.0</td>\n",
       "      <td>47478.57</td>\n",
       "      <td>...</td>\n",
       "      <td>214000.0</td>\n",
       "      <td>265000.0</td>\n",
       "      <td>47.0</td>\n",
       "      <td>45746.81</td>\n",
       "      <td>4368.85</td>\n",
       "      <td>38500.0</td>\n",
       "      <td>42250.0</td>\n",
       "      <td>45500.0</td>\n",
       "      <td>48600.0</td>\n",
       "      <td>54500.0</td>\n",
       "    </tr>\n",
       "    <tr>\n",
       "      <th>Party</th>\n",
       "      <td>20.0</td>\n",
       "      <td>84685.00</td>\n",
       "      <td>7237.57</td>\n",
       "      <td>73000.0</td>\n",
       "      <td>79350.0</td>\n",
       "      <td>84050.0</td>\n",
       "      <td>88975.0</td>\n",
       "      <td>96100.0</td>\n",
       "      <td>19.0</td>\n",
       "      <td>44052.63</td>\n",
       "      <td>...</td>\n",
       "      <td>175000.0</td>\n",
       "      <td>209000.0</td>\n",
       "      <td>20.0</td>\n",
       "      <td>45715.00</td>\n",
       "      <td>3685.72</td>\n",
       "      <td>41300.0</td>\n",
       "      <td>42500.0</td>\n",
       "      <td>44600.0</td>\n",
       "      <td>47975.0</td>\n",
       "      <td>52900.0</td>\n",
       "    </tr>\n",
       "    <tr>\n",
       "      <th>State</th>\n",
       "      <td>175.0</td>\n",
       "      <td>78567.43</td>\n",
       "      <td>10296.07</td>\n",
       "      <td>43900.0</td>\n",
       "      <td>71800.0</td>\n",
       "      <td>78500.0</td>\n",
       "      <td>84450.0</td>\n",
       "      <td>112000.0</td>\n",
       "      <td>175.0</td>\n",
       "      <td>41886.29</td>\n",
       "      <td>...</td>\n",
       "      <td>161500.0</td>\n",
       "      <td>215000.0</td>\n",
       "      <td>175.0</td>\n",
       "      <td>44126.29</td>\n",
       "      <td>4269.07</td>\n",
       "      <td>34800.0</td>\n",
       "      <td>41400.0</td>\n",
       "      <td>43600.0</td>\n",
       "      <td>46300.0</td>\n",
       "      <td>59900.0</td>\n",
       "    </tr>\n",
       "  </tbody>\n",
       "</table>\n",
       "<p>5 rows × 48 columns</p>\n",
       "</div>"
      ],
      "text/plain": [
       "             midcareer_median_salary                                           \\\n",
       "                               count       mean       std       min       25%   \n",
       "school_type                                                                     \n",
       "Engineering                     19.0  103842.11  13840.73   80000.0   94400.0   \n",
       "Ivy League                       8.0  120125.00  10412.05  107000.0  109750.0   \n",
       "Liberal Arts                    47.0   89378.72  12318.17   63900.0   80850.0   \n",
       "Party                           20.0   84685.00   7237.57   73000.0   79350.0   \n",
       "State                          175.0   78567.43  10296.07   43900.0   71800.0   \n",
       "\n",
       "                                           midcareer_p10             ...     \\\n",
       "                   50%       75%       max         count      mean   ...      \n",
       "school_type                                                          ...      \n",
       "Engineering   106000.0  114000.0  126000.0          15.0  61793.33   ...      \n",
       "Ivy League    122000.0  127250.0  134000.0           8.0  57900.00   ...      \n",
       "Liberal Arts   85800.0  101500.0  110000.0          14.0  47478.57   ...      \n",
       "Party          84050.0   88975.0   96100.0          19.0  44052.63   ...      \n",
       "State          78500.0   84450.0  112000.0         175.0  41886.29   ...      \n",
       "\n",
       "             midcareer_p90           starting_median_salary            \\\n",
       "                       75%       max                  count      mean   \n",
       "school_type                                                             \n",
       "Engineering       187500.0  220000.0                   19.0  59057.89   \n",
       "Ivy League        296250.0  326000.0                    8.0  60475.00   \n",
       "Liberal Arts      214000.0  265000.0                   47.0  45746.81   \n",
       "Party             175000.0  209000.0                   20.0  45715.00   \n",
       "State             161500.0  215000.0                  175.0  44126.29   \n",
       "\n",
       "                                                                    \n",
       "                  std      min      25%      50%      75%      max  \n",
       "school_type                                                         \n",
       "Engineering   7842.92  46200.0  53250.0  58300.0  62000.0  75500.0  \n",
       "Ivy League    3218.58  56200.0  58825.0  59850.0  61525.0  66500.0  \n",
       "Liberal Arts  4368.85  38500.0  42250.0  45500.0  48600.0  54500.0  \n",
       "Party         3685.72  41300.0  42500.0  44600.0  47975.0  52900.0  \n",
       "State         4269.07  34800.0  41400.0  43600.0  46300.0  59900.0  \n",
       "\n",
       "[5 rows x 48 columns]"
      ]
     },
     "execution_count": 6,
     "metadata": {},
     "output_type": "execute_result"
    }
   ],
   "source": [
    "# Summary statistics by type of school\n",
    "college.groupby('school_type').describe().round(2)"
   ]
  },
  {
   "cell_type": "markdown",
   "metadata": {},
   "source": [
    "#### What are the top and bottom 5 state schools in terms of starting and mid-career salaries?\n",
    "\n",
    "With 175 State school listed in this dataset, it is helpful to look at the range of starting and median salaries we are dealing with. The following two tables generate the top and bottom five state schools in terms of starting and midcareer salaries. University of California, Berkeley sits at the top with a starting median salary of \\$59,900 and a mid-career salary of \\$112,000. This is comparable to the median salaries for Ivy Leagues. Columbia University, for example, has a starting median salary of \\$59,400 and a mid-career salary of \\$107,000.  \n",
    "\n",
    "On the other hand, the bottom 5 state schools have lower starting and midcareer salaries than the respective mean median salaries of party schools.  A graduate from UC Berkeley can expect to make over 2.5 times more than a graduate from Black Hills University by mid-career.\n",
    "\n",
    "For future analysis, it may be helpful to split state schools into sub-categories, for example, UCs, Cal States, or CUNYs.  Further disaggregation of the State school type would help us make more effective comparisons and draw insightful conclusions on where it pays to go to college. "
   ]
  },
  {
   "cell_type": "code",
   "execution_count": 28,
   "metadata": {},
   "outputs": [
    {
     "data": {
      "text/html": [
       "<div>\n",
       "<style>\n",
       "    .dataframe thead tr:only-child th {\n",
       "        text-align: right;\n",
       "    }\n",
       "\n",
       "    .dataframe thead th {\n",
       "        text-align: left;\n",
       "    }\n",
       "\n",
       "    .dataframe tbody tr th {\n",
       "        vertical-align: top;\n",
       "    }\n",
       "</style>\n",
       "<table border=\"1\" class=\"dataframe\">\n",
       "  <thead>\n",
       "    <tr style=\"text-align: right;\">\n",
       "      <th></th>\n",
       "      <th>school_name</th>\n",
       "      <th>school_type</th>\n",
       "      <th>starting_median_salary</th>\n",
       "      <th>midcareer_median_salary</th>\n",
       "      <th>midcareer_p10</th>\n",
       "      <th>midcareer_p25</th>\n",
       "      <th>midcareer_p75</th>\n",
       "      <th>midcareer_p90</th>\n",
       "      <th>median_salary_difference</th>\n",
       "    </tr>\n",
       "  </thead>\n",
       "  <tbody>\n",
       "    <tr>\n",
       "      <th>94</th>\n",
       "      <td>University of California, Berkeley</td>\n",
       "      <td>State</td>\n",
       "      <td>59900.0</td>\n",
       "      <td>112000.0</td>\n",
       "      <td>59500.0</td>\n",
       "      <td>81000.0</td>\n",
       "      <td>149000.0</td>\n",
       "      <td>201000.0</td>\n",
       "      <td>52100.0</td>\n",
       "    </tr>\n",
       "    <tr>\n",
       "      <th>95</th>\n",
       "      <td>University of Virginia (UVA)</td>\n",
       "      <td>State</td>\n",
       "      <td>52700.0</td>\n",
       "      <td>103000.0</td>\n",
       "      <td>52200.0</td>\n",
       "      <td>71800.0</td>\n",
       "      <td>146000.0</td>\n",
       "      <td>215000.0</td>\n",
       "      <td>50300.0</td>\n",
       "    </tr>\n",
       "    <tr>\n",
       "      <th>96</th>\n",
       "      <td>Cal Poly San Luis Obispo</td>\n",
       "      <td>State</td>\n",
       "      <td>57200.0</td>\n",
       "      <td>101000.0</td>\n",
       "      <td>55000.0</td>\n",
       "      <td>74700.0</td>\n",
       "      <td>133000.0</td>\n",
       "      <td>178000.0</td>\n",
       "      <td>43800.0</td>\n",
       "    </tr>\n",
       "    <tr>\n",
       "      <th>97</th>\n",
       "      <td>University of California at Los Angeles (UCLA)</td>\n",
       "      <td>State</td>\n",
       "      <td>52600.0</td>\n",
       "      <td>101000.0</td>\n",
       "      <td>51300.0</td>\n",
       "      <td>72500.0</td>\n",
       "      <td>139000.0</td>\n",
       "      <td>193000.0</td>\n",
       "      <td>48400.0</td>\n",
       "    </tr>\n",
       "    <tr>\n",
       "      <th>98</th>\n",
       "      <td>University of California, San Diego (UCSD)</td>\n",
       "      <td>State</td>\n",
       "      <td>51100.0</td>\n",
       "      <td>101000.0</td>\n",
       "      <td>51700.0</td>\n",
       "      <td>75400.0</td>\n",
       "      <td>131000.0</td>\n",
       "      <td>177000.0</td>\n",
       "      <td>49900.0</td>\n",
       "    </tr>\n",
       "  </tbody>\n",
       "</table>\n",
       "</div>"
      ],
      "text/plain": [
       "                                       school_name school_type  \\\n",
       "94              University of California, Berkeley       State   \n",
       "95                    University of Virginia (UVA)       State   \n",
       "96                        Cal Poly San Luis Obispo       State   \n",
       "97  University of California at Los Angeles (UCLA)       State   \n",
       "98      University of California, San Diego (UCSD)       State   \n",
       "\n",
       "    starting_median_salary  midcareer_median_salary  midcareer_p10  \\\n",
       "94                 59900.0                 112000.0        59500.0   \n",
       "95                 52700.0                 103000.0        52200.0   \n",
       "96                 57200.0                 101000.0        55000.0   \n",
       "97                 52600.0                 101000.0        51300.0   \n",
       "98                 51100.0                 101000.0        51700.0   \n",
       "\n",
       "    midcareer_p25  midcareer_p75  midcareer_p90  median_salary_difference  \n",
       "94        81000.0       149000.0       201000.0                   52100.0  \n",
       "95        71800.0       146000.0       215000.0                   50300.0  \n",
       "96        74700.0       133000.0       178000.0                   43800.0  \n",
       "97        72500.0       139000.0       193000.0                   48400.0  \n",
       "98        75400.0       131000.0       177000.0                   49900.0  "
      ]
     },
     "execution_count": 28,
     "metadata": {},
     "output_type": "execute_result"
    }
   ],
   "source": [
    "college[college['school_type'] == 'State'].sort_values(['midcareer_median_salary','starting_median_salary'], ascending=False).head(5)"
   ]
  },
  {
   "cell_type": "code",
   "execution_count": 30,
   "metadata": {},
   "outputs": [
    {
     "data": {
      "text/html": [
       "<div>\n",
       "<style>\n",
       "    .dataframe thead tr:only-child th {\n",
       "        text-align: right;\n",
       "    }\n",
       "\n",
       "    .dataframe thead th {\n",
       "        text-align: left;\n",
       "    }\n",
       "\n",
       "    .dataframe tbody tr th {\n",
       "        vertical-align: top;\n",
       "    }\n",
       "</style>\n",
       "<table border=\"1\" class=\"dataframe\">\n",
       "  <thead>\n",
       "    <tr style=\"text-align: right;\">\n",
       "      <th></th>\n",
       "      <th>school_name</th>\n",
       "      <th>school_type</th>\n",
       "      <th>starting_median_salary</th>\n",
       "      <th>midcareer_median_salary</th>\n",
       "      <th>midcareer_p10</th>\n",
       "      <th>midcareer_p25</th>\n",
       "      <th>midcareer_p75</th>\n",
       "      <th>midcareer_p90</th>\n",
       "      <th>median_salary_difference</th>\n",
       "    </tr>\n",
       "  </thead>\n",
       "  <tbody>\n",
       "    <tr>\n",
       "      <th>268</th>\n",
       "      <td>Black Hills State University</td>\n",
       "      <td>State</td>\n",
       "      <td>35300.0</td>\n",
       "      <td>43900.0</td>\n",
       "      <td>27000.0</td>\n",
       "      <td>32200.0</td>\n",
       "      <td>60900.0</td>\n",
       "      <td>87600.0</td>\n",
       "      <td>8600.0</td>\n",
       "    </tr>\n",
       "    <tr>\n",
       "      <th>267</th>\n",
       "      <td>Montana State University - Billings</td>\n",
       "      <td>State</td>\n",
       "      <td>37900.0</td>\n",
       "      <td>50600.0</td>\n",
       "      <td>22600.0</td>\n",
       "      <td>31800.0</td>\n",
       "      <td>78500.0</td>\n",
       "      <td>98900.0</td>\n",
       "      <td>12700.0</td>\n",
       "    </tr>\n",
       "    <tr>\n",
       "      <th>266</th>\n",
       "      <td>Southern Utah University</td>\n",
       "      <td>State</td>\n",
       "      <td>41900.0</td>\n",
       "      <td>56500.0</td>\n",
       "      <td>30700.0</td>\n",
       "      <td>39700.0</td>\n",
       "      <td>78400.0</td>\n",
       "      <td>116000.0</td>\n",
       "      <td>14600.0</td>\n",
       "    </tr>\n",
       "    <tr>\n",
       "      <th>265</th>\n",
       "      <td>Pittsburg State University</td>\n",
       "      <td>State</td>\n",
       "      <td>40400.0</td>\n",
       "      <td>58200.0</td>\n",
       "      <td>25600.0</td>\n",
       "      <td>46000.0</td>\n",
       "      <td>84600.0</td>\n",
       "      <td>117000.0</td>\n",
       "      <td>17800.0</td>\n",
       "    </tr>\n",
       "    <tr>\n",
       "      <th>264</th>\n",
       "      <td>Austin Peay State University</td>\n",
       "      <td>State</td>\n",
       "      <td>37700.0</td>\n",
       "      <td>59200.0</td>\n",
       "      <td>32200.0</td>\n",
       "      <td>40500.0</td>\n",
       "      <td>73900.0</td>\n",
       "      <td>96200.0</td>\n",
       "      <td>21500.0</td>\n",
       "    </tr>\n",
       "  </tbody>\n",
       "</table>\n",
       "</div>"
      ],
      "text/plain": [
       "                             school_name school_type  starting_median_salary  \\\n",
       "268         Black Hills State University       State                 35300.0   \n",
       "267  Montana State University - Billings       State                 37900.0   \n",
       "266             Southern Utah University       State                 41900.0   \n",
       "265           Pittsburg State University       State                 40400.0   \n",
       "264         Austin Peay State University       State                 37700.0   \n",
       "\n",
       "     midcareer_median_salary  midcareer_p10  midcareer_p25  midcareer_p75  \\\n",
       "268                  43900.0        27000.0        32200.0        60900.0   \n",
       "267                  50600.0        22600.0        31800.0        78500.0   \n",
       "266                  56500.0        30700.0        39700.0        78400.0   \n",
       "265                  58200.0        25600.0        46000.0        84600.0   \n",
       "264                  59200.0        32200.0        40500.0        73900.0   \n",
       "\n",
       "     midcareer_p90  median_salary_difference  \n",
       "268        87600.0                    8600.0  \n",
       "267        98900.0                   12700.0  \n",
       "266       116000.0                   14600.0  \n",
       "265       117000.0                   17800.0  \n",
       "264        96200.0                   21500.0  "
      ]
     },
     "execution_count": 30,
     "metadata": {},
     "output_type": "execute_result"
    }
   ],
   "source": [
    "college[college['school_type'] == 'State'].sort_values(['midcareer_median_salary','starting_median_salary'], ascending=True).head(5)"
   ]
  },
  {
   "cell_type": "markdown",
   "metadata": {},
   "source": [
    "As UC Berkeley is my alma mater, Go Bears. ʕ•ᴥ•ʔ "
   ]
  },
  {
   "cell_type": "markdown",
   "metadata": {},
   "source": [
    "## Analysis\n",
    "\n",
    "#### What can graduates of each school type reasonably expect in terms of starting and mid-career salaries?\n",
    "In the following sections, I will be utilizing histograms and boxplots to visualize the distribution of salaries of each school type.  These visualizations will help us compare the starting and mid-career median salaries between school types.  \n",
    "\n",
    "\n",
    "#### Histograms\n",
    "The historgrams below show the distribution of starting median salaries of each school type, compared to the mid-career median salaries of each school type.  Since the State School variable has a larger n, the histograms have been normalized to make it easier to see the differences in distributions between school types."
   ]
  },
  {
   "cell_type": "code",
   "execution_count": 53,
   "metadata": {
    "scrolled": true
   },
   "outputs": [
    {
     "name": "stderr",
     "output_type": "stream",
     "text": [
      "/Library/Frameworks/Python.framework/Versions/3.4/lib/python3.4/site-packages/numpy/core/fromnumeric.py:57: FutureWarning: reshape is deprecated and will raise in a subsequent release. Please use .values.reshape(...) instead\n",
      "  return getattr(obj, method)(*args, **kwds)\n"
     ]
    },
    {
     "data": {
      "image/png": "[encoded data removed]",
      "text/plain": [
       "<matplotlib.figure.Figure at 0x10bc78cf8>"
      ]
     },
     "metadata": {},
     "output_type": "display_data"
    }
   ],
   "source": [
    "# Creating separate variables for relevant data arrays allows a for loop to iterate through each variable\n",
    "#    to generate the histograms below.\n",
    "\n",
    "Eng = college[college['school_type'] == \"Engineering\"]['starting_median_salary']\n",
    "Ivy = college[college['school_type'] == \"Ivy League\"]['starting_median_salary']\n",
    "LibArts = college[college['school_type'] == \"Liberal Arts\"]['starting_median_salary']\n",
    "Party = college[college['school_type'] == \"Party\"]['starting_median_salary']\n",
    "State = college[college['school_type'] == \"State\"]['starting_median_salary']\n",
    "start_med = [Eng, Ivy, LibArts, Party, State]\n",
    "\n",
    "Eng2 = college[college['school_type'] == \"Engineering\"]['midcareer_median_salary']\n",
    "Ivy2 = college[college['school_type'] == \"Ivy League\"]['midcareer_median_salary']\n",
    "LibArts2 = college[college['school_type'] == \"Liberal Arts\"]['midcareer_median_salary']\n",
    "Party2 = college[college['school_type'] == \"Party\"]['midcareer_median_salary']\n",
    "State2 = college[college['school_type'] == \"State\"]['midcareer_median_salary']\n",
    "mid_career = [Eng2, Ivy2, LibArts2, Party2, State2]\n",
    "\n",
    "# The code below generates histograms for starting and mid-career salaries by type of school\n",
    "\n",
    "# Using Sturges' formula to determine number of bins\n",
    "n_bins = int(math.log2(len(college)) + 1)\n",
    "\n",
    "colors = ['blue','turquoise', 'orange', 'magenta','maroon']\n",
    "labels = ['Engineering','Ivy League','Liberal Arts','Party','State']\n",
    "\n",
    "# Setting the same range for both starting and mid-career histograms to better see change of median \n",
    "#     salaries over time.\n",
    "xrange = (min(college.starting_median_salary), max(college.midcareer_median_salary)) \n",
    "\n",
    "s = [start_med, mid_career]\n",
    "t = ['Starting Median Salaries', 'Mid-Career Salaries']\n",
    "\n",
    "plt.figure(figsize=(20,5))\n",
    "\n",
    "# This for loop literates over the two variables (start_med and mid_med) in s that contain\n",
    "#    data arrays for each school type and the median salaries and arranges them in a subplot.\n",
    "\n",
    "for i in range(0,len(s)):\n",
    "    plt.subplot(1, 2, i+1)\n",
    "    \n",
    "    plt.hist(s[i], n_bins, xrange, histtype='bar', normed=True, color = colors, label=labels)\n",
    "    plt.title(t[i], fontsize=16)\n",
    "    plt.xlabel(\"in dollars\", fontsize=12)  \n",
    "    plt.ylabel(\"Probability Density\", fontsize=12)\n",
    "    plt.xticks(fontsize=9)  \n",
    "    plt.yticks(fontsize=9)\n",
    "    plt.legend(prop={'size':10})\n",
    "\n",
    "    i += 1"
   ]
  },
  {
   "cell_type": "markdown",
   "metadata": {},
   "source": [
    "The histograms of the starting median salaries for each school type are clustered together, with the exception of Engineering schools.  Liberal Arts, Party and State schools have starting median salaries that cluster between \\$35,000 and \\$55,000. Ivy league schools have notably higher starting median salaries than most other types of schools, clustering between \\$58,000 and \\$70,000.  This suggests that graduates from all school types have starting salaries similar to that of their peers in similar school types. Engineering schools, on the other hand, have the most variation, indicating that which engineering school attended matters when looking at starting median salaries. We will explore the differences in median salaries later using significance testing. \n",
    "\n",
    "Considering mid-career salaries, all school types have a wider range of salaries with the exception of Ivy Leagues.  Liberal Arts, Party and State schools have salaries between \\$70,000 and \\$105,000. This suggests that graduates from these three types of school have similar earning potential by mid career.  Engineering schools also have a broader range compared to its starting median salary, from \\$75,000 to \\$110,000.  Interestingly, the distribution of Ivy League mid-career salaries remains small, ranging from about \\$110,000 to \\$118,000. This indicates that graduates of the Ivy League system can reasonably expect a higher starting and mid-career salary, regardless of which school within the Ivy League system they attend, a finding that aligns with the public's perception of Ivy League status."
   ]
  },
  {
   "cell_type": "markdown",
   "metadata": {},
   "source": [
    "#### Boxplots\n",
    "The following visualizations utilize boxplots to provide an alternative view of the data.  With boxplots, we can compare the mean median salaries across school types, and easily see the distribution of the data as defined by the quartiles.  The box in the boxplot show the interquartile range, where 50% of the data around the mean resides. The points outside the whiskers signify the outliers.\n",
    "\n",
    "Note: I discussed the deprecation warning with my mentor, and he said not to worry about it for this project.  I was also unable to make subplot boxplots, because generating subplots uses matplotlib while creating boxplots uses pandas."
   ]
  },
  {
   "cell_type": "code",
   "execution_count": 10,
   "metadata": {},
   "outputs": [
    {
     "name": "stderr",
     "output_type": "stream",
     "text": [
      "/Library/Frameworks/Python.framework/Versions/3.4/lib/python3.4/site-packages/numpy/core/fromnumeric.py:57: FutureWarning: reshape is deprecated and will raise in a subsequent release. Please use .values.reshape(...) instead\n",
      "  return getattr(obj, method)(*args, **kwds)\n"
     ]
    },
    {
     "data": {
      "image/png": "[encoded data removed]",
      "text/plain": [
       "<matplotlib.figure.Figure at 0x109e71b38>"
      ]
     },
     "metadata": {},
     "output_type": "display_data"
    }
   ],
   "source": [
    "# Boxplots of starting median salaries by type of college.\n",
    "\n",
    "college.boxplot('starting_median_salary',by='school_type')\n",
    "plt.title(\"Boxplot of Starting Median Salaries by School type\")\n",
    "# get rid of the automatic 'Boxplot grouped by group_by_column_name' title\n",
    "plt.suptitle(\"\")\n",
    "\n",
    "plt.show()"
   ]
  },
  {
   "cell_type": "code",
   "execution_count": 11,
   "metadata": {},
   "outputs": [
    {
     "name": "stderr",
     "output_type": "stream",
     "text": [
      "/Library/Frameworks/Python.framework/Versions/3.4/lib/python3.4/site-packages/numpy/core/fromnumeric.py:57: FutureWarning: reshape is deprecated and will raise in a subsequent release. Please use .values.reshape(...) instead\n",
      "  return getattr(obj, method)(*args, **kwds)\n"
     ]
    },
    {
     "data": {
      "image/png": "[encoded data removed]",
      "text/plain": [
       "<matplotlib.figure.Figure at 0x10aabe518>"
      ]
     },
     "metadata": {},
     "output_type": "display_data"
    }
   ],
   "source": [
    "#Boxplots of mid-career salaries by type of college\n",
    "\n",
    "college.boxplot('midcareer_median_salary',by='school_type')\n",
    "plt.title(\"Boxplot of Mid-Career Salaries by School type\")\n",
    "\n",
    "# get rid of the automatic 'Boxplot grouped by group_by_column_name' title\n",
    "plt.suptitle(\"\")\n",
    "\n",
    "plt.show()"
   ]
  },
  {
   "cell_type": "code",
   "execution_count": 12,
   "metadata": {},
   "outputs": [
    {
     "name": "stderr",
     "output_type": "stream",
     "text": [
      "/Library/Frameworks/Python.framework/Versions/3.4/lib/python3.4/site-packages/numpy/core/fromnumeric.py:57: FutureWarning: reshape is deprecated and will raise in a subsequent release. Please use .values.reshape(...) instead\n",
      "  return getattr(obj, method)(*args, **kwds)\n"
     ]
    },
    {
     "data": {
      "image/png": "[encoded data removed]",
      "text/plain": [
       "<matplotlib.figure.Figure at 0x10aadee48>"
      ]
     },
     "metadata": {},
     "output_type": "display_data"
    }
   ],
   "source": [
    "#Boxplot of the difference between starting median salaries and mid-career salaries for each college type\n",
    "\n",
    "college['median_salary_difference'] = college['midcareer_median_salary'] - college['starting_median_salary']\n",
    "\n",
    "college.boxplot('median_salary_difference', by='school_type')\n",
    "plt.title(\"Boxplot of Median Salary Differences by School type\")\n",
    "\n",
    "# get rid of the automatic 'Boxplot grouped by group_by_column_name' title\n",
    "plt.suptitle(\"\")\n",
    "\n",
    "plt.show()"
   ]
  },
  {
   "cell_type": "markdown",
   "metadata": {},
   "source": [
    "The boxplots show definitively that Engineering schools have the most range with starting median salaries, implying that where an engineering student goes to school matters more than the other types of colleges when looking at earning potential right after graduation.  Ivy Leagues have less variation in terms of starting salaries and the highest mean starting median salary. Where a student goes within the Ivy League system matters less when looking at starting median salaries, and graduates can reasonably expect to make more than graduates from other school types. Liberal Arts, Party and State schools have similar mean median starting salaries, with more variation in State schools.  State schools have a larger dataset compared to the other types. This may account for the variation.\n",
    "\n",
    "The mid-career boxplots show that, similar to the starting median salaries, Liberal Arts, State and Party schools have similar mean median salaries.  It is interesting to note that Ivy League mid-career salaries has pulled ahead of Engineering mid-career salaries, such that all eight mid-career salaries from Ivy League schools are higher than 50% of Engineering mid-career salaries.  \n",
    "\n",
    "The last boxpot examines the difference between mid-career salaries and starting salaries for each school type.  Not surprisingly, Ivy Leagues come on top again, with the highest mean difference in salaries.  This means that not only do Ivy League graduates have higher salaries to start with, they also experience higher increases in their salaries by mid-career.  Party schools have the second lowest mean and the least variation, suggesting that graduates from party schools experience limited growth in salaries.  State school, again, have the most variation.  \n",
    "\n"
   ]
  },
  {
   "cell_type": "markdown",
   "metadata": {},
   "source": [
    "### Significance testing\n",
    "To further explore the differences in median salaries between school types, we can conduct one-way ANOVA tests. These tests would determine if the mean differences in median salaries are statistically significant.\n",
    "\n",
    "#### Are the data for each school type normal?\n",
    "An important assumption of the ANOVA test is that the data is normally distributed.  To check for normality, we can generate QQ plots. QQ plots are used to visually inspect whether or not the data is normal by graphing a variable with an unknown distribution against a variable with a known distribution.  If the resulting points fall into a straight line running from the lower left-hand corner to the upper right-hand corner of the plot (as indicated by the trend lines), the data is normal. Deviations from the trend line indicate that the data is not normal."
   ]
  },
  {
   "cell_type": "code",
   "execution_count": 13,
   "metadata": {},
   "outputs": [],
   "source": [
    "# The following function generates qqplots for each school type\n",
    "\n",
    "# The attribute for this function is the column that contains the data we would like to test.\n",
    "def qqplot(column):\n",
    "    \n",
    "    plt.figure(figsize=(20,5))\n",
    "    types = ['Engineering','Ivy League','Liberal Arts','Party','State']\n",
    "\n",
    "    # Generates a qqplot for each type\n",
    "    for i in range(0,len(types)):  \n",
    "        \n",
    "        # Each school type's qqplot is placed in the subplot\n",
    "        plt.subplot(1, len(types), i+1)\n",
    "\n",
    "        t = types[i]\n",
    "\n",
    "        x = college[college['school_type'] == t][column].sort_values()\n",
    "        \n",
    "        # Including seed for reproducibility\n",
    "        np.random.seed(2119)\n",
    "        \n",
    "        norm = np.random.normal(0,1,len(x))\n",
    "        norm.sort()\n",
    "\n",
    "        # Colors of points are randonly generated for each school type.\n",
    "        plt.plot(norm, x, \"o\", c=np.random.rand(3))\n",
    "        plt.title(t)\n",
    "\n",
    "        #generate a trend line as in http://widu.tumblr.com/post/43624347354/matplotlib-trendline\n",
    "        z = np.polyfit(norm,x, 1)\n",
    "        p = np.poly1d(z)\n",
    "        plt.plot(norm,p(norm),\"k--\", linewidth=1)\n",
    "        \n",
    "        plt.xlabel(\"Theoretical quantiles\")\n",
    "        plt.ylabel(\"Experimental quantiles\")\n",
    "        plt.tick_params()\n",
    "\n",
    "        i = i + 1 "
   ]
  },
  {
   "cell_type": "code",
   "execution_count": 14,
   "metadata": {},
   "outputs": [
    {
     "data": {
      "image/png": "[encoded data removed]",
      "text/plain": [
       "<matplotlib.figure.Figure at 0x10ae569b0>"
      ]
     },
     "metadata": {},
     "output_type": "display_data"
    }
   ],
   "source": [
    "qqplot('starting_median_salary')"
   ]
  },
  {
   "cell_type": "code",
   "execution_count": 15,
   "metadata": {},
   "outputs": [
    {
     "data": {
      "image/png": "[encoded data removed]",
      "text/plain": [
       "<matplotlib.figure.Figure at 0x10b1ec240>"
      ]
     },
     "metadata": {},
     "output_type": "display_data"
    }
   ],
   "source": [
    "qqplot('midcareer_median_salary')"
   ]
  },
  {
   "cell_type": "markdown",
   "metadata": {},
   "source": [
    "The QQ plots above show left skews for Liberal Arts and Party schools, as the points do not fall in straight lines.  This means that the majority of the data for Liberal Arts and Party schools is concentrated above the mean with a long tail extending to left.  \n",
    "\n",
    "While ANOVA requires variables to be normally distributed, it is robust to modest violations of normality.  So for the purposes of this analysis, I will move forward with the ANOVA tests."
   ]
  },
  {
   "cell_type": "code",
   "execution_count": 16,
   "metadata": {},
   "outputs": [],
   "source": [
    "# Setting up for running ANOVA tests\n",
    "\n",
    "grps = ['Engineering','Ivy League','Liberal Arts', 'Party', 'State']\n",
    "sm_data = {grp:college['starting_median_salary'][college.school_type == grp] for grp in grps}\n",
    "mc_data = {grp:college['midcareer_median_salary'][college.school_type == grp] for grp in grps}\n",
    "k = len(pd.unique(college.school_type))\n",
    "N = len(college.values)\n",
    "n = college.groupby('school_type').size()[0]"
   ]
  },
  {
   "cell_type": "markdown",
   "metadata": {},
   "source": [
    "#### Is the mean median starting and mid-career salaries significantly different between Liberal Arts, Party and State schools?"
   ]
  },
  {
   "cell_type": "code",
   "execution_count": 60,
   "metadata": {},
   "outputs": [],
   "source": [
    "# First we should remove the outliers for the State Schools, as outliers could skew the mean calculations.\n",
    "# Outliers in this case are points that go beyond 1.5x the IQR away from the top and bottom of the boxplot.\n",
    "\n",
    "state = college[college['school_type'] == 'State']\n",
    "state_sm = state[np.abs(state.starting_median_salary-state.starting_median_salary.mean()) < (1.5*state.starting_median_salary.std())]\n",
    "state_mc = state[np.abs(state.midcareer_median_salary-state.midcareer_median_salary.mean()) < (1.5*state.midcareer_median_salary.std())]"
   ]
  },
  {
   "cell_type": "code",
   "execution_count": 61,
   "metadata": {},
   "outputs": [
    {
     "data": {
      "image/png": "[encoded data removed]",
      "text/plain": [
       "<matplotlib.figure.Figure at 0x10b1a60f0>"
      ]
     },
     "metadata": {},
     "output_type": "display_data"
    }
   ],
   "source": [
    "# Check boxplots that outliers have been removed\n",
    "\n",
    "plt.figure(figsize=(10,5))\n",
    "\n",
    "plt.subplot(1,2,1)\n",
    "state_sm.boxplot('starting_median_salary')\n",
    "\n",
    "plt.subplot(1,2,2)\n",
    "state_mc.boxplot('midcareer_median_salary')\n",
    "\n",
    "plt.show()"
   ]
  },
  {
   "cell_type": "code",
   "execution_count": 62,
   "metadata": {},
   "outputs": [
    {
     "name": "stdout",
     "output_type": "stream",
     "text": [
      "F-Statistic is  8.07\n",
      "p-value is  0.0004\n"
     ]
    }
   ],
   "source": [
    "# Let's start by comparing the starting median salaries of Liberal Arts, Party, and State schools.\n",
    "f, p = stats.f_oneway(sm_data['Liberal Arts'], sm_data['Party'], state_sm['starting_median_salary'])\n",
    "\n",
    "print('F-Statistic is ', f.round(2)) \n",
    "print('p-value is ', p.round(4))"
   ]
  },
  {
   "cell_type": "markdown",
   "metadata": {},
   "source": [
    "The F-Statistic of 8.07 and a p-value of 0.0004 indicate that, if the the starting median salaries of these three schools are the same, we would expect to obtain the observed difference or more extreme in 0.04% of the studies due to sampling error.  We have enough evidence to reject the null hypothesis and assume that these three types of schools have significantly different starting median salaries."
   ]
  },
  {
   "cell_type": "code",
   "execution_count": 63,
   "metadata": {},
   "outputs": [
    {
     "name": "stdout",
     "output_type": "stream",
     "text": [
      "F-Statistic is  35.21\n",
      "p-value is  0.0\n"
     ]
    }
   ],
   "source": [
    "# Looking at mid-career salaries between Liberal Arts, Party and State\n",
    "f, p = stats.f_oneway(mc_data['Liberal Arts'], mc_data['Party'], state_mc['midcareer_median_salary'])\n",
    "\n",
    "print('F-Statistic is ', f.round(2)) \n",
    "print('p-value is ', p.round(4))"
   ]
  },
  {
   "cell_type": "markdown",
   "metadata": {},
   "source": [
    "The F-Statistic of 35.21 and a p-value of 0 indicates we can reject the null hypothesis and assume that these three types of schools have significantly different mid-career median salaries."
   ]
  },
  {
   "cell_type": "markdown",
   "metadata": {},
   "source": [
    "#### Is the mean median starting and mid-career salaries significantly different between Liberal Arts and Party?\n",
    "\n",
    "State school have a lot of variation, which may affect the mean.  What if we just compare Party and Liberal Arts schools?"
   ]
  },
  {
   "cell_type": "code",
   "execution_count": 58,
   "metadata": {},
   "outputs": [
    {
     "name": "stdout",
     "output_type": "stream",
     "text": [
      "Starting Median Salary:\n",
      "F-Statistic is  0.0\n",
      "p-value is  0.9774\n",
      "\n",
      "\n",
      "Mid-Career Median Salary:\n",
      "F-Statistic is  2.52\n",
      "p-value is  0.1173\n"
     ]
    }
   ],
   "source": [
    "f, p = stats.f_oneway(sm_data['Liberal Arts'], sm_data['Party'])\n",
    "\n",
    "print('Starting Median Salary:')\n",
    "print('F-Statistic is ', f.round(2)) \n",
    "print('p-value is ', p.round(4))\n",
    "print('\\n')\n",
    "\n",
    "f, p = stats.f_oneway(mc_data['Liberal Arts'], mc_data['Party'])\n",
    "\n",
    "print('Mid-Career Median Salary:')\n",
    "print('F-Statistic is ', f.round(2)) \n",
    "print('p-value is ', p.round(4))"
   ]
  },
  {
   "cell_type": "markdown",
   "metadata": {},
   "source": [
    "When comparing the mean median salaries of Liberal Arts and Party schools, there is not enough evidence to show a statistically significant difference in in both starting and mid-career mean median salaries.  "
   ]
  },
  {
   "cell_type": "markdown",
   "metadata": {},
   "source": [
    "#### Is the mean median starting and mid-career salaries significantly different between Engineering and Ivy League schools?"
   ]
  },
  {
   "cell_type": "code",
   "execution_count": 59,
   "metadata": {},
   "outputs": [
    {
     "name": "stdout",
     "output_type": "stream",
     "text": [
      "Starting Median Salary:\n",
      "F-Statistic is  0.24\n",
      "p-value is  0.6288\n",
      "\n",
      "\n",
      "Mid-Career Median Salary:\n",
      "F-Statistic is  8.87\n",
      "p-value is  0.0064\n"
     ]
    }
   ],
   "source": [
    "# Now let's compare the starting median salaries and mid-career salaries for engineering and Ivy League schools.\n",
    "f, p = stats.f_oneway(sm_data['Engineering'], sm_data['Ivy League'])\n",
    "\n",
    "print('Starting Median Salary:')\n",
    "print('F-Statistic is ', f.round(2)) \n",
    "print('p-value is ', p.round(4))\n",
    "print('\\n')\n",
    "\n",
    "f, p = stats.f_oneway(mc_data['Engineering'], mc_data['Ivy League'])\n",
    "print('Mid-Career Median Salary:')\n",
    "print('F-Statistic is ', f.round(2)) \n",
    "print('p-value is ', p.round(4))"
   ]
  },
  {
   "cell_type": "markdown",
   "metadata": {},
   "source": [
    "Interestingly, the difference in mean median salaries of Engineering and Ivy League schools start off as not significantly different (p-value = 0.6288), but become significant when we look at mid-career salaries (p-value = 0.0064).  This suggests that, in the long run, it still pays to go to an Ivy League school.  "
   ]
  },
  {
   "cell_type": "markdown",
   "metadata": {},
   "source": [
    "## Conclusion\n",
    "\n",
    "So where does it pay to go to college?  According to this dataset, Ivy league graduates generally make money money right out of college and 10 years after graduation compared to graduates from other school types.  Plus, there is less variation within the Ivy League system in terms of median salaries, so where a student goes within the Ivy League system does not seem to matter.  This is in contrast to Engineering schools, where the school attended matters in terms of starting and mid-career median salaries.  Looking at the distribution of median salaries, students from a \"good\" engineering school can make as much mid-career as an Ivy League student. Students from a \"bad\" engineering school may do just as well as a student from a Party, Liberal Arts, or State school.\n",
    "\n",
    "There is more variation in median salaries for state schools, including more outliers.  This indicates that the state school attended by the student matters when looking at starting and mid-career salaries.  When comparing mean median salaries for state, liberal arts and party schools, the difference is statistically significant.  Mean median salaries of liberal arts and party schools, on the other hand, are not statistically significant.  This suggests that students from party schools have similar salaries to students in liberal arts schools.\n",
    "\n",
    "If we compare Engineering and Ivy League schools, the difference in mean median salaries start out as insignificant, but becomes significant ten years post-graduation with Ivy League salaries pulling ahead.  \n",
    "\n",
    "### Limitations\n",
    "\n",
    "There are limitations to this analysis.  For one, the dataset only includes the median salaries of each school's graduates.  We do not have information on the salary distribution within the school.  Ivy League schools also have a small n of eight, as there are eight Ivy League schools in the system.  Because of the small n, it is difficult to determine normality.  This is a limitation that cannot be removed.\n",
    "\n",
    "We are also not considering other factors that may impact salary, such as the student's major or whether the student went to grad school before hitting mid-career.  It is also worth noting that this analysis does not consider the aspects of the student.  A typical Ivy League student, for example, is going to look different than a typical Party school student.  Because the selection of the student into a university is not random, we cannot assume that going to the \"right\" school is the only determining factor in the students' future earnings."
   ]
  },
  {
   "cell_type": "markdown",
   "metadata": {},
   "source": [
    "## Further Research\n",
    "\n",
    "The current analysis does not consider the cost of tuition and student loans.  Ivy leagues, for example, have higher sticker prices than state schools.  How long does it take a student of each type school to earn back the cost of tuition?  If we consider the median student loan amounts, how would the conclusions change? Would it still pay to go to an Ivy League school? Analysis into tuition and student loans would require gathering more data through APIs and/or web-scraping.\n",
    "\n",
    "It would also be interesting to incorporate other student aspects that may affect earning potential.  Where did the student go to high school?  What was his high school and college GPA?  What was her major?  Did his parents attend college? Is the college's region correlated with median salaries?  We could apply linear regression models to determine what factors result in the highest starting and mid-career salaries. "
   ]
  }
 ],
 "metadata": {
  "kernelspec": {
   "display_name": "Python 3",
   "language": "python",
   "name": "python3"
  },
  "language_info": {
   "codemirror_mode": {
    "name": "ipython",
    "version": 3
   },
   "file_extension": ".py",
   "mimetype": "text/x-python",
   "name": "python",
   "nbconvert_exporter": "python",
   "pygments_lexer": "ipython3",
   "version": "3.4.3"
  }
 },
 "nbformat": 4,
 "nbformat_minor": 2
}
