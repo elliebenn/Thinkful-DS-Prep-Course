{
 "cells": [
  {
   "cell_type": "markdown",
   "metadata": {},
   "source": [
    "# Where does it pay to go to college?\n",
    "Joanne Lin\n",
    "\n",
    "### Abstract:\n",
    "The student loan debt landscape is pretty grim.  In the US, Americans owe 1.45 trillion dollars in student loans, spread over 44.2 million borrowers ([source](https://blogs.wsj.com/economics/2016/05/02/student-debt-is-about-to-set-another-record-but-the-picture-isnt-all-bad/)).  The average graduate in 2016 has over $37,000 in loans to pay off ([source](https://blogs.wsj.com/economics/2016/05/02/student-debt-is-about-to-set-another-record-but-the-picture-isnt-all-bad/)). More than ever, students and their families must consider earning potential post-graduation when deciding where to attend college.  \n",
    "\n",
    "The following project examines the starting and mid-career salaries of 5 different school types:  Engineering, Ivy League, Liberal Arts, Party Schools and State schools.  I will determine what kind of salary graduates of each school type can reasonably expect right out of school and during their mid-careers.  I will also be running significance tests to compare salaries between schools.    "
   ]
  },
  {
   "cell_type": "markdown",
   "metadata": {},
   "source": [
    "## Setting up the data frames"
   ]
  },
  {
   "cell_type": "code",
   "execution_count": 1,
   "metadata": {},
   "outputs": [],
   "source": [
    "# Importing libraries\n",
    "import pandas as pd\n",
    "import numpy as np\n",
    "import matplotlib.pyplot as plt\n",
    "from scipy import stats\n",
    "%matplotlib inline"
   ]
  },
  {
   "cell_type": "markdown",
   "metadata": {},
   "source": [
    "#### Data Source\n",
    "\n",
    "I downloaded this dataset frm kaggle.com ([source](https://www.kaggle.com/wsj/college-salaries)).  It was originally aggregated by the Wall Street Journal from Payscale, Inc.   \"Mid-Career\" is defined as 10 years post-commencement. "
   ]
  },
  {
   "cell_type": "code",
   "execution_count": 2,
   "metadata": {},
   "outputs": [
    {
     "data": {
      "text/html": [
       "<div>\n",
       "<style>\n",
       "    .dataframe thead tr:only-child th {\n",
       "        text-align: right;\n",
       "    }\n",
       "\n",
       "    .dataframe thead th {\n",
       "        text-align: left;\n",
       "    }\n",
       "\n",
       "    .dataframe tbody tr th {\n",
       "        vertical-align: top;\n",
       "    }\n",
       "</style>\n",
       "<table border=\"1\" class=\"dataframe\">\n",
       "  <thead>\n",
       "    <tr style=\"text-align: right;\">\n",
       "      <th></th>\n",
       "      <th>School Name</th>\n",
       "      <th>School Type</th>\n",
       "      <th>Starting Median Salary</th>\n",
       "      <th>Mid-Career Median Salary</th>\n",
       "      <th>Mid-Career 10th Percentile Salary</th>\n",
       "      <th>Mid-Career 25th Percentile Salary</th>\n",
       "      <th>Mid-Career 75th Percentile Salary</th>\n",
       "      <th>Mid-Career 90th Percentile Salary</th>\n",
       "    </tr>\n",
       "  </thead>\n",
       "  <tbody>\n",
       "    <tr>\n",
       "      <th>0</th>\n",
       "      <td>Massachusetts Institute of Technology (MIT)</td>\n",
       "      <td>Engineering</td>\n",
       "      <td>$72,200.00</td>\n",
       "      <td>$126,000.00</td>\n",
       "      <td>$76,800.00</td>\n",
       "      <td>$99,200.00</td>\n",
       "      <td>$168,000.00</td>\n",
       "      <td>$220,000.00</td>\n",
       "    </tr>\n",
       "    <tr>\n",
       "      <th>1</th>\n",
       "      <td>California Institute of Technology (CIT)</td>\n",
       "      <td>Engineering</td>\n",
       "      <td>$75,500.00</td>\n",
       "      <td>$123,000.00</td>\n",
       "      <td>NaN</td>\n",
       "      <td>$104,000.00</td>\n",
       "      <td>$161,000.00</td>\n",
       "      <td>NaN</td>\n",
       "    </tr>\n",
       "    <tr>\n",
       "      <th>2</th>\n",
       "      <td>Harvey Mudd College</td>\n",
       "      <td>Engineering</td>\n",
       "      <td>$71,800.00</td>\n",
       "      <td>$122,000.00</td>\n",
       "      <td>NaN</td>\n",
       "      <td>$96,000.00</td>\n",
       "      <td>$180,000.00</td>\n",
       "      <td>NaN</td>\n",
       "    </tr>\n",
       "    <tr>\n",
       "      <th>3</th>\n",
       "      <td>Polytechnic University of New York, Brooklyn</td>\n",
       "      <td>Engineering</td>\n",
       "      <td>$62,400.00</td>\n",
       "      <td>$114,000.00</td>\n",
       "      <td>$66,800.00</td>\n",
       "      <td>$94,300.00</td>\n",
       "      <td>$143,000.00</td>\n",
       "      <td>$190,000.00</td>\n",
       "    </tr>\n",
       "    <tr>\n",
       "      <th>4</th>\n",
       "      <td>Cooper Union</td>\n",
       "      <td>Engineering</td>\n",
       "      <td>$62,200.00</td>\n",
       "      <td>$114,000.00</td>\n",
       "      <td>NaN</td>\n",
       "      <td>$80,200.00</td>\n",
       "      <td>$142,000.00</td>\n",
       "      <td>NaN</td>\n",
       "    </tr>\n",
       "  </tbody>\n",
       "</table>\n",
       "</div>"
      ],
      "text/plain": [
       "                                    School Name  School Type  \\\n",
       "0   Massachusetts Institute of Technology (MIT)  Engineering   \n",
       "1      California Institute of Technology (CIT)  Engineering   \n",
       "2                           Harvey Mudd College  Engineering   \n",
       "3  Polytechnic University of New York, Brooklyn  Engineering   \n",
       "4                                  Cooper Union  Engineering   \n",
       "\n",
       "  Starting Median Salary Mid-Career Median Salary  \\\n",
       "0             $72,200.00              $126,000.00   \n",
       "1             $75,500.00              $123,000.00   \n",
       "2             $71,800.00              $122,000.00   \n",
       "3             $62,400.00              $114,000.00   \n",
       "4             $62,200.00              $114,000.00   \n",
       "\n",
       "  Mid-Career 10th Percentile Salary Mid-Career 25th Percentile Salary  \\\n",
       "0                        $76,800.00                        $99,200.00   \n",
       "1                               NaN                       $104,000.00   \n",
       "2                               NaN                        $96,000.00   \n",
       "3                        $66,800.00                        $94,300.00   \n",
       "4                               NaN                        $80,200.00   \n",
       "\n",
       "  Mid-Career 75th Percentile Salary Mid-Career 90th Percentile Salary  \n",
       "0                       $168,000.00                       $220,000.00  \n",
       "1                       $161,000.00                               NaN  \n",
       "2                       $180,000.00                               NaN  \n",
       "3                       $143,000.00                       $190,000.00  \n",
       "4                       $142,000.00                               NaN  "
      ]
     },
     "execution_count": 2,
     "metadata": {},
     "output_type": "execute_result"
    }
   ],
   "source": [
    "# Loading files\n",
    "college = pd.read_csv('capstone-data/salaries-by-college-type.csv')\n",
    "\n",
    "college.head()"
   ]
  },
  {
   "cell_type": "code",
   "execution_count": 3,
   "metadata": {},
   "outputs": [
    {
     "data": {
      "text/html": [
       "<div>\n",
       "<style>\n",
       "    .dataframe thead tr:only-child th {\n",
       "        text-align: right;\n",
       "    }\n",
       "\n",
       "    .dataframe thead th {\n",
       "        text-align: left;\n",
       "    }\n",
       "\n",
       "    .dataframe tbody tr th {\n",
       "        vertical-align: top;\n",
       "    }\n",
       "</style>\n",
       "<table border=\"1\" class=\"dataframe\">\n",
       "  <thead>\n",
       "    <tr style=\"text-align: right;\">\n",
       "      <th></th>\n",
       "      <th>name</th>\n",
       "      <th>type</th>\n",
       "      <th>start_med</th>\n",
       "      <th>mid_med</th>\n",
       "      <th>mid_p10</th>\n",
       "      <th>mid_p25</th>\n",
       "      <th>mid_p75</th>\n",
       "      <th>mid_p90</th>\n",
       "    </tr>\n",
       "  </thead>\n",
       "  <tbody>\n",
       "    <tr>\n",
       "      <th>0</th>\n",
       "      <td>Massachusetts Institute of Technology (MIT)</td>\n",
       "      <td>Engineering</td>\n",
       "      <td>$72,200.00</td>\n",
       "      <td>$126,000.00</td>\n",
       "      <td>$76,800.00</td>\n",
       "      <td>$99,200.00</td>\n",
       "      <td>$168,000.00</td>\n",
       "      <td>$220,000.00</td>\n",
       "    </tr>\n",
       "    <tr>\n",
       "      <th>1</th>\n",
       "      <td>California Institute of Technology (CIT)</td>\n",
       "      <td>Engineering</td>\n",
       "      <td>$75,500.00</td>\n",
       "      <td>$123,000.00</td>\n",
       "      <td>NaN</td>\n",
       "      <td>$104,000.00</td>\n",
       "      <td>$161,000.00</td>\n",
       "      <td>NaN</td>\n",
       "    </tr>\n",
       "    <tr>\n",
       "      <th>2</th>\n",
       "      <td>Harvey Mudd College</td>\n",
       "      <td>Engineering</td>\n",
       "      <td>$71,800.00</td>\n",
       "      <td>$122,000.00</td>\n",
       "      <td>NaN</td>\n",
       "      <td>$96,000.00</td>\n",
       "      <td>$180,000.00</td>\n",
       "      <td>NaN</td>\n",
       "    </tr>\n",
       "    <tr>\n",
       "      <th>3</th>\n",
       "      <td>Polytechnic University of New York, Brooklyn</td>\n",
       "      <td>Engineering</td>\n",
       "      <td>$62,400.00</td>\n",
       "      <td>$114,000.00</td>\n",
       "      <td>$66,800.00</td>\n",
       "      <td>$94,300.00</td>\n",
       "      <td>$143,000.00</td>\n",
       "      <td>$190,000.00</td>\n",
       "    </tr>\n",
       "    <tr>\n",
       "      <th>4</th>\n",
       "      <td>Cooper Union</td>\n",
       "      <td>Engineering</td>\n",
       "      <td>$62,200.00</td>\n",
       "      <td>$114,000.00</td>\n",
       "      <td>NaN</td>\n",
       "      <td>$80,200.00</td>\n",
       "      <td>$142,000.00</td>\n",
       "      <td>NaN</td>\n",
       "    </tr>\n",
       "  </tbody>\n",
       "</table>\n",
       "</div>"
      ],
      "text/plain": [
       "                                           name         type   start_med  \\\n",
       "0   Massachusetts Institute of Technology (MIT)  Engineering  $72,200.00   \n",
       "1      California Institute of Technology (CIT)  Engineering  $75,500.00   \n",
       "2                           Harvey Mudd College  Engineering  $71,800.00   \n",
       "3  Polytechnic University of New York, Brooklyn  Engineering  $62,400.00   \n",
       "4                                  Cooper Union  Engineering  $62,200.00   \n",
       "\n",
       "       mid_med     mid_p10      mid_p25      mid_p75      mid_p90  \n",
       "0  $126,000.00  $76,800.00   $99,200.00  $168,000.00  $220,000.00  \n",
       "1  $123,000.00         NaN  $104,000.00  $161,000.00          NaN  \n",
       "2  $122,000.00         NaN   $96,000.00  $180,000.00          NaN  \n",
       "3  $114,000.00  $66,800.00   $94,300.00  $143,000.00  $190,000.00  \n",
       "4  $114,000.00         NaN   $80,200.00  $142,000.00          NaN  "
      ]
     },
     "execution_count": 3,
     "metadata": {},
     "output_type": "execute_result"
    }
   ],
   "source": [
    "# Renaming columns\n",
    "college.columns = ['name', 'type','start_med', 'mid_med', 'mid_p10', 'mid_p25', 'mid_p75', 'mid_p90']\n",
    "college.head()"
   ]
  },
  {
   "cell_type": "code",
   "execution_count": 4,
   "metadata": {},
   "outputs": [
    {
     "data": {
      "text/html": [
       "<div>\n",
       "<style>\n",
       "    .dataframe thead tr:only-child th {\n",
       "        text-align: right;\n",
       "    }\n",
       "\n",
       "    .dataframe thead th {\n",
       "        text-align: left;\n",
       "    }\n",
       "\n",
       "    .dataframe tbody tr th {\n",
       "        vertical-align: top;\n",
       "    }\n",
       "</style>\n",
       "<table border=\"1\" class=\"dataframe\">\n",
       "  <thead>\n",
       "    <tr style=\"text-align: right;\">\n",
       "      <th></th>\n",
       "      <th>name</th>\n",
       "      <th>type</th>\n",
       "      <th>start_med</th>\n",
       "      <th>mid_med</th>\n",
       "      <th>mid_p10</th>\n",
       "      <th>mid_p25</th>\n",
       "      <th>mid_p75</th>\n",
       "      <th>mid_p90</th>\n",
       "    </tr>\n",
       "  </thead>\n",
       "  <tbody>\n",
       "    <tr>\n",
       "      <th>0</th>\n",
       "      <td>Massachusetts Institute of Technology (MIT)</td>\n",
       "      <td>Engineering</td>\n",
       "      <td>72200.0</td>\n",
       "      <td>126000.0</td>\n",
       "      <td>76800.0</td>\n",
       "      <td>99200.0</td>\n",
       "      <td>168000.0</td>\n",
       "      <td>220000.0</td>\n",
       "    </tr>\n",
       "    <tr>\n",
       "      <th>1</th>\n",
       "      <td>California Institute of Technology (CIT)</td>\n",
       "      <td>Engineering</td>\n",
       "      <td>75500.0</td>\n",
       "      <td>123000.0</td>\n",
       "      <td>NaN</td>\n",
       "      <td>104000.0</td>\n",
       "      <td>161000.0</td>\n",
       "      <td>NaN</td>\n",
       "    </tr>\n",
       "    <tr>\n",
       "      <th>2</th>\n",
       "      <td>Harvey Mudd College</td>\n",
       "      <td>Engineering</td>\n",
       "      <td>71800.0</td>\n",
       "      <td>122000.0</td>\n",
       "      <td>NaN</td>\n",
       "      <td>96000.0</td>\n",
       "      <td>180000.0</td>\n",
       "      <td>NaN</td>\n",
       "    </tr>\n",
       "    <tr>\n",
       "      <th>3</th>\n",
       "      <td>Polytechnic University of New York, Brooklyn</td>\n",
       "      <td>Engineering</td>\n",
       "      <td>62400.0</td>\n",
       "      <td>114000.0</td>\n",
       "      <td>66800.0</td>\n",
       "      <td>94300.0</td>\n",
       "      <td>143000.0</td>\n",
       "      <td>190000.0</td>\n",
       "    </tr>\n",
       "    <tr>\n",
       "      <th>4</th>\n",
       "      <td>Cooper Union</td>\n",
       "      <td>Engineering</td>\n",
       "      <td>62200.0</td>\n",
       "      <td>114000.0</td>\n",
       "      <td>NaN</td>\n",
       "      <td>80200.0</td>\n",
       "      <td>142000.0</td>\n",
       "      <td>NaN</td>\n",
       "    </tr>\n",
       "  </tbody>\n",
       "</table>\n",
       "</div>"
      ],
      "text/plain": [
       "                                           name         type  start_med  \\\n",
       "0   Massachusetts Institute of Technology (MIT)  Engineering    72200.0   \n",
       "1      California Institute of Technology (CIT)  Engineering    75500.0   \n",
       "2                           Harvey Mudd College  Engineering    71800.0   \n",
       "3  Polytechnic University of New York, Brooklyn  Engineering    62400.0   \n",
       "4                                  Cooper Union  Engineering    62200.0   \n",
       "\n",
       "    mid_med  mid_p10   mid_p25   mid_p75   mid_p90  \n",
       "0  126000.0  76800.0   99200.0  168000.0  220000.0  \n",
       "1  123000.0      NaN  104000.0  161000.0       NaN  \n",
       "2  122000.0      NaN   96000.0  180000.0       NaN  \n",
       "3  114000.0  66800.0   94300.0  143000.0  190000.0  \n",
       "4  114000.0      NaN   80200.0  142000.0       NaN  "
      ]
     },
     "execution_count": 4,
     "metadata": {},
     "output_type": "execute_result"
    }
   ],
   "source": [
    "#Changing strings to ints for analysis\n",
    "\n",
    "dollar_cols = ['start_med', 'mid_med', 'mid_p10', 'mid_p25', 'mid_p75', 'mid_p90']\n",
    "\n",
    "for x in dollar_cols:\n",
    "    college[x] = college[x].str.replace(\"$\",\"\")\n",
    "    college[x] = college[x].str.replace(\",\",\"\")\n",
    "    college[x] = pd.to_numeric(college[x])\n",
    "\n",
    "college.head()"
   ]
  },
  {
   "cell_type": "markdown",
   "metadata": {},
   "source": [
    "## Describing the dataset"
   ]
  },
  {
   "cell_type": "code",
   "execution_count": 5,
   "metadata": {},
   "outputs": [
    {
     "data": {
      "text/html": [
       "<div>\n",
       "<style>\n",
       "    .dataframe thead tr:only-child th {\n",
       "        text-align: right;\n",
       "    }\n",
       "\n",
       "    .dataframe thead th {\n",
       "        text-align: left;\n",
       "    }\n",
       "\n",
       "    .dataframe tbody tr th {\n",
       "        vertical-align: top;\n",
       "    }\n",
       "</style>\n",
       "<table border=\"1\" class=\"dataframe\">\n",
       "  <thead>\n",
       "    <tr style=\"text-align: right;\">\n",
       "      <th></th>\n",
       "      <th>start_med</th>\n",
       "      <th>mid_med</th>\n",
       "      <th>mid_p10</th>\n",
       "      <th>mid_p25</th>\n",
       "      <th>mid_p75</th>\n",
       "      <th>mid_p90</th>\n",
       "    </tr>\n",
       "  </thead>\n",
       "  <tbody>\n",
       "    <tr>\n",
       "      <th>count</th>\n",
       "      <td>269.0</td>\n",
       "      <td>269.0</td>\n",
       "      <td>231.0</td>\n",
       "      <td>269.0</td>\n",
       "      <td>269.0</td>\n",
       "      <td>231.0</td>\n",
       "    </tr>\n",
       "    <tr>\n",
       "      <th>mean</th>\n",
       "      <td>46068.0</td>\n",
       "      <td>83932.0</td>\n",
       "      <td>44251.0</td>\n",
       "      <td>60373.0</td>\n",
       "      <td>116275.0</td>\n",
       "      <td>157706.0</td>\n",
       "    </tr>\n",
       "    <tr>\n",
       "      <th>std</th>\n",
       "      <td>6413.0</td>\n",
       "      <td>14336.0</td>\n",
       "      <td>8720.0</td>\n",
       "      <td>11381.0</td>\n",
       "      <td>22952.0</td>\n",
       "      <td>34823.0</td>\n",
       "    </tr>\n",
       "    <tr>\n",
       "      <th>min</th>\n",
       "      <td>34800.0</td>\n",
       "      <td>43900.0</td>\n",
       "      <td>22600.0</td>\n",
       "      <td>31800.0</td>\n",
       "      <td>60900.0</td>\n",
       "      <td>87600.0</td>\n",
       "    </tr>\n",
       "    <tr>\n",
       "      <th>25%</th>\n",
       "      <td>42000.0</td>\n",
       "      <td>74000.0</td>\n",
       "      <td>39000.0</td>\n",
       "      <td>53200.0</td>\n",
       "      <td>100000.0</td>\n",
       "      <td>136000.0</td>\n",
       "    </tr>\n",
       "    <tr>\n",
       "      <th>50%</th>\n",
       "      <td>44700.0</td>\n",
       "      <td>81600.0</td>\n",
       "      <td>43100.0</td>\n",
       "      <td>58400.0</td>\n",
       "      <td>113000.0</td>\n",
       "      <td>153000.0</td>\n",
       "    </tr>\n",
       "    <tr>\n",
       "      <th>75%</th>\n",
       "      <td>48300.0</td>\n",
       "      <td>92200.0</td>\n",
       "      <td>47400.0</td>\n",
       "      <td>65100.0</td>\n",
       "      <td>126000.0</td>\n",
       "      <td>170500.0</td>\n",
       "    </tr>\n",
       "    <tr>\n",
       "      <th>max</th>\n",
       "      <td>75500.0</td>\n",
       "      <td>134000.0</td>\n",
       "      <td>80000.0</td>\n",
       "      <td>104000.0</td>\n",
       "      <td>234000.0</td>\n",
       "      <td>326000.0</td>\n",
       "    </tr>\n",
       "  </tbody>\n",
       "</table>\n",
       "</div>"
      ],
      "text/plain": [
       "       start_med   mid_med  mid_p10   mid_p25   mid_p75   mid_p90\n",
       "count      269.0     269.0    231.0     269.0     269.0     231.0\n",
       "mean     46068.0   83932.0  44251.0   60373.0  116275.0  157706.0\n",
       "std       6413.0   14336.0   8720.0   11381.0   22952.0   34823.0\n",
       "min      34800.0   43900.0  22600.0   31800.0   60900.0   87600.0\n",
       "25%      42000.0   74000.0  39000.0   53200.0  100000.0  136000.0\n",
       "50%      44700.0   81600.0  43100.0   58400.0  113000.0  153000.0\n",
       "75%      48300.0   92200.0  47400.0   65100.0  126000.0  170500.0\n",
       "max      75500.0  134000.0  80000.0  104000.0  234000.0  326000.0"
      ]
     },
     "execution_count": 5,
     "metadata": {},
     "output_type": "execute_result"
    }
   ],
   "source": [
    "# Summary statistics of college dataset\n",
    "college.describe().round(0)"
   ]
  },
  {
   "cell_type": "code",
   "execution_count": 6,
   "metadata": {},
   "outputs": [
    {
     "data": {
      "text/html": [
       "<div>\n",
       "<style>\n",
       "    .dataframe thead tr:only-child th {\n",
       "        text-align: right;\n",
       "    }\n",
       "\n",
       "    .dataframe thead th {\n",
       "        text-align: left;\n",
       "    }\n",
       "\n",
       "    .dataframe tbody tr th {\n",
       "        vertical-align: top;\n",
       "    }\n",
       "</style>\n",
       "<table border=\"1\" class=\"dataframe\">\n",
       "  <thead>\n",
       "    <tr>\n",
       "      <th></th>\n",
       "      <th colspan=\"8\" halign=\"left\">mid_med</th>\n",
       "      <th colspan=\"2\" halign=\"left\">mid_p10</th>\n",
       "      <th>...</th>\n",
       "      <th colspan=\"2\" halign=\"left\">mid_p90</th>\n",
       "      <th colspan=\"8\" halign=\"left\">start_med</th>\n",
       "    </tr>\n",
       "    <tr>\n",
       "      <th></th>\n",
       "      <th>count</th>\n",
       "      <th>mean</th>\n",
       "      <th>std</th>\n",
       "      <th>min</th>\n",
       "      <th>25%</th>\n",
       "      <th>50%</th>\n",
       "      <th>75%</th>\n",
       "      <th>max</th>\n",
       "      <th>count</th>\n",
       "      <th>mean</th>\n",
       "      <th>...</th>\n",
       "      <th>75%</th>\n",
       "      <th>max</th>\n",
       "      <th>count</th>\n",
       "      <th>mean</th>\n",
       "      <th>std</th>\n",
       "      <th>min</th>\n",
       "      <th>25%</th>\n",
       "      <th>50%</th>\n",
       "      <th>75%</th>\n",
       "      <th>max</th>\n",
       "    </tr>\n",
       "    <tr>\n",
       "      <th>type</th>\n",
       "      <th></th>\n",
       "      <th></th>\n",
       "      <th></th>\n",
       "      <th></th>\n",
       "      <th></th>\n",
       "      <th></th>\n",
       "      <th></th>\n",
       "      <th></th>\n",
       "      <th></th>\n",
       "      <th></th>\n",
       "      <th></th>\n",
       "      <th></th>\n",
       "      <th></th>\n",
       "      <th></th>\n",
       "      <th></th>\n",
       "      <th></th>\n",
       "      <th></th>\n",
       "      <th></th>\n",
       "      <th></th>\n",
       "      <th></th>\n",
       "      <th></th>\n",
       "    </tr>\n",
       "  </thead>\n",
       "  <tbody>\n",
       "    <tr>\n",
       "      <th>Engineering</th>\n",
       "      <td>19.0</td>\n",
       "      <td>103842.11</td>\n",
       "      <td>13840.73</td>\n",
       "      <td>80000.0</td>\n",
       "      <td>94400.0</td>\n",
       "      <td>106000.0</td>\n",
       "      <td>114000.0</td>\n",
       "      <td>126000.0</td>\n",
       "      <td>15.0</td>\n",
       "      <td>61793.33</td>\n",
       "      <td>...</td>\n",
       "      <td>187500.0</td>\n",
       "      <td>220000.0</td>\n",
       "      <td>19.0</td>\n",
       "      <td>59057.89</td>\n",
       "      <td>7842.92</td>\n",
       "      <td>46200.0</td>\n",
       "      <td>53250.0</td>\n",
       "      <td>58300.0</td>\n",
       "      <td>62000.0</td>\n",
       "      <td>75500.0</td>\n",
       "    </tr>\n",
       "    <tr>\n",
       "      <th>Ivy League</th>\n",
       "      <td>8.0</td>\n",
       "      <td>120125.00</td>\n",
       "      <td>10412.05</td>\n",
       "      <td>107000.0</td>\n",
       "      <td>109750.0</td>\n",
       "      <td>122000.0</td>\n",
       "      <td>127250.0</td>\n",
       "      <td>134000.0</td>\n",
       "      <td>8.0</td>\n",
       "      <td>57900.00</td>\n",
       "      <td>...</td>\n",
       "      <td>296250.0</td>\n",
       "      <td>326000.0</td>\n",
       "      <td>8.0</td>\n",
       "      <td>60475.00</td>\n",
       "      <td>3218.58</td>\n",
       "      <td>56200.0</td>\n",
       "      <td>58825.0</td>\n",
       "      <td>59850.0</td>\n",
       "      <td>61525.0</td>\n",
       "      <td>66500.0</td>\n",
       "    </tr>\n",
       "    <tr>\n",
       "      <th>Liberal Arts</th>\n",
       "      <td>47.0</td>\n",
       "      <td>89378.72</td>\n",
       "      <td>12318.17</td>\n",
       "      <td>63900.0</td>\n",
       "      <td>80850.0</td>\n",
       "      <td>85800.0</td>\n",
       "      <td>101500.0</td>\n",
       "      <td>110000.0</td>\n",
       "      <td>14.0</td>\n",
       "      <td>47478.57</td>\n",
       "      <td>...</td>\n",
       "      <td>214000.0</td>\n",
       "      <td>265000.0</td>\n",
       "      <td>47.0</td>\n",
       "      <td>45746.81</td>\n",
       "      <td>4368.85</td>\n",
       "      <td>38500.0</td>\n",
       "      <td>42250.0</td>\n",
       "      <td>45500.0</td>\n",
       "      <td>48600.0</td>\n",
       "      <td>54500.0</td>\n",
       "    </tr>\n",
       "    <tr>\n",
       "      <th>Party</th>\n",
       "      <td>20.0</td>\n",
       "      <td>84685.00</td>\n",
       "      <td>7237.57</td>\n",
       "      <td>73000.0</td>\n",
       "      <td>79350.0</td>\n",
       "      <td>84050.0</td>\n",
       "      <td>88975.0</td>\n",
       "      <td>96100.0</td>\n",
       "      <td>19.0</td>\n",
       "      <td>44052.63</td>\n",
       "      <td>...</td>\n",
       "      <td>175000.0</td>\n",
       "      <td>209000.0</td>\n",
       "      <td>20.0</td>\n",
       "      <td>45715.00</td>\n",
       "      <td>3685.72</td>\n",
       "      <td>41300.0</td>\n",
       "      <td>42500.0</td>\n",
       "      <td>44600.0</td>\n",
       "      <td>47975.0</td>\n",
       "      <td>52900.0</td>\n",
       "    </tr>\n",
       "    <tr>\n",
       "      <th>State</th>\n",
       "      <td>175.0</td>\n",
       "      <td>78567.43</td>\n",
       "      <td>10296.07</td>\n",
       "      <td>43900.0</td>\n",
       "      <td>71800.0</td>\n",
       "      <td>78500.0</td>\n",
       "      <td>84450.0</td>\n",
       "      <td>112000.0</td>\n",
       "      <td>175.0</td>\n",
       "      <td>41886.29</td>\n",
       "      <td>...</td>\n",
       "      <td>161500.0</td>\n",
       "      <td>215000.0</td>\n",
       "      <td>175.0</td>\n",
       "      <td>44126.29</td>\n",
       "      <td>4269.07</td>\n",
       "      <td>34800.0</td>\n",
       "      <td>41400.0</td>\n",
       "      <td>43600.0</td>\n",
       "      <td>46300.0</td>\n",
       "      <td>59900.0</td>\n",
       "    </tr>\n",
       "  </tbody>\n",
       "</table>\n",
       "<p>5 rows × 48 columns</p>\n",
       "</div>"
      ],
      "text/plain": [
       "             mid_med                                                     \\\n",
       "               count       mean       std       min       25%       50%   \n",
       "type                                                                      \n",
       "Engineering     19.0  103842.11  13840.73   80000.0   94400.0  106000.0   \n",
       "Ivy League       8.0  120125.00  10412.05  107000.0  109750.0  122000.0   \n",
       "Liberal Arts    47.0   89378.72  12318.17   63900.0   80850.0   85800.0   \n",
       "Party           20.0   84685.00   7237.57   73000.0   79350.0   84050.0   \n",
       "State          175.0   78567.43  10296.07   43900.0   71800.0   78500.0   \n",
       "\n",
       "                                 mid_p10             ...      mid_p90  \\\n",
       "                   75%       max   count      mean   ...          75%   \n",
       "type                                                 ...                \n",
       "Engineering   114000.0  126000.0    15.0  61793.33   ...     187500.0   \n",
       "Ivy League    127250.0  134000.0     8.0  57900.00   ...     296250.0   \n",
       "Liberal Arts  101500.0  110000.0    14.0  47478.57   ...     214000.0   \n",
       "Party          88975.0   96100.0    19.0  44052.63   ...     175000.0   \n",
       "State          84450.0  112000.0   175.0  41886.29   ...     161500.0   \n",
       "\n",
       "                       start_med                                       \\\n",
       "                   max     count      mean      std      min      25%   \n",
       "type                                                                    \n",
       "Engineering   220000.0      19.0  59057.89  7842.92  46200.0  53250.0   \n",
       "Ivy League    326000.0       8.0  60475.00  3218.58  56200.0  58825.0   \n",
       "Liberal Arts  265000.0      47.0  45746.81  4368.85  38500.0  42250.0   \n",
       "Party         209000.0      20.0  45715.00  3685.72  41300.0  42500.0   \n",
       "State         215000.0     175.0  44126.29  4269.07  34800.0  41400.0   \n",
       "\n",
       "                                         \n",
       "                  50%      75%      max  \n",
       "type                                     \n",
       "Engineering   58300.0  62000.0  75500.0  \n",
       "Ivy League    59850.0  61525.0  66500.0  \n",
       "Liberal Arts  45500.0  48600.0  54500.0  \n",
       "Party         44600.0  47975.0  52900.0  \n",
       "State         43600.0  46300.0  59900.0  \n",
       "\n",
       "[5 rows x 48 columns]"
      ]
     },
     "execution_count": 6,
     "metadata": {},
     "output_type": "execute_result"
    }
   ],
   "source": [
    "# Summary statistics by type of school\n",
    "college.groupby('type').describe().round(2)"
   ]
  },
  {
   "cell_type": "markdown",
   "metadata": {},
   "source": [
    "This dataset contains 269 schools grouped into 5 different categories: Engineering, Ivy League, Liberal Arts, Party and State.  For each school, we have the starting and mid-career median salaries of their graduates.  The dataset also includes information on the schools' mid-career salaries for the 10th, 25th, 75th and 90th percentiles. Because the percentile information is incomplete, I will not be using this data for analysis.\n",
    "\n",
    "The summary statistics above show that we have data on a lot more state schools (175) compared to the other types of schools.  We also see that Ivy League and Engineering schools have higher mean starting and mid-career salaries compared to the other types.  We would need to run statistical tests to determine if these differences are significant."
   ]
  },
  {
   "cell_type": "code",
   "execution_count": 7,
   "metadata": {},
   "outputs": [
    {
     "data": {
      "text/html": [
       "<div>\n",
       "<style>\n",
       "    .dataframe thead tr:only-child th {\n",
       "        text-align: right;\n",
       "    }\n",
       "\n",
       "    .dataframe thead th {\n",
       "        text-align: left;\n",
       "    }\n",
       "\n",
       "    .dataframe tbody tr th {\n",
       "        vertical-align: top;\n",
       "    }\n",
       "</style>\n",
       "<table border=\"1\" class=\"dataframe\">\n",
       "  <thead>\n",
       "    <tr style=\"text-align: right;\">\n",
       "      <th></th>\n",
       "      <th>name</th>\n",
       "      <th>type</th>\n",
       "      <th>start_med</th>\n",
       "      <th>mid_med</th>\n",
       "      <th>mid_p10</th>\n",
       "      <th>mid_p25</th>\n",
       "      <th>mid_p75</th>\n",
       "      <th>mid_p90</th>\n",
       "    </tr>\n",
       "  </thead>\n",
       "  <tbody>\n",
       "    <tr>\n",
       "      <th>94</th>\n",
       "      <td>University of California, Berkeley</td>\n",
       "      <td>State</td>\n",
       "      <td>59900.0</td>\n",
       "      <td>112000.0</td>\n",
       "      <td>59500.0</td>\n",
       "      <td>81000.0</td>\n",
       "      <td>149000.0</td>\n",
       "      <td>201000.0</td>\n",
       "    </tr>\n",
       "    <tr>\n",
       "      <th>96</th>\n",
       "      <td>Cal Poly San Luis Obispo</td>\n",
       "      <td>State</td>\n",
       "      <td>57200.0</td>\n",
       "      <td>101000.0</td>\n",
       "      <td>55000.0</td>\n",
       "      <td>74700.0</td>\n",
       "      <td>133000.0</td>\n",
       "      <td>178000.0</td>\n",
       "    </tr>\n",
       "    <tr>\n",
       "      <th>105</th>\n",
       "      <td>University of Missouri - Rolla (UMR)</td>\n",
       "      <td>State</td>\n",
       "      <td>57100.0</td>\n",
       "      <td>95800.0</td>\n",
       "      <td>67600.0</td>\n",
       "      <td>80400.0</td>\n",
       "      <td>122000.0</td>\n",
       "      <td>166000.0</td>\n",
       "    </tr>\n",
       "    <tr>\n",
       "      <th>104</th>\n",
       "      <td>Binghamton University</td>\n",
       "      <td>State</td>\n",
       "      <td>53600.0</td>\n",
       "      <td>95900.0</td>\n",
       "      <td>50900.0</td>\n",
       "      <td>71200.0</td>\n",
       "      <td>146000.0</td>\n",
       "      <td>201000.0</td>\n",
       "    </tr>\n",
       "    <tr>\n",
       "      <th>106</th>\n",
       "      <td>San Jose State University (SJSU)</td>\n",
       "      <td>State</td>\n",
       "      <td>53500.0</td>\n",
       "      <td>95600.0</td>\n",
       "      <td>50700.0</td>\n",
       "      <td>70500.0</td>\n",
       "      <td>122000.0</td>\n",
       "      <td>156000.0</td>\n",
       "    </tr>\n",
       "    <tr>\n",
       "      <th>102</th>\n",
       "      <td>University of Illinois at Urbana-Champaign (UIUC)</td>\n",
       "      <td>State</td>\n",
       "      <td>52900.0</td>\n",
       "      <td>96100.0</td>\n",
       "      <td>48200.0</td>\n",
       "      <td>68900.0</td>\n",
       "      <td>132000.0</td>\n",
       "      <td>177000.0</td>\n",
       "    </tr>\n",
       "    <tr>\n",
       "      <th>95</th>\n",
       "      <td>University of Virginia (UVA)</td>\n",
       "      <td>State</td>\n",
       "      <td>52700.0</td>\n",
       "      <td>103000.0</td>\n",
       "      <td>52200.0</td>\n",
       "      <td>71800.0</td>\n",
       "      <td>146000.0</td>\n",
       "      <td>215000.0</td>\n",
       "    </tr>\n",
       "    <tr>\n",
       "      <th>110</th>\n",
       "      <td>University of Michigan</td>\n",
       "      <td>State</td>\n",
       "      <td>52700.0</td>\n",
       "      <td>93000.0</td>\n",
       "      <td>50900.0</td>\n",
       "      <td>69400.0</td>\n",
       "      <td>128000.0</td>\n",
       "      <td>182000.0</td>\n",
       "    </tr>\n",
       "    <tr>\n",
       "      <th>97</th>\n",
       "      <td>University of California at Los Angeles (UCLA)</td>\n",
       "      <td>State</td>\n",
       "      <td>52600.0</td>\n",
       "      <td>101000.0</td>\n",
       "      <td>51300.0</td>\n",
       "      <td>72500.0</td>\n",
       "      <td>139000.0</td>\n",
       "      <td>193000.0</td>\n",
       "    </tr>\n",
       "    <tr>\n",
       "      <th>99</th>\n",
       "      <td>University of California, Davis</td>\n",
       "      <td>State</td>\n",
       "      <td>52300.0</td>\n",
       "      <td>99600.0</td>\n",
       "      <td>52000.0</td>\n",
       "      <td>71600.0</td>\n",
       "      <td>135000.0</td>\n",
       "      <td>202000.0</td>\n",
       "    </tr>\n",
       "  </tbody>\n",
       "</table>\n",
       "</div>"
      ],
      "text/plain": [
       "                                                  name   type  start_med  \\\n",
       "94                  University of California, Berkeley  State    59900.0   \n",
       "96                            Cal Poly San Luis Obispo  State    57200.0   \n",
       "105               University of Missouri - Rolla (UMR)  State    57100.0   \n",
       "104                              Binghamton University  State    53600.0   \n",
       "106                   San Jose State University (SJSU)  State    53500.0   \n",
       "102  University of Illinois at Urbana-Champaign (UIUC)  State    52900.0   \n",
       "95                        University of Virginia (UVA)  State    52700.0   \n",
       "110                             University of Michigan  State    52700.0   \n",
       "97      University of California at Los Angeles (UCLA)  State    52600.0   \n",
       "99                     University of California, Davis  State    52300.0   \n",
       "\n",
       "      mid_med  mid_p10  mid_p25   mid_p75   mid_p90  \n",
       "94   112000.0  59500.0  81000.0  149000.0  201000.0  \n",
       "96   101000.0  55000.0  74700.0  133000.0  178000.0  \n",
       "105   95800.0  67600.0  80400.0  122000.0  166000.0  \n",
       "104   95900.0  50900.0  71200.0  146000.0  201000.0  \n",
       "106   95600.0  50700.0  70500.0  122000.0  156000.0  \n",
       "102   96100.0  48200.0  68900.0  132000.0  177000.0  \n",
       "95   103000.0  52200.0  71800.0  146000.0  215000.0  \n",
       "110   93000.0  50900.0  69400.0  128000.0  182000.0  \n",
       "97   101000.0  51300.0  72500.0  139000.0  193000.0  \n",
       "99    99600.0  52000.0  71600.0  135000.0  202000.0  "
      ]
     },
     "execution_count": 7,
     "metadata": {},
     "output_type": "execute_result"
    }
   ],
   "source": [
    "# What are the top 10 state schools in terms of starting and mid-career salaries?\n",
    "\n",
    "college[college['type'] == 'State'].sort_values(['start_med','mid_med'], ascending=False).head(10)\n",
    "\n",
    "# Go Bears. ʕ•ᴥ•ʔ "
   ]
  },
  {
   "cell_type": "markdown",
   "metadata": {},
   "source": [
    "## Analysis\n",
    "\n",
    "### Visualizations\n",
    "#### What can graduates of each school type reasonably expect in terms of starting and mid-career salaries?\n",
    "\n",
    "In this section, I will be utilizing histograms and boxplots to visualize the distribution of salaries of each school type.  These visualizations will help us compare the starting and mid-career median salaries between school types.  "
   ]
  },
  {
   "cell_type": "code",
   "execution_count": 8,
   "metadata": {},
   "outputs": [],
   "source": [
    "# Creating variables for relevant data arrays\n",
    "Eng = college[college['type'] == \"Engineering\"]['start_med']\n",
    "Ivy = college[college['type'] == \"Ivy League\"]['start_med']\n",
    "LibArts = college[college['type'] == \"Liberal Arts\"]['start_med']\n",
    "Party = college[college['type'] == \"Party\"]['start_med']\n",
    "State = college[college['type'] == \"State\"]['start_med']\n",
    "start_med = [Eng, Ivy, LibArts, Party, State]\n",
    "\n",
    "Eng2 = college[college['type'] == \"Engineering\"]['mid_med']\n",
    "Ivy2 = college[college['type'] == \"Ivy League\"]['mid_med']\n",
    "LibArts2 = college[college['type'] == \"Liberal Arts\"]['mid_med']\n",
    "Party2 = college[college['type'] == \"Party\"]['mid_med']\n",
    "State2 = college[college['type'] == \"State\"]['mid_med']\n",
    "mid_career = [Eng2, Ivy2, LibArts2, Party2, State2]\n",
    "\n",
    "#Sammmeee?\n",
    "#grps = ['Engineering','Ivy League','Liberal Arts', 'Party', 'State']\n",
    "#sm_data = {grp:college['start_med'][college.type == grp] for grp in grps}\n",
    "#mc_data = {grp:college['mid_med'][college.type == grp] for grp in grps}"
   ]
  },
  {
   "cell_type": "code",
   "execution_count": 9,
   "metadata": {},
   "outputs": [
    {
     "name": "stderr",
     "output_type": "stream",
     "text": [
      "/Library/Frameworks/Python.framework/Versions/3.4/lib/python3.4/site-packages/numpy/core/fromnumeric.py:57: FutureWarning: reshape is deprecated and will raise in a subsequent release. Please use .values.reshape(...) instead\n",
      "  return getattr(obj, method)(*args, **kwds)\n"
     ]
    },
    {
     "data": {
      "image/png": "[encoded data removed]",
      "text/plain": [
       "<matplotlib.figure.Figure at 0x109d2cdd8>"
      ]
     },
     "metadata": {},
     "output_type": "display_data"
    }
   ],
   "source": [
    "# Generating histograms for starting and mid-career salaries by type of school\n",
    "n_bins = 9\n",
    "colors = ['blue','turquoise', 'orange', 'magenta','maroon']\n",
    "labels = ['Engineering','Ivy League','Liberal Arts','Party','State']\n",
    "xrange = (35000, 122000) \n",
    "\n",
    "s = [start_med,mid_career]\n",
    "t = ['Starting Median Salaries', 'Mid-Career Salaries']\n",
    "\n",
    "plt.figure(figsize=(15,5))\n",
    "\n",
    "for i in range(0,len(s)):\n",
    "    plt.subplot(1, 2, i+1)\n",
    "    \n",
    "    plt.hist(s[i], n_bins, xrange, histtype='bar', normed=True, color = colors, label=labels)\n",
    "    plt.title(t[i], fontsize=16)\n",
    "    plt.xlabel(\"in dollars\", fontsize=12)  \n",
    "    plt.ylabel(\"Probability Density\", fontsize=12)\n",
    "    plt.xticks(fontsize=9)  \n",
    "    plt.yticks(fontsize=9)\n",
    "    plt.legend(prop={'size':10})\n",
    "\n",
    "    i += 1"
   ]
  },
  {
   "cell_type": "markdown",
   "metadata": {},
   "source": [
    "The historgrams of the starting median salaries for each schhol type are pretty clustered, with the exception of Engineering schools.  Liberal Arts, Party and State schools have starting median salaries that cluster between \\$35,000 and \\$55,000. Ivy league schools have notably higher starting median salaries than most other types of schools, clustering between \\$58,000 and \\$70,000.  Engineering schools have the most variation, indicating that which engineering school attended matters when looking at starting median salaries.  \n",
    "\n",
    "Considering mid-career salaries, all school types have a wider range of salaries with the exception of Ivy Leagues.  Liberal Arts, Party and State schhols have salaries that cluster between \\$70,000 and \\$105,000. This suggests that graduates from these three types of school have similar earning potential by mid career.  Engineering schools also have a broader range compared to its starting median salary, from \\$75,000 to \\$110,000.  Interestingly, the distribution of Ivy League mid-career salaries remains small, ranging from about \\$110,000 to \\$118,000. This indicates that graduates of the Ivy League system can reasonably expect a higher starting and mid-career salary, regardless of which school within the Ivy League system they attend.  "
   ]
  },
  {
   "cell_type": "code",
   "execution_count": 10,
   "metadata": {},
   "outputs": [
    {
     "name": "stderr",
     "output_type": "stream",
     "text": [
      "/Library/Frameworks/Python.framework/Versions/3.4/lib/python3.4/site-packages/numpy/core/fromnumeric.py:57: FutureWarning: reshape is deprecated and will raise in a subsequent release. Please use .values.reshape(...) instead\n",
      "  return getattr(obj, method)(*args, **kwds)\n"
     ]
    },
    {
     "data": {
      "image/png": "[encoded data removed]",
      "text/plain": [
       "<matplotlib.figure.Figure at 0x109d103c8>"
      ]
     },
     "metadata": {},
     "output_type": "display_data"
    }
   ],
   "source": [
    "# Boxplots of starting median salaries by type of college.\n",
    "\n",
    "college.boxplot('start_med',by='type')\n",
    "plt.title(\"Boxplot of Starting Median Salaries by School type\")\n",
    "# get rid of the automatic 'Boxplot grouped by group_by_column_name' title\n",
    "plt.suptitle(\"\")\n",
    "\n",
    "plt.show()"
   ]
  },
  {
   "cell_type": "code",
   "execution_count": 11,
   "metadata": {},
   "outputs": [
    {
     "name": "stderr",
     "output_type": "stream",
     "text": [
      "/Library/Frameworks/Python.framework/Versions/3.4/lib/python3.4/site-packages/numpy/core/fromnumeric.py:57: FutureWarning: reshape is deprecated and will raise in a subsequent release. Please use .values.reshape(...) instead\n",
      "  return getattr(obj, method)(*args, **kwds)\n"
     ]
    },
    {
     "data": {
      "image/png": "[encoded data removed]",
      "text/plain": [
       "<matplotlib.figure.Figure at 0x10aaf0710>"
      ]
     },
     "metadata": {},
     "output_type": "display_data"
    }
   ],
   "source": [
    "#Boxplots of mid-career salaries by type of college\n",
    "\n",
    "college.boxplot('mid_med',by='type')\n",
    "plt.title(\"Boxplot of Mid-Career Salaries by School type\")\n",
    "\n",
    "# get rid of the automatic 'Boxplot grouped by group_by_column_name' title\n",
    "plt.suptitle(\"\")\n",
    "\n",
    "plt.show()"
   ]
  },
  {
   "cell_type": "code",
   "execution_count": 12,
   "metadata": {},
   "outputs": [
    {
     "name": "stderr",
     "output_type": "stream",
     "text": [
      "/Library/Frameworks/Python.framework/Versions/3.4/lib/python3.4/site-packages/numpy/core/fromnumeric.py:57: FutureWarning: reshape is deprecated and will raise in a subsequent release. Please use .values.reshape(...) instead\n",
      "  return getattr(obj, method)(*args, **kwds)\n"
     ]
    },
    {
     "data": {
      "image/png": "[encoded data removed]",
      "text/plain": [
       "<matplotlib.figure.Figure at 0x10a93da58>"
      ]
     },
     "metadata": {},
     "output_type": "display_data"
    }
   ],
   "source": [
    "#Boxplot of the difference between starting median salaries and mid-career salaries for each college type\n",
    "\n",
    "college['salary_diff'] = college['mid_med'] - college['start_med']\n",
    "\n",
    "college.boxplot('salary_diff', by='type')\n",
    "plt.title(\"Boxplot of Median Salary Differences by School type\")\n",
    "\n",
    "# get rid of the automatic 'Boxplot grouped by group_by_column_name' title\n",
    "plt.suptitle(\"\")\n",
    "\n",
    "plt.show()"
   ]
  },
  {
   "cell_type": "markdown",
   "metadata": {},
   "source": [
    "The boxplots show definitively that Engineering schools have the most range with starting median salaries, implying that where an engineering student goes to school matters more than the other types of colleges when looking at earning potential right after graduation.  Ivy leagues have less variation in terms of starting salaries and the highest mean starting median salary. Where a student goes within the Ivy League system matters less when looking at starting median salaries, and graduates can reasonably expect to make more than graduates from other schhol types. Liberal Arts, Party and State schools have similar mean median starting salaries, with more variation in state schools.  State schools have a larger dataset compared to the other schools, as seen in the histogram. This may account for the variation.\n",
    "\n",
    "The mid-career boxplots show that, similar to the starting median salaries, Liberal Arts, State and Party schools have similar mean median salaries.  It is interesting to note that Ivy League mid-career salaries has pulled ahead of Engineering mid-career salaries, such that all 8 mid-career salaries from Ivy League schools are higher than 50% of Engineering mid-career salaries.  \n",
    "\n",
    "The last boxpot examines the difference between mid-career salaries and starting salaries for each school type.  Not surprisingly, Ivy Leagues come on top again, with the highest mean difference in salaries.  This means that not only do Ivy League graduates have higher salaries to start with, they also experience higher increases in their salaries by mid-career.  Party schools have the second lowest mean and the least variation, suggesting that graduates from party schools experience limited growth in salaries.  State school, again, have the most variation.  \n",
    "\n"
   ]
  },
  {
   "cell_type": "markdown",
   "metadata": {},
   "source": [
    "### Significance testing\n",
    "\n",
    "#### Are the data for each school type normal?\n",
    "To run the ANOVA tests, we first need to check for normality in the data.  We do this by generating QQ plots."
   ]
  },
  {
   "cell_type": "code",
   "execution_count": 13,
   "metadata": {},
   "outputs": [],
   "source": [
    "def qqplot(column):\n",
    "    \n",
    "    plt.figure(figsize=(20,5))\n",
    "    types = ['Engineering','Ivy League','Liberal Arts','Party','State']\n",
    "\n",
    "    for i in range(0,len(types)):  \n",
    "        plt.subplot(1, len(types), i+1)\n",
    "\n",
    "        t = types[i]\n",
    "\n",
    "        x = college[college['type'] == t][column].sort_values()\n",
    "        \n",
    "        np.random.seed(2119)\n",
    "        norm = np.random.normal(0,1,len(x))\n",
    "        norm.sort()\n",
    "\n",
    "        plt.plot(norm, x, \"o\", c=np.random.rand(3))\n",
    "        plt.title(t)\n",
    "\n",
    "        #generate a trend line as in http://widu.tumblr.com/post/43624347354/matplotlib-trendline\n",
    "        z = np.polyfit(norm,x, 1)\n",
    "        p = np.poly1d(z)\n",
    "        plt.plot(norm,p(norm),\"k--\", linewidth=1)\n",
    "        plt.xlabel(\"Theoretical quantiles\")\n",
    "        plt.ylabel(\"Expreimental quantiles\")\n",
    "        plt.tick_params()\n",
    "\n",
    "        i = i + 1 "
   ]
  },
  {
   "cell_type": "code",
   "execution_count": 14,
   "metadata": {},
   "outputs": [
    {
     "data": {
      "image/png": "[encoded data removed]",
      "text/plain": [
       "<matplotlib.figure.Figure at 0x10ac03588>"
      ]
     },
     "metadata": {},
     "output_type": "display_data"
    }
   ],
   "source": [
    "qqplot('start_med')"
   ]
  },
  {
   "cell_type": "code",
   "execution_count": 15,
   "metadata": {},
   "outputs": [
    {
     "data": {
      "image/png": "[encoded data removed]",
      "text/plain": [
       "<matplotlib.figure.Figure at 0x10b177358>"
      ]
     },
     "metadata": {},
     "output_type": "display_data"
    }
   ],
   "source": [
    "qqplot('mid_med')"
   ]
  },
  {
   "cell_type": "markdown",
   "metadata": {},
   "source": [
    "The QQ Plots show a left skew for Liberal Arts and Party schools.  While ANOVA requires variables to be normally distributed, it is robust to modest violations of normality.  So for the purposes of this analysis, I will move forward with the ANOVA tests."
   ]
  },
  {
   "cell_type": "code",
   "execution_count": 16,
   "metadata": {},
   "outputs": [],
   "source": [
    "# Setting up for running ANOVA tests\n",
    "\n",
    "grps = ['Engineering','Ivy League','Liberal Arts', 'Party', 'State']\n",
    "sm_data = {grp:college['start_med'][college.type == grp] for grp in grps}\n",
    "mc_data = {grp:college['mid_med'][college.type == grp] for grp in grps}\n",
    "k = len(pd.unique(college.type))\n",
    "N = len(college.values)\n",
    "n = college.groupby('type').size()[0]"
   ]
  },
  {
   "cell_type": "markdown",
   "metadata": {},
   "source": [
    "#### Is the mean median starting and mid-career salaries significantly different between Liberal Arts, Party and State schools?"
   ]
  },
  {
   "cell_type": "code",
   "execution_count": 17,
   "metadata": {},
   "outputs": [],
   "source": [
    "# First we should remove the outliers for the State Schools, as outliers could skew the mean calculations.\n",
    "\n",
    "state = college[college['type'] == 'State']\n",
    "state_sm = state[np.abs(state.start_med-state.start_med.mean()) <= (2*state.start_med.std())]\n",
    "state_mc = state[np.abs(state.mid_med-state.mid_med.mean()) <= (2*state.mid_med.std())]"
   ]
  },
  {
   "cell_type": "code",
   "execution_count": 18,
   "metadata": {},
   "outputs": [
    {
     "data": {
      "image/png": "[encoded data removed]",
      "text/plain": [
       "<matplotlib.figure.Figure at 0x10b4a7198>"
      ]
     },
     "metadata": {},
     "output_type": "display_data"
    }
   ],
   "source": [
    "# Check boxplots that outliers have been removed\n",
    "\n",
    "plt.figure(figsize=(10,5))\n",
    "\n",
    "plt.subplot(1,2,1)\n",
    "state_sm.boxplot('start_med')\n",
    "\n",
    "plt.subplot(1,2,2)\n",
    "state_mc.boxplot('mid_med')\n",
    "\n",
    "plt.show()"
   ]
  },
  {
   "cell_type": "code",
   "execution_count": 19,
   "metadata": {},
   "outputs": [
    {
     "name": "stdout",
     "output_type": "stream",
     "text": [
      "F-Statistic is  7.17\n",
      "p-value is  0.001\n"
     ]
    }
   ],
   "source": [
    "# Let's start by comparing the starting median salaries of Liberal Arts, Party, and State schools.\n",
    "f, p = stats.f_oneway(sm_data['Liberal Arts'], sm_data['Party'], state_sm['start_med'])\n",
    "\n",
    "print('F-Statistic is ', f.round(2)) \n",
    "print('p-value is ', p.round(4))"
   ]
  },
  {
   "cell_type": "markdown",
   "metadata": {},
   "source": [
    "The F-Statistic of 7.17 and a p-value of 0.001 indicates that, if the the starting median salaries of these three schools are the same, we would expect to obtain the observed difference or more in 0.1% of the studies due to sampling error.  This suggests we can reject the null hypothesis and assume that these three types of schools have significantly different starting median salaries.  This is in contrast to the observations made when eyeballing at the histograms and boxplots, in which the starting median salaries look similar across these three groups.  "
   ]
  },
  {
   "cell_type": "code",
   "execution_count": 20,
   "metadata": {},
   "outputs": [
    {
     "name": "stdout",
     "output_type": "stream",
     "text": [
      "F-Statistic is  27.67\n",
      "p-value is  0.0\n"
     ]
    }
   ],
   "source": [
    "# Looking at mid-career salaries between Liberal Arts, Party and State\n",
    "f, p = stats.f_oneway(mc_data['Liberal Arts'], mc_data['Party'], state_mc['mid_med'])\n",
    "\n",
    "print('F-Statistic is ', f.round(2)) \n",
    "print('p-value is ', p.round(4))"
   ]
  },
  {
   "cell_type": "markdown",
   "metadata": {},
   "source": [
    "The F-Statistic of 20.8 and a p-value of 0 indicates we can reject the null hypothesis and assume that these three types of schools have significantly different mid-career median salaries."
   ]
  },
  {
   "cell_type": "markdown",
   "metadata": {},
   "source": [
    "#### Is the mean median starting and mid-career salaries significantly different between Liberal Arts and Party?\n",
    "\n",
    "State school have a lot of variation, which may affect the mean.  What if we just compare Party and Liberal Arts schools?"
   ]
  },
  {
   "cell_type": "code",
   "execution_count": 21,
   "metadata": {},
   "outputs": [
    {
     "name": "stdout",
     "output_type": "stream",
     "text": [
      "Starting Median Salary:\n",
      "F-Statistic is  0.0\n",
      "p-value is  0.9774\n",
      "\n",
      "\n",
      "Mid-Career Median Salary:\n",
      "F-Statistic is  2.52\n",
      "p-value is  0.1173\n"
     ]
    }
   ],
   "source": [
    "f, p = stats.f_oneway(sm_data['Liberal Arts'], sm_data['Party'])\n",
    "\n",
    "print('Starting Median Salary:')\n",
    "print('F-Statistic is ', f.round(2)) \n",
    "print('p-value is ', p.round(4))\n",
    "print('\\n')\n",
    "\n",
    "f, p = stats.f_oneway(mc_data['Liberal Arts'], mc_data['Party'])\n",
    "\n",
    "print('Mid-Career Median Salary:')\n",
    "print('F-Statistic is ', f.round(2)) \n",
    "print('p-value is ', p.round(4))"
   ]
  },
  {
   "cell_type": "markdown",
   "metadata": {},
   "source": [
    "When comparing the means median salaries of Liberal Arts and Party schools, there is not enough evidence to show a statistically significant difference in mean median salaries.  "
   ]
  },
  {
   "cell_type": "markdown",
   "metadata": {},
   "source": [
    "#### Is the mean median starting and mid-career salaries significantly different between Engineering and Ivy League schools?"
   ]
  },
  {
   "cell_type": "code",
   "execution_count": 24,
   "metadata": {},
   "outputs": [
    {
     "name": "stdout",
     "output_type": "stream",
     "text": [
      "Starting Median Salary:\n",
      "F-Statistic is  0.24\n",
      "p-value is  0.6288\n",
      "\n",
      "\n",
      "Mid-Career Median Salary:\n",
      "F-Statistic is  8.87\n",
      "p-value is  0.0064\n"
     ]
    }
   ],
   "source": [
    "# Now let's compare the starting median salaries and mid-career salaries for engineering and Ivy League schools.\n",
    "f, p = stats.f_oneway(sm_data['Engineering'], sm_data['Ivy League'])\n",
    "\n",
    "print('Starting Median Salary:')\n",
    "print('F-Statistic is ', f.round(2)) \n",
    "print('p-value is ', p.round(4))\n",
    "print('\\n')\n",
    "\n",
    "f, p = stats.f_oneway(mc_data['Engineering'], mc_data['Ivy League'])\n",
    "print('Mid-Career Median Salary:')\n",
    "print('F-Statistic is ', f.round(2)) \n",
    "print('p-value is ', p.round(4))"
   ]
  },
  {
   "cell_type": "markdown",
   "metadata": {},
   "source": [
    "Interestingly, the difference in salaries of Engineering and Ivy League schools start off as not significantly different (p-value = 0.63), but become significant when we look at mid-career salaries (p-value = 0.006).  This suggests that, in the long run, it still pays to go to an Ivy League school.  "
   ]
  },
  {
   "cell_type": "markdown",
   "metadata": {},
   "source": [
    "## Conclusion\n",
    "\n",
    "So where does it pay to go to college?  According to this dataset, Ivy league graduates generally made money money right out of college and 10 years after graduation compared to graduates from other school types.  Plus, there is less variation within the Ivy League system in terms of median salaries, so where a student goes within the Ivy League system does not seem to matter.  This is in contrast to Engineering schools, where the school matters in terms of starting and mid-career median salaries.  Looking at the distribution of median salaries, students from a \"good\" engineering school can make as much mid-career as an Ivy League student. Students from a \"bad\" engineering school may do just as well as a student from a Party, Liberal Arts, or State school.\n",
    "\n",
    "There is more variation in median salaries for state schools, including more outliers.  This indicates that the state school attended by the student matters when looking at starting and mid-career salaries.  When comparing mean median salaries for state, liberal arts and party schools, the difference is statistically significant.  Mean median salaries of liberal arts and party schools, on the other hand, are not statistically significant.  This suggests that students from party schools have similar salaries to students in liberal arts schools.\n",
    "\n",
    "If we compare Engineering and Ivy League schools, the difference in mean median salaries start out as insignificant, but becomes significant 10 years post graduation with Ivy League salaries pulling ahead.  \n",
    "\n",
    "There are limitations to this dataset.  For one, the dataset only includes the median salaries of each school's graduates.  We do not have information on the salary distribution within the school.   We are also not considering other factors that may impact salary, such as the student's major or whether the student went to grad school before hitting mid-career.  "
   ]
  },
  {
   "cell_type": "markdown",
   "metadata": {},
   "source": [
    "## Further Research\n",
    "\n",
    "The current analysis does not consider the cost of tuition and student loans.  Ivy leagues, for example, have higher sticker prices than a state school might.  How long does it take a student of each type school to earn back the cost of tuition?  If we consider the median student loan amounts, how would the conclusions change?  Analysis into tuition and student loans would require gathering more data through APIs and/or web-scraping.\n",
    "\n",
    "It would also be interesting to consider the majors.  Is a Party school engineering student doing better than an Ivy League Art History major?  We could apply linear regression models to determine what factors result in the highest starting and mid-career salaries.  \n",
    "\n"
   ]
  },
  {
   "cell_type": "code",
   "execution_count": null,
   "metadata": {},
   "outputs": [],
   "source": []
  }
 ],
 "metadata": {
  "kernelspec": {
   "display_name": "Python 3",
   "language": "python",
   "name": "python3"
  },
  "language_info": {
   "codemirror_mode": {
    "name": "ipython",
    "version": 3
   },
   "file_extension": ".py",
   "mimetype": "text/x-python",
   "name": "python",
   "nbconvert_exporter": "python",
   "pygments_lexer": "ipython3",
   "version": "3.4.3"
  }
 },
 "nbformat": 4,
 "nbformat_minor": 2
}
