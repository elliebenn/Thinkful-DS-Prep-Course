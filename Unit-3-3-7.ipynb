{
 "cells": [
  {
   "cell_type": "markdown",
   "metadata": {},
   "source": [
    "## DRILL - Exploring the Central Limit Theorem\n",
    "\n"
   ]
  },
  {
   "cell_type": "code",
   "execution_count": 41,
   "metadata": {},
   "outputs": [],
   "source": [
    "import numpy as np\n",
    "import pandas as pd\n",
    "import scipy\n",
    "import matplotlib.pyplot as plt\n",
    "\n",
    "%matplotlib inline"
   ]
  },
  {
   "cell_type": "code",
   "execution_count": 42,
   "metadata": {},
   "outputs": [],
   "source": [
    "pop1 = np.random.binomial(10, 0.2, 10000)\n",
    "pop2 = np.random.binomial(10, 0.5, 10000)\n",
    "\n",
    "samp1 = np.random.choice(pop1, 100, replace=True)\n",
    "samp2 = np.random.choice(pop2, 100, replace=True)"
   ]
  },
  {
   "cell_type": "code",
   "execution_count": 43,
   "metadata": {},
   "outputs": [
    {
     "name": "stdout",
     "output_type": "stream",
     "text": [
      "samp1 mean:  2.22\n",
      "samp1 standard deviation:  1.30828131531\n",
      "samp2 mean:  5.11\n",
      "samp2 standard deviation:  1.44841292455\n"
     ]
    }
   ],
   "source": [
    "print('samp1 mean: ', samp1.mean())\n",
    "print('samp1 standard deviation: ', samp1.std())\n",
    "print('samp2 mean: ', samp2.mean())\n",
    "print('samp2 standard deviation: ', samp2.std())"
   ]
  },
  {
   "cell_type": "code",
   "execution_count": 44,
   "metadata": {},
   "outputs": [],
   "source": [
    "def histgen(dista, distb):\n",
    "    plt.hist(dista, alpha=0.5, label='Sample 1')\n",
    "    plt.hist(distb, alpha=0.5, label='Sample 2')\n",
    "    plt.legend(loc='upper right')\n",
    "    plt.show()\n",
    "    \n",
    "    print('Sample 1 mean: ', dista.mean())\n",
    "    print('Sample 1 Standard Deviation: ', dista.std())\n",
    "    print('Sample 2 mean: ', distb.mean())\n",
    "    print('Sample 2 Standard Deviation: ', distb.std())"
   ]
  },
  {
   "cell_type": "markdown",
   "metadata": {},
   "source": [
    "Increase the size of your samples from 100 to 1000, then calculate the means and standard deviations for your new samples and create histograms for each. Repeat this again, decreasing the size of your samples to 20. What values change, and what remain the same?"
   ]
  },
  {
   "cell_type": "code",
   "execution_count": 45,
   "metadata": {},
   "outputs": [
    {
     "data": {
      "image/png": "[encoded data removed]",
      "text/plain": [
       "<matplotlib.figure.Figure at 0x108895c88>"
      ]
     },
     "metadata": {},
     "output_type": "display_data"
    },
    {
     "name": "stdout",
     "output_type": "stream",
     "text": [
      "Sample 1 mean:  1.979\n",
      "Sample 1 Standard Deviation:  1.26196632285\n",
      "Sample 2 mean:  5.021\n",
      "Sample 2 Standard Deviation:  1.66690101686\n"
     ]
    }
   ],
   "source": [
    "# Increaseing samples to 1000\n",
    "samp1a = np.random.choice(pop1, 1000, replace=True)\n",
    "samp2a = np.random.choice(pop2, 1000, replace=True)\n",
    "\n",
    "histgen(samp1a, samp2a)"
   ]
  },
  {
   "cell_type": "code",
   "execution_count": 46,
   "metadata": {},
   "outputs": [
    {
     "data": {
      "image/png": "[encoded data removed]",
      "text/plain": [
       "<matplotlib.figure.Figure at 0x1087d5668>"
      ]
     },
     "metadata": {},
     "output_type": "display_data"
    },
    {
     "name": "stdout",
     "output_type": "stream",
     "text": [
      "Sample 1 mean:  2.3\n",
      "Sample 1 Standard Deviation:  1.41774468788\n",
      "Sample 2 mean:  5.15\n",
      "Sample 2 Standard Deviation:  1.27573508222\n"
     ]
    }
   ],
   "source": [
    "# Decreasing samples to 20.\n",
    "samp1b = np.random.choice(pop1, 20, replace=True)\n",
    "samp2b = np.random.choice(pop2, 20, replace=True)\n",
    "\n",
    "histgen(samp1b, samp2b)\n"
   ]
  },
  {
   "cell_type": "markdown",
   "metadata": {},
   "source": [
    "***Result:  The means are about the same.*** \n",
    "\n",
    "***There doesn't seem to be a pattern with the results of the standard deviations(????).***\n",
    "I would think that smaller samples would have larger standard deviations.\n"
   ]
  },
  {
   "cell_type": "code",
   "execution_count": 47,
   "metadata": {},
   "outputs": [],
   "source": [
    "from scipy.stats import ttest_ind\n",
    "\n",
    "def tTest(sample1, sample2):\n",
    "    diff = sample2.mean( ) - sample1.mean()\n",
    "    size = np.array([len(sample1), len(sample2)])\n",
    "    sd = np.array([sample1.std(), sample2.std()])\n",
    "    \n",
    "    diff_se = (sum(sd ** 2 / size)) ** 0.5\n",
    "    \n",
    "    print('The standard error is ', diff_se)\n",
    "    \n",
    "    t_value = diff/diff_se\n",
    "    \n",
    "    print('The t-value is ', t_value)\n",
    "\n",
    "    print(ttest_ind(sample2, sample1, equal_var=False))"
   ]
  },
  {
   "cell_type": "markdown",
   "metadata": {},
   "source": [
    "Change the population value (p in the NumPy documentation) for pop1 to 0.3, then take new samples and compute the t-statistic and p-value."
   ]
  },
  {
   "cell_type": "code",
   "execution_count": 48,
   "metadata": {},
   "outputs": [
    {
     "name": "stdout",
     "output_type": "stream",
     "text": [
      "The standard error is  0.224490534322\n",
      "The t-value is  8.998152221\n",
      "Ttest_indResult(statistic=8.953048417070546, pvalue=2.7260032815842214e-16)\n"
     ]
    }
   ],
   "source": [
    "pop3 = np.random.binomial(10, 0.3, 10000)\n",
    "pop4 = np.random.binomial(10, 0.5, 10000)\n",
    "\n",
    "samp3 = np.random.choice(pop3, 100, replace=True)\n",
    "samp4 = np.random.choice(pop4, 100, replace=True)\n",
    "\n",
    "tTest(samp3, samp4)"
   ]
  },
  {
   "cell_type": "markdown",
   "metadata": {},
   "source": [
    "**!! t-values are slightly different?**\n",
    "\n",
    " Then change the population value p for group 1 to 0.4, and do it again. What changes, and why?"
   ]
  },
  {
   "cell_type": "code",
   "execution_count": 49,
   "metadata": {},
   "outputs": [
    {
     "name": "stdout",
     "output_type": "stream",
     "text": [
      "The standard error is  0.212901385623\n",
      "The t-value is  5.40156183877\n",
      "Ttest_indResult(statistic=5.3744861703306821, pvalue=2.1481575167213706e-07)\n"
     ]
    }
   ],
   "source": [
    "pop5 = np.random.binomial(10, 0.4, 10000)\n",
    "pop6 = np.random.binomial(10, 0.5, 10000)\n",
    "\n",
    "samp5 = np.random.choice(pop5, 100, replace=True)\n",
    "samp6 = np.random.choice(pop6, 100, replace=True)\n",
    "\n",
    "tTest(samp5, samp6)"
   ]
  },
  {
   "cell_type": "markdown",
   "metadata": {},
   "source": [
    "**Discussion:** As the real population means get closer together, t-value gets smaller and p-values get larger.  This means, we can be less sure that the real population means are different based on our comparison of the two samples. "
   ]
  },
  {
   "cell_type": "markdown",
   "metadata": {},
   "source": [
    "Change the distribution of your populations from binomial to a distribution of your choice. Do the sample mean values still accurately represent the population values?"
   ]
  },
  {
   "cell_type": "code",
   "execution_count": 50,
   "metadata": {},
   "outputs": [
    {
     "name": "stdout",
     "output_type": "stream",
     "text": [
      "Population 1 mean:  4.9706959546\n",
      "Population 1 standard deviation:  5.01609854351\n",
      "Population 2 mean:  10.0756754696\n",
      "Population 2 standard deviation:  10.0968271104\n"
     ]
    },
    {
     "data": {
      "image/png": "[encoded data removed]",
      "text/plain": [
       "<matplotlib.figure.Figure at 0x10485f198>"
      ]
     },
     "metadata": {},
     "output_type": "display_data"
    },
    {
     "name": "stdout",
     "output_type": "stream",
     "text": [
      "Sample 1 mean:  5.11093700456\n",
      "Sample 1 Standard Deviation:  5.27251012526\n",
      "Sample 2 mean:  10.31562919\n",
      "Sample 2 Standard Deviation:  11.2324721942\n"
     ]
    }
   ],
   "source": [
    "pop7 = np.random.exponential(5, 10000)\n",
    "pop8 = np.random.exponential(10, 10000)\n",
    "\n",
    "print('Population 1 mean: ', pop7.mean())\n",
    "print('Population 1 standard deviation: ', pop7.std())\n",
    "print('Population 2 mean: ', pop8.mean())\n",
    "print('Population 2 standard deviation: ', pop8.std())\n",
    "\n",
    "samp7 = np.random.choice(pop7, 1000, replace=True)\n",
    "samp8 = np.random.choice(pop8, 1000, replace=True)\n",
    "\n",
    "histgen(samp7, samp8)"
   ]
  },
  {
   "cell_type": "markdown",
   "metadata": {},
   "source": [
    "**Discussion:** The sample means and standard deviations similar to the population means and standard deviations.  With larger sample sizes, the sample statistics should be representative of the population values, regardless of the distribution."
   ]
  },
  {
   "cell_type": "code",
   "execution_count": null,
   "metadata": {},
   "outputs": [],
   "source": []
  }
 ],
 "metadata": {
  "kernelspec": {
   "display_name": "Python 3",
   "language": "python",
   "name": "python3"
  },
  "language_info": {
   "codemirror_mode": {
    "name": "ipython",
    "version": 3
   },
   "file_extension": ".py",
   "mimetype": "text/x-python",
   "name": "python",
   "nbconvert_exporter": "python",
   "pygments_lexer": "ipython3",
   "version": "3.4.3"
  }
 },
 "nbformat": 4,
 "nbformat_minor": 2
}
