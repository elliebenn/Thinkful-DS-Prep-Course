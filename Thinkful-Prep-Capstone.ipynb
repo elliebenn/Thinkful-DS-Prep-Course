{
 "cells": [
  {
   "cell_type": "markdown",
   "metadata": {},
   "source": [
    "## Where does it pay to go to college?"
   ]
  },
  {
   "cell_type": "code",
   "execution_count": 1,
   "metadata": {},
   "outputs": [],
   "source": [
    "import pandas as pd\n",
    "import numpy as np\n",
    "import matplotlib.pyplot as plt\n",
    "%matplotlib inline"
   ]
  },
  {
   "cell_type": "code",
   "execution_count": 2,
   "metadata": {},
   "outputs": [],
   "source": [
    "# Loading files\n",
    "degrees = pd.read_csv('capstone-data/degrees-that-pay-back.csv')\n",
    "college = pd.read_csv('capstone-data/salaries-by-college-type.csv')\n",
    "region = pd.read_csv('capstone-data/salaries-by-region.csv')"
   ]
  },
  {
   "cell_type": "markdown",
   "metadata": {},
   "source": [
    "### Describe the dataset"
   ]
  },
  {
   "cell_type": "code",
   "execution_count": 3,
   "metadata": {},
   "outputs": [
    {
     "data": {
      "text/html": [
       "<div>\n",
       "<style>\n",
       "    .dataframe thead tr:only-child th {\n",
       "        text-align: right;\n",
       "    }\n",
       "\n",
       "    .dataframe thead th {\n",
       "        text-align: left;\n",
       "    }\n",
       "\n",
       "    .dataframe tbody tr th {\n",
       "        vertical-align: top;\n",
       "    }\n",
       "</style>\n",
       "<table border=\"1\" class=\"dataframe\">\n",
       "  <thead>\n",
       "    <tr style=\"text-align: right;\">\n",
       "      <th></th>\n",
       "      <th>School Name</th>\n",
       "      <th>School Type</th>\n",
       "      <th>Starting Median Salary</th>\n",
       "      <th>Mid-Career Median Salary</th>\n",
       "      <th>Mid-Career 10th Percentile Salary</th>\n",
       "      <th>Mid-Career 25th Percentile Salary</th>\n",
       "      <th>Mid-Career 75th Percentile Salary</th>\n",
       "      <th>Mid-Career 90th Percentile Salary</th>\n",
       "    </tr>\n",
       "  </thead>\n",
       "  <tbody>\n",
       "    <tr>\n",
       "      <th>count</th>\n",
       "      <td>269</td>\n",
       "      <td>269</td>\n",
       "      <td>269</td>\n",
       "      <td>269</td>\n",
       "      <td>231</td>\n",
       "      <td>269</td>\n",
       "      <td>269</td>\n",
       "      <td>231</td>\n",
       "    </tr>\n",
       "    <tr>\n",
       "      <th>unique</th>\n",
       "      <td>249</td>\n",
       "      <td>5</td>\n",
       "      <td>145</td>\n",
       "      <td>168</td>\n",
       "      <td>141</td>\n",
       "      <td>178</td>\n",
       "      <td>110</td>\n",
       "      <td>98</td>\n",
       "    </tr>\n",
       "    <tr>\n",
       "      <th>top</th>\n",
       "      <td>University of Alabama, Tuscaloosa</td>\n",
       "      <td>State</td>\n",
       "      <td>$42,600.00</td>\n",
       "      <td>$72,100.00</td>\n",
       "      <td>$40,100.00</td>\n",
       "      <td>$54,100.00</td>\n",
       "      <td>$106,000.00</td>\n",
       "      <td>$150,000.00</td>\n",
       "    </tr>\n",
       "    <tr>\n",
       "      <th>freq</th>\n",
       "      <td>2</td>\n",
       "      <td>175</td>\n",
       "      <td>7</td>\n",
       "      <td>5</td>\n",
       "      <td>6</td>\n",
       "      <td>6</td>\n",
       "      <td>11</td>\n",
       "      <td>8</td>\n",
       "    </tr>\n",
       "  </tbody>\n",
       "</table>\n",
       "</div>"
      ],
      "text/plain": [
       "                              School Name School Type Starting Median Salary  \\\n",
       "count                                 269         269                    269   \n",
       "unique                                249           5                    145   \n",
       "top     University of Alabama, Tuscaloosa       State             $42,600.00   \n",
       "freq                                    2         175                      7   \n",
       "\n",
       "       Mid-Career Median Salary Mid-Career 10th Percentile Salary  \\\n",
       "count                       269                               231   \n",
       "unique                      168                               141   \n",
       "top                  $72,100.00                        $40,100.00   \n",
       "freq                          5                                 6   \n",
       "\n",
       "       Mid-Career 25th Percentile Salary Mid-Career 75th Percentile Salary  \\\n",
       "count                                269                               269   \n",
       "unique                               178                               110   \n",
       "top                           $54,100.00                       $106,000.00   \n",
       "freq                                   6                                11   \n",
       "\n",
       "       Mid-Career 90th Percentile Salary  \n",
       "count                                231  \n",
       "unique                                98  \n",
       "top                          $150,000.00  \n",
       "freq                                   8  "
      ]
     },
     "execution_count": 3,
     "metadata": {},
     "output_type": "execute_result"
    }
   ],
   "source": [
    "college.describe()"
   ]
  },
  {
   "cell_type": "code",
   "execution_count": 4,
   "metadata": {},
   "outputs": [
    {
     "data": {
      "text/html": [
       "<div>\n",
       "<style>\n",
       "    .dataframe thead tr:only-child th {\n",
       "        text-align: right;\n",
       "    }\n",
       "\n",
       "    .dataframe thead th {\n",
       "        text-align: left;\n",
       "    }\n",
       "\n",
       "    .dataframe tbody tr th {\n",
       "        vertical-align: top;\n",
       "    }\n",
       "</style>\n",
       "<table border=\"1\" class=\"dataframe\">\n",
       "  <thead>\n",
       "    <tr style=\"text-align: right;\">\n",
       "      <th></th>\n",
       "      <th>name</th>\n",
       "      <th>type</th>\n",
       "      <th>start_med</th>\n",
       "      <th>mid_med</th>\n",
       "      <th>mid_p10</th>\n",
       "      <th>mid_p25</th>\n",
       "      <th>mid_p75</th>\n",
       "      <th>mid_p90</th>\n",
       "    </tr>\n",
       "  </thead>\n",
       "  <tbody>\n",
       "    <tr>\n",
       "      <th>0</th>\n",
       "      <td>Massachusetts Institute of Technology (MIT)</td>\n",
       "      <td>Engineering</td>\n",
       "      <td>$72,200.00</td>\n",
       "      <td>$126,000.00</td>\n",
       "      <td>$76,800.00</td>\n",
       "      <td>$99,200.00</td>\n",
       "      <td>$168,000.00</td>\n",
       "      <td>$220,000.00</td>\n",
       "    </tr>\n",
       "    <tr>\n",
       "      <th>1</th>\n",
       "      <td>California Institute of Technology (CIT)</td>\n",
       "      <td>Engineering</td>\n",
       "      <td>$75,500.00</td>\n",
       "      <td>$123,000.00</td>\n",
       "      <td>NaN</td>\n",
       "      <td>$104,000.00</td>\n",
       "      <td>$161,000.00</td>\n",
       "      <td>NaN</td>\n",
       "    </tr>\n",
       "    <tr>\n",
       "      <th>2</th>\n",
       "      <td>Harvey Mudd College</td>\n",
       "      <td>Engineering</td>\n",
       "      <td>$71,800.00</td>\n",
       "      <td>$122,000.00</td>\n",
       "      <td>NaN</td>\n",
       "      <td>$96,000.00</td>\n",
       "      <td>$180,000.00</td>\n",
       "      <td>NaN</td>\n",
       "    </tr>\n",
       "    <tr>\n",
       "      <th>3</th>\n",
       "      <td>Polytechnic University of New York, Brooklyn</td>\n",
       "      <td>Engineering</td>\n",
       "      <td>$62,400.00</td>\n",
       "      <td>$114,000.00</td>\n",
       "      <td>$66,800.00</td>\n",
       "      <td>$94,300.00</td>\n",
       "      <td>$143,000.00</td>\n",
       "      <td>$190,000.00</td>\n",
       "    </tr>\n",
       "    <tr>\n",
       "      <th>4</th>\n",
       "      <td>Cooper Union</td>\n",
       "      <td>Engineering</td>\n",
       "      <td>$62,200.00</td>\n",
       "      <td>$114,000.00</td>\n",
       "      <td>NaN</td>\n",
       "      <td>$80,200.00</td>\n",
       "      <td>$142,000.00</td>\n",
       "      <td>NaN</td>\n",
       "    </tr>\n",
       "  </tbody>\n",
       "</table>\n",
       "</div>"
      ],
      "text/plain": [
       "                                           name         type   start_med  \\\n",
       "0   Massachusetts Institute of Technology (MIT)  Engineering  $72,200.00   \n",
       "1      California Institute of Technology (CIT)  Engineering  $75,500.00   \n",
       "2                           Harvey Mudd College  Engineering  $71,800.00   \n",
       "3  Polytechnic University of New York, Brooklyn  Engineering  $62,400.00   \n",
       "4                                  Cooper Union  Engineering  $62,200.00   \n",
       "\n",
       "       mid_med     mid_p10      mid_p25      mid_p75      mid_p90  \n",
       "0  $126,000.00  $76,800.00   $99,200.00  $168,000.00  $220,000.00  \n",
       "1  $123,000.00         NaN  $104,000.00  $161,000.00          NaN  \n",
       "2  $122,000.00         NaN   $96,000.00  $180,000.00          NaN  \n",
       "3  $114,000.00  $66,800.00   $94,300.00  $143,000.00  $190,000.00  \n",
       "4  $114,000.00         NaN   $80,200.00  $142,000.00          NaN  "
      ]
     },
     "execution_count": 4,
     "metadata": {},
     "output_type": "execute_result"
    }
   ],
   "source": [
    "#Renaming columns\n",
    "college.columns = ['name', 'type','start_med', 'mid_med', 'mid_p10', 'mid_p25', 'mid_p75', 'mid_p90']\n",
    "college.head()"
   ]
  },
  {
   "cell_type": "code",
   "execution_count": 5,
   "metadata": {},
   "outputs": [
    {
     "data": {
      "text/plain": [
       "array(['Engineering', 'Party', 'Liberal Arts', 'Ivy League', 'State'], dtype=object)"
      ]
     },
     "execution_count": 5,
     "metadata": {},
     "output_type": "execute_result"
    }
   ],
   "source": [
    "# What types of colleges are listed?\n",
    "college.type.unique()"
   ]
  },
  {
   "cell_type": "code",
   "execution_count": 6,
   "metadata": {},
   "outputs": [
    {
     "data": {
      "text/html": [
       "<div>\n",
       "<style>\n",
       "    .dataframe thead tr:only-child th {\n",
       "        text-align: right;\n",
       "    }\n",
       "\n",
       "    .dataframe thead th {\n",
       "        text-align: left;\n",
       "    }\n",
       "\n",
       "    .dataframe tbody tr th {\n",
       "        vertical-align: top;\n",
       "    }\n",
       "</style>\n",
       "<table border=\"1\" class=\"dataframe\">\n",
       "  <thead>\n",
       "    <tr style=\"text-align: right;\">\n",
       "      <th></th>\n",
       "      <th>name</th>\n",
       "      <th>type</th>\n",
       "      <th>start_med</th>\n",
       "      <th>mid_med</th>\n",
       "      <th>mid_p10</th>\n",
       "      <th>mid_p25</th>\n",
       "      <th>mid_p75</th>\n",
       "      <th>mid_p90</th>\n",
       "    </tr>\n",
       "  </thead>\n",
       "  <tbody>\n",
       "    <tr>\n",
       "      <th>0</th>\n",
       "      <td>Massachusetts Institute of Technology (MIT)</td>\n",
       "      <td>Engineering</td>\n",
       "      <td>72200.0</td>\n",
       "      <td>126000.0</td>\n",
       "      <td>76800.0</td>\n",
       "      <td>99200.0</td>\n",
       "      <td>168000.0</td>\n",
       "      <td>220000.0</td>\n",
       "    </tr>\n",
       "    <tr>\n",
       "      <th>1</th>\n",
       "      <td>California Institute of Technology (CIT)</td>\n",
       "      <td>Engineering</td>\n",
       "      <td>75500.0</td>\n",
       "      <td>123000.0</td>\n",
       "      <td>NaN</td>\n",
       "      <td>104000.0</td>\n",
       "      <td>161000.0</td>\n",
       "      <td>NaN</td>\n",
       "    </tr>\n",
       "    <tr>\n",
       "      <th>2</th>\n",
       "      <td>Harvey Mudd College</td>\n",
       "      <td>Engineering</td>\n",
       "      <td>71800.0</td>\n",
       "      <td>122000.0</td>\n",
       "      <td>NaN</td>\n",
       "      <td>96000.0</td>\n",
       "      <td>180000.0</td>\n",
       "      <td>NaN</td>\n",
       "    </tr>\n",
       "    <tr>\n",
       "      <th>3</th>\n",
       "      <td>Polytechnic University of New York, Brooklyn</td>\n",
       "      <td>Engineering</td>\n",
       "      <td>62400.0</td>\n",
       "      <td>114000.0</td>\n",
       "      <td>66800.0</td>\n",
       "      <td>94300.0</td>\n",
       "      <td>143000.0</td>\n",
       "      <td>190000.0</td>\n",
       "    </tr>\n",
       "    <tr>\n",
       "      <th>4</th>\n",
       "      <td>Cooper Union</td>\n",
       "      <td>Engineering</td>\n",
       "      <td>62200.0</td>\n",
       "      <td>114000.0</td>\n",
       "      <td>NaN</td>\n",
       "      <td>80200.0</td>\n",
       "      <td>142000.0</td>\n",
       "      <td>NaN</td>\n",
       "    </tr>\n",
       "  </tbody>\n",
       "</table>\n",
       "</div>"
      ],
      "text/plain": [
       "                                           name         type  start_med  \\\n",
       "0   Massachusetts Institute of Technology (MIT)  Engineering    72200.0   \n",
       "1      California Institute of Technology (CIT)  Engineering    75500.0   \n",
       "2                           Harvey Mudd College  Engineering    71800.0   \n",
       "3  Polytechnic University of New York, Brooklyn  Engineering    62400.0   \n",
       "4                                  Cooper Union  Engineering    62200.0   \n",
       "\n",
       "    mid_med  mid_p10   mid_p25   mid_p75   mid_p90  \n",
       "0  126000.0  76800.0   99200.0  168000.0  220000.0  \n",
       "1  123000.0      NaN  104000.0  161000.0       NaN  \n",
       "2  122000.0      NaN   96000.0  180000.0       NaN  \n",
       "3  114000.0  66800.0   94300.0  143000.0  190000.0  \n",
       "4  114000.0      NaN   80200.0  142000.0       NaN  "
      ]
     },
     "execution_count": 6,
     "metadata": {},
     "output_type": "execute_result"
    }
   ],
   "source": [
    "#Changing strings to ints for analysis\n",
    "\n",
    "dollar_cols = ['start_med', 'mid_med', 'mid_p10', 'mid_p25', 'mid_p75', 'mid_p90']\n",
    "\n",
    "for x in dollar_cols:\n",
    "    college[x] = college[x].str.replace(\"$\",\"\")\n",
    "    college[x] = college[x].str.replace(\",\",\"\")\n",
    "    college[x] = pd.to_numeric(college[x])\n",
    "\n",
    "college.head()"
   ]
  },
  {
   "cell_type": "markdown",
   "metadata": {},
   "source": [
    "### Analysis\n",
    "\n",
    "#### How do starting median salaries compare between the different types of colleges?"
   ]
  },
  {
   "cell_type": "code",
   "execution_count": 7,
   "metadata": {},
   "outputs": [
    {
     "data": {
      "text/html": [
       "<div>\n",
       "<style>\n",
       "    .dataframe thead tr:only-child th {\n",
       "        text-align: right;\n",
       "    }\n",
       "\n",
       "    .dataframe thead th {\n",
       "        text-align: left;\n",
       "    }\n",
       "\n",
       "    .dataframe tbody tr th {\n",
       "        vertical-align: top;\n",
       "    }\n",
       "</style>\n",
       "<table border=\"1\" class=\"dataframe\">\n",
       "  <thead>\n",
       "    <tr>\n",
       "      <th></th>\n",
       "      <th colspan=\"8\" halign=\"left\">mid_med</th>\n",
       "      <th colspan=\"2\" halign=\"left\">mid_p10</th>\n",
       "      <th>...</th>\n",
       "      <th colspan=\"2\" halign=\"left\">mid_p90</th>\n",
       "      <th colspan=\"8\" halign=\"left\">start_med</th>\n",
       "    </tr>\n",
       "    <tr>\n",
       "      <th></th>\n",
       "      <th>count</th>\n",
       "      <th>mean</th>\n",
       "      <th>std</th>\n",
       "      <th>min</th>\n",
       "      <th>25%</th>\n",
       "      <th>50%</th>\n",
       "      <th>75%</th>\n",
       "      <th>max</th>\n",
       "      <th>count</th>\n",
       "      <th>mean</th>\n",
       "      <th>...</th>\n",
       "      <th>75%</th>\n",
       "      <th>max</th>\n",
       "      <th>count</th>\n",
       "      <th>mean</th>\n",
       "      <th>std</th>\n",
       "      <th>min</th>\n",
       "      <th>25%</th>\n",
       "      <th>50%</th>\n",
       "      <th>75%</th>\n",
       "      <th>max</th>\n",
       "    </tr>\n",
       "    <tr>\n",
       "      <th>type</th>\n",
       "      <th></th>\n",
       "      <th></th>\n",
       "      <th></th>\n",
       "      <th></th>\n",
       "      <th></th>\n",
       "      <th></th>\n",
       "      <th></th>\n",
       "      <th></th>\n",
       "      <th></th>\n",
       "      <th></th>\n",
       "      <th></th>\n",
       "      <th></th>\n",
       "      <th></th>\n",
       "      <th></th>\n",
       "      <th></th>\n",
       "      <th></th>\n",
       "      <th></th>\n",
       "      <th></th>\n",
       "      <th></th>\n",
       "      <th></th>\n",
       "      <th></th>\n",
       "    </tr>\n",
       "  </thead>\n",
       "  <tbody>\n",
       "    <tr>\n",
       "      <th>Engineering</th>\n",
       "      <td>19.0</td>\n",
       "      <td>103842.105263</td>\n",
       "      <td>13840.733594</td>\n",
       "      <td>80000.0</td>\n",
       "      <td>94400.0</td>\n",
       "      <td>106000.0</td>\n",
       "      <td>114000.0</td>\n",
       "      <td>126000.0</td>\n",
       "      <td>15.0</td>\n",
       "      <td>61793.333333</td>\n",
       "      <td>...</td>\n",
       "      <td>187500.0</td>\n",
       "      <td>220000.0</td>\n",
       "      <td>19.0</td>\n",
       "      <td>59057.894737</td>\n",
       "      <td>7842.924326</td>\n",
       "      <td>46200.0</td>\n",
       "      <td>53250.0</td>\n",
       "      <td>58300.0</td>\n",
       "      <td>62000.0</td>\n",
       "      <td>75500.0</td>\n",
       "    </tr>\n",
       "    <tr>\n",
       "      <th>Ivy League</th>\n",
       "      <td>8.0</td>\n",
       "      <td>120125.000000</td>\n",
       "      <td>10412.046594</td>\n",
       "      <td>107000.0</td>\n",
       "      <td>109750.0</td>\n",
       "      <td>122000.0</td>\n",
       "      <td>127250.0</td>\n",
       "      <td>134000.0</td>\n",
       "      <td>8.0</td>\n",
       "      <td>57900.000000</td>\n",
       "      <td>...</td>\n",
       "      <td>296250.0</td>\n",
       "      <td>326000.0</td>\n",
       "      <td>8.0</td>\n",
       "      <td>60475.000000</td>\n",
       "      <td>3218.584427</td>\n",
       "      <td>56200.0</td>\n",
       "      <td>58825.0</td>\n",
       "      <td>59850.0</td>\n",
       "      <td>61525.0</td>\n",
       "      <td>66500.0</td>\n",
       "    </tr>\n",
       "    <tr>\n",
       "      <th>Liberal Arts</th>\n",
       "      <td>47.0</td>\n",
       "      <td>89378.723404</td>\n",
       "      <td>12318.172086</td>\n",
       "      <td>63900.0</td>\n",
       "      <td>80850.0</td>\n",
       "      <td>85800.0</td>\n",
       "      <td>101500.0</td>\n",
       "      <td>110000.0</td>\n",
       "      <td>14.0</td>\n",
       "      <td>47478.571429</td>\n",
       "      <td>...</td>\n",
       "      <td>214000.0</td>\n",
       "      <td>265000.0</td>\n",
       "      <td>47.0</td>\n",
       "      <td>45746.808511</td>\n",
       "      <td>4368.854743</td>\n",
       "      <td>38500.0</td>\n",
       "      <td>42250.0</td>\n",
       "      <td>45500.0</td>\n",
       "      <td>48600.0</td>\n",
       "      <td>54500.0</td>\n",
       "    </tr>\n",
       "    <tr>\n",
       "      <th>Party</th>\n",
       "      <td>20.0</td>\n",
       "      <td>84685.000000</td>\n",
       "      <td>7237.568289</td>\n",
       "      <td>73000.0</td>\n",
       "      <td>79350.0</td>\n",
       "      <td>84050.0</td>\n",
       "      <td>88975.0</td>\n",
       "      <td>96100.0</td>\n",
       "      <td>19.0</td>\n",
       "      <td>44052.631579</td>\n",
       "      <td>...</td>\n",
       "      <td>175000.0</td>\n",
       "      <td>209000.0</td>\n",
       "      <td>20.0</td>\n",
       "      <td>45715.000000</td>\n",
       "      <td>3685.715670</td>\n",
       "      <td>41300.0</td>\n",
       "      <td>42500.0</td>\n",
       "      <td>44600.0</td>\n",
       "      <td>47975.0</td>\n",
       "      <td>52900.0</td>\n",
       "    </tr>\n",
       "    <tr>\n",
       "      <th>State</th>\n",
       "      <td>175.0</td>\n",
       "      <td>78567.428571</td>\n",
       "      <td>10296.072330</td>\n",
       "      <td>43900.0</td>\n",
       "      <td>71800.0</td>\n",
       "      <td>78500.0</td>\n",
       "      <td>84450.0</td>\n",
       "      <td>112000.0</td>\n",
       "      <td>175.0</td>\n",
       "      <td>41886.285714</td>\n",
       "      <td>...</td>\n",
       "      <td>161500.0</td>\n",
       "      <td>215000.0</td>\n",
       "      <td>175.0</td>\n",
       "      <td>44126.285714</td>\n",
       "      <td>4269.067495</td>\n",
       "      <td>34800.0</td>\n",
       "      <td>41400.0</td>\n",
       "      <td>43600.0</td>\n",
       "      <td>46300.0</td>\n",
       "      <td>59900.0</td>\n",
       "    </tr>\n",
       "  </tbody>\n",
       "</table>\n",
       "<p>5 rows × 48 columns</p>\n",
       "</div>"
      ],
      "text/plain": [
       "             mid_med                                                   \\\n",
       "               count           mean           std       min       25%   \n",
       "type                                                                    \n",
       "Engineering     19.0  103842.105263  13840.733594   80000.0   94400.0   \n",
       "Ivy League       8.0  120125.000000  10412.046594  107000.0  109750.0   \n",
       "Liberal Arts    47.0   89378.723404  12318.172086   63900.0   80850.0   \n",
       "Party           20.0   84685.000000   7237.568289   73000.0   79350.0   \n",
       "State          175.0   78567.428571  10296.072330   43900.0   71800.0   \n",
       "\n",
       "                                           mid_p10                 ...     \\\n",
       "                   50%       75%       max   count          mean   ...      \n",
       "type                                                               ...      \n",
       "Engineering   106000.0  114000.0  126000.0    15.0  61793.333333   ...      \n",
       "Ivy League    122000.0  127250.0  134000.0     8.0  57900.000000   ...      \n",
       "Liberal Arts   85800.0  101500.0  110000.0    14.0  47478.571429   ...      \n",
       "Party          84050.0   88975.0   96100.0    19.0  44052.631579   ...      \n",
       "State          78500.0   84450.0  112000.0   175.0  41886.285714   ...      \n",
       "\n",
       "               mid_p90           start_med                             \\\n",
       "                   75%       max     count          mean          std   \n",
       "type                                                                    \n",
       "Engineering   187500.0  220000.0      19.0  59057.894737  7842.924326   \n",
       "Ivy League    296250.0  326000.0       8.0  60475.000000  3218.584427   \n",
       "Liberal Arts  214000.0  265000.0      47.0  45746.808511  4368.854743   \n",
       "Party         175000.0  209000.0      20.0  45715.000000  3685.715670   \n",
       "State         161500.0  215000.0     175.0  44126.285714  4269.067495   \n",
       "\n",
       "                                                           \n",
       "                  min      25%      50%      75%      max  \n",
       "type                                                       \n",
       "Engineering   46200.0  53250.0  58300.0  62000.0  75500.0  \n",
       "Ivy League    56200.0  58825.0  59850.0  61525.0  66500.0  \n",
       "Liberal Arts  38500.0  42250.0  45500.0  48600.0  54500.0  \n",
       "Party         41300.0  42500.0  44600.0  47975.0  52900.0  \n",
       "State         34800.0  41400.0  43600.0  46300.0  59900.0  \n",
       "\n",
       "[5 rows x 48 columns]"
      ]
     },
     "execution_count": 7,
     "metadata": {},
     "output_type": "execute_result"
    }
   ],
   "source": [
    "# Comparing starting median salaries by type\n",
    "college.groupby('type').describe()"
   ]
  },
  {
   "cell_type": "code",
   "execution_count": 27,
   "metadata": {},
   "outputs": [
    {
     "name": "stderr",
     "output_type": "stream",
     "text": [
      "/Library/Frameworks/Python.framework/Versions/3.4/lib/python3.4/site-packages/numpy/core/fromnumeric.py:57: FutureWarning: reshape is deprecated and will raise in a subsequent release. Please use .values.reshape(...) instead\n",
      "  return getattr(obj, method)(*args, **kwds)\n"
     ]
    },
    {
     "data": {
      "image/png": "[encoded data removed]",
      "text/plain": [
       "<matplotlib.figure.Figure at 0x107f7f668>"
      ]
     },
     "metadata": {},
     "output_type": "display_data"
    }
   ],
   "source": [
    "# Let's see it in histogram form\n",
    "\n",
    "Eng = college[college['type'] == \"Engineering\"]['start_med']\n",
    "Ivy = college[college['type'] == \"Ivy League\"]['start_med']\n",
    "LibArts = college[college['type'] == \"Liberal Arts\"]['start_med']\n",
    "Party = college[college['type'] == \"Party\"]['start_med']\n",
    "State = college[college['type'] == \"State\"]['start_med']\n",
    "\n",
    "start_med_hist = plt.hist([Eng, Ivy, LibArts, Party, State], color = ['blue','turquoise', 'orange', 'magenta','maroon'])\n",
    "\n",
    "plt.xlabel(\"Starting Median Salaries\", fontsize=16)  \n",
    "plt.ylabel(\"Colleges (count)\", fontsize=16)\n",
    "plt.xticks(fontsize=9)  \n",
    "plt.yticks(fontsize=14)\n",
    "\n",
    "plt.show()"
   ]
  },
  {
   "cell_type": "code",
   "execution_count": 9,
   "metadata": {},
   "outputs": [
    {
     "name": "stderr",
     "output_type": "stream",
     "text": [
      "/Library/Frameworks/Python.framework/Versions/3.4/lib/python3.4/site-packages/numpy/core/fromnumeric.py:57: FutureWarning: reshape is deprecated and will raise in a subsequent release. Please use .values.reshape(...) instead\n",
      "  return getattr(obj, method)(*args, **kwds)\n"
     ]
    },
    {
     "data": {
      "image/png": "[encoded data removed]",
      "text/plain": [
       "<matplotlib.figure.Figure at 0x107f6a4e0>"
      ]
     },
     "metadata": {},
     "output_type": "display_data"
    }
   ],
   "source": [
    "# Boxplots of starting median salaries by type of college.\n",
    "\n",
    "start_med_boxplt = college.boxplot('start_med',by='type')"
   ]
  },
  {
   "cell_type": "markdown",
   "metadata": {},
   "source": [
    "Engineering schools have the most range with starting median salaries, implying that where an engineering student goes to school matters more than the other types of colleges.  Ivy leagues have less variation in terms of starting salaries and the highest mean starting median salary. Where you go within the Ivy League system matters less when looking at starting median salaries. Liberal Arts, Party and State schools have similar mean median starting salaries, with more variation in state schools.  State schools also has the largest count compared to the other schools, as seen in the histogram. This may account for the variation.\n",
    "\n",
    "#### Is there a significant difference in mean starting median salary between Liberal Arts, Party and State schools?"
   ]
  },
  {
   "cell_type": "code",
   "execution_count": 10,
   "metadata": {},
   "outputs": [
    {
     "ename": "ValueError",
     "evalue": "x and y must have same first dimension, but have shapes (20,) and (19, 8)",
     "output_type": "error",
     "traceback": [
      "\u001b[0;31m---------------------------------------------------------------------------\u001b[0m",
      "\u001b[0;31mValueError\u001b[0m                                Traceback (most recent call last)",
      "\u001b[0;32m<ipython-input-10-a3d80af7b3cf>\u001b[0m in \u001b[0;36m<module>\u001b[0;34m()\u001b[0m\n\u001b[1;32m      7\u001b[0m \u001b[0mEng\u001b[0m\u001b[0;34m[\u001b[0m\u001b[0;34m'start_med'\u001b[0m\u001b[0;34m]\u001b[0m\u001b[0;34m.\u001b[0m\u001b[0msort_values\u001b[0m\u001b[0;34m(\u001b[0m\u001b[0;34m)\u001b[0m\u001b[0;34m\u001b[0m\u001b[0m\n\u001b[1;32m      8\u001b[0m \u001b[0;34m\u001b[0m\u001b[0m\n\u001b[0;32m----> 9\u001b[0;31m \u001b[0mplt\u001b[0m\u001b[0;34m.\u001b[0m\u001b[0mplot\u001b[0m\u001b[0;34m(\u001b[0m\u001b[0mnorm\u001b[0m\u001b[0;34m,\u001b[0m \u001b[0mEng\u001b[0m\u001b[0;34m,\u001b[0m \u001b[0;34m\"x\"\u001b[0m\u001b[0;34m)\u001b[0m\u001b[0;34m\u001b[0m\u001b[0m\n\u001b[0m",
      "\u001b[0;32m/Library/Frameworks/Python.framework/Versions/3.4/lib/python3.4/site-packages/matplotlib/pyplot.py\u001b[0m in \u001b[0;36mplot\u001b[0;34m(*args, **kwargs)\u001b[0m\n\u001b[1;32m   3238\u001b[0m                       mplDeprecation)\n\u001b[1;32m   3239\u001b[0m     \u001b[0;32mtry\u001b[0m\u001b[0;34m:\u001b[0m\u001b[0;34m\u001b[0m\u001b[0m\n\u001b[0;32m-> 3240\u001b[0;31m         \u001b[0mret\u001b[0m \u001b[0;34m=\u001b[0m \u001b[0max\u001b[0m\u001b[0;34m.\u001b[0m\u001b[0mplot\u001b[0m\u001b[0;34m(\u001b[0m\u001b[0;34m*\u001b[0m\u001b[0margs\u001b[0m\u001b[0;34m,\u001b[0m \u001b[0;34m**\u001b[0m\u001b[0mkwargs\u001b[0m\u001b[0;34m)\u001b[0m\u001b[0;34m\u001b[0m\u001b[0m\n\u001b[0m\u001b[1;32m   3241\u001b[0m     \u001b[0;32mfinally\u001b[0m\u001b[0;34m:\u001b[0m\u001b[0;34m\u001b[0m\u001b[0m\n\u001b[1;32m   3242\u001b[0m         \u001b[0max\u001b[0m\u001b[0;34m.\u001b[0m\u001b[0m_hold\u001b[0m \u001b[0;34m=\u001b[0m \u001b[0mwashold\u001b[0m\u001b[0;34m\u001b[0m\u001b[0m\n",
      "\u001b[0;32m/Library/Frameworks/Python.framework/Versions/3.4/lib/python3.4/site-packages/matplotlib/__init__.py\u001b[0m in \u001b[0;36minner\u001b[0;34m(ax, *args, **kwargs)\u001b[0m\n\u001b[1;32m   1708\u001b[0m                     warnings.warn(msg % (label_namer, func.__name__),\n\u001b[1;32m   1709\u001b[0m                                   RuntimeWarning, stacklevel=2)\n\u001b[0;32m-> 1710\u001b[0;31m             \u001b[0;32mreturn\u001b[0m \u001b[0mfunc\u001b[0m\u001b[0;34m(\u001b[0m\u001b[0max\u001b[0m\u001b[0;34m,\u001b[0m \u001b[0;34m*\u001b[0m\u001b[0margs\u001b[0m\u001b[0;34m,\u001b[0m \u001b[0;34m**\u001b[0m\u001b[0mkwargs\u001b[0m\u001b[0;34m)\u001b[0m\u001b[0;34m\u001b[0m\u001b[0m\n\u001b[0m\u001b[1;32m   1711\u001b[0m         \u001b[0mpre_doc\u001b[0m \u001b[0;34m=\u001b[0m \u001b[0minner\u001b[0m\u001b[0;34m.\u001b[0m\u001b[0m__doc__\u001b[0m\u001b[0;34m\u001b[0m\u001b[0m\n\u001b[1;32m   1712\u001b[0m         \u001b[0;32mif\u001b[0m \u001b[0mpre_doc\u001b[0m \u001b[0;32mis\u001b[0m \u001b[0;32mNone\u001b[0m\u001b[0;34m:\u001b[0m\u001b[0;34m\u001b[0m\u001b[0m\n",
      "\u001b[0;32m/Library/Frameworks/Python.framework/Versions/3.4/lib/python3.4/site-packages/matplotlib/axes/_axes.py\u001b[0m in \u001b[0;36mplot\u001b[0;34m(self, *args, **kwargs)\u001b[0m\n\u001b[1;32m   1435\u001b[0m         \u001b[0mkwargs\u001b[0m \u001b[0;34m=\u001b[0m \u001b[0mcbook\u001b[0m\u001b[0;34m.\u001b[0m\u001b[0mnormalize_kwargs\u001b[0m\u001b[0;34m(\u001b[0m\u001b[0mkwargs\u001b[0m\u001b[0;34m,\u001b[0m \u001b[0m_alias_map\u001b[0m\u001b[0;34m)\u001b[0m\u001b[0;34m\u001b[0m\u001b[0m\n\u001b[1;32m   1436\u001b[0m \u001b[0;34m\u001b[0m\u001b[0m\n\u001b[0;32m-> 1437\u001b[0;31m         \u001b[0;32mfor\u001b[0m \u001b[0mline\u001b[0m \u001b[0;32min\u001b[0m \u001b[0mself\u001b[0m\u001b[0;34m.\u001b[0m\u001b[0m_get_lines\u001b[0m\u001b[0;34m(\u001b[0m\u001b[0;34m*\u001b[0m\u001b[0margs\u001b[0m\u001b[0;34m,\u001b[0m \u001b[0;34m**\u001b[0m\u001b[0mkwargs\u001b[0m\u001b[0;34m)\u001b[0m\u001b[0;34m:\u001b[0m\u001b[0;34m\u001b[0m\u001b[0m\n\u001b[0m\u001b[1;32m   1438\u001b[0m             \u001b[0mself\u001b[0m\u001b[0;34m.\u001b[0m\u001b[0madd_line\u001b[0m\u001b[0;34m(\u001b[0m\u001b[0mline\u001b[0m\u001b[0;34m)\u001b[0m\u001b[0;34m\u001b[0m\u001b[0m\n\u001b[1;32m   1439\u001b[0m             \u001b[0mlines\u001b[0m\u001b[0;34m.\u001b[0m\u001b[0mappend\u001b[0m\u001b[0;34m(\u001b[0m\u001b[0mline\u001b[0m\u001b[0;34m)\u001b[0m\u001b[0;34m\u001b[0m\u001b[0m\n",
      "\u001b[0;32m/Library/Frameworks/Python.framework/Versions/3.4/lib/python3.4/site-packages/matplotlib/axes/_base.py\u001b[0m in \u001b[0;36m_grab_next_args\u001b[0;34m(self, *args, **kwargs)\u001b[0m\n\u001b[1;32m    402\u001b[0m                 \u001b[0mthis\u001b[0m \u001b[0;34m+=\u001b[0m \u001b[0margs\u001b[0m\u001b[0;34m[\u001b[0m\u001b[0;36m0\u001b[0m\u001b[0;34m]\u001b[0m\u001b[0;34m,\u001b[0m\u001b[0;34m\u001b[0m\u001b[0m\n\u001b[1;32m    403\u001b[0m                 \u001b[0margs\u001b[0m \u001b[0;34m=\u001b[0m \u001b[0margs\u001b[0m\u001b[0;34m[\u001b[0m\u001b[0;36m1\u001b[0m\u001b[0;34m:\u001b[0m\u001b[0;34m]\u001b[0m\u001b[0;34m\u001b[0m\u001b[0m\n\u001b[0;32m--> 404\u001b[0;31m             \u001b[0;32mfor\u001b[0m \u001b[0mseg\u001b[0m \u001b[0;32min\u001b[0m \u001b[0mself\u001b[0m\u001b[0;34m.\u001b[0m\u001b[0m_plot_args\u001b[0m\u001b[0;34m(\u001b[0m\u001b[0mthis\u001b[0m\u001b[0;34m,\u001b[0m \u001b[0mkwargs\u001b[0m\u001b[0;34m)\u001b[0m\u001b[0;34m:\u001b[0m\u001b[0;34m\u001b[0m\u001b[0m\n\u001b[0m\u001b[1;32m    405\u001b[0m                 \u001b[0;32myield\u001b[0m \u001b[0mseg\u001b[0m\u001b[0;34m\u001b[0m\u001b[0m\n\u001b[1;32m    406\u001b[0m \u001b[0;34m\u001b[0m\u001b[0m\n",
      "\u001b[0;32m/Library/Frameworks/Python.framework/Versions/3.4/lib/python3.4/site-packages/matplotlib/axes/_base.py\u001b[0m in \u001b[0;36m_plot_args\u001b[0;34m(self, tup, kwargs)\u001b[0m\n\u001b[1;32m    382\u001b[0m             \u001b[0mx\u001b[0m\u001b[0;34m,\u001b[0m \u001b[0my\u001b[0m \u001b[0;34m=\u001b[0m \u001b[0mindex_of\u001b[0m\u001b[0;34m(\u001b[0m\u001b[0mtup\u001b[0m\u001b[0;34m[\u001b[0m\u001b[0;34m-\u001b[0m\u001b[0;36m1\u001b[0m\u001b[0;34m]\u001b[0m\u001b[0;34m)\u001b[0m\u001b[0;34m\u001b[0m\u001b[0m\n\u001b[1;32m    383\u001b[0m \u001b[0;34m\u001b[0m\u001b[0m\n\u001b[0;32m--> 384\u001b[0;31m         \u001b[0mx\u001b[0m\u001b[0;34m,\u001b[0m \u001b[0my\u001b[0m \u001b[0;34m=\u001b[0m \u001b[0mself\u001b[0m\u001b[0;34m.\u001b[0m\u001b[0m_xy_from_xy\u001b[0m\u001b[0;34m(\u001b[0m\u001b[0mx\u001b[0m\u001b[0;34m,\u001b[0m \u001b[0my\u001b[0m\u001b[0;34m)\u001b[0m\u001b[0;34m\u001b[0m\u001b[0m\n\u001b[0m\u001b[1;32m    385\u001b[0m \u001b[0;34m\u001b[0m\u001b[0m\n\u001b[1;32m    386\u001b[0m         \u001b[0;32mif\u001b[0m \u001b[0mself\u001b[0m\u001b[0;34m.\u001b[0m\u001b[0mcommand\u001b[0m \u001b[0;34m==\u001b[0m \u001b[0;34m'plot'\u001b[0m\u001b[0;34m:\u001b[0m\u001b[0;34m\u001b[0m\u001b[0m\n",
      "\u001b[0;32m/Library/Frameworks/Python.framework/Versions/3.4/lib/python3.4/site-packages/matplotlib/axes/_base.py\u001b[0m in \u001b[0;36m_xy_from_xy\u001b[0;34m(self, x, y)\u001b[0m\n\u001b[1;32m    241\u001b[0m         \u001b[0;32mif\u001b[0m \u001b[0mx\u001b[0m\u001b[0;34m.\u001b[0m\u001b[0mshape\u001b[0m\u001b[0;34m[\u001b[0m\u001b[0;36m0\u001b[0m\u001b[0;34m]\u001b[0m \u001b[0;34m!=\u001b[0m \u001b[0my\u001b[0m\u001b[0;34m.\u001b[0m\u001b[0mshape\u001b[0m\u001b[0;34m[\u001b[0m\u001b[0;36m0\u001b[0m\u001b[0;34m]\u001b[0m\u001b[0;34m:\u001b[0m\u001b[0;34m\u001b[0m\u001b[0m\n\u001b[1;32m    242\u001b[0m             raise ValueError(\"x and y must have same first dimension, but \"\n\u001b[0;32m--> 243\u001b[0;31m                              \"have shapes {} and {}\".format(x.shape, y.shape))\n\u001b[0m\u001b[1;32m    244\u001b[0m         \u001b[0;32mif\u001b[0m \u001b[0mx\u001b[0m\u001b[0;34m.\u001b[0m\u001b[0mndim\u001b[0m \u001b[0;34m>\u001b[0m \u001b[0;36m2\u001b[0m \u001b[0;32mor\u001b[0m \u001b[0my\u001b[0m\u001b[0;34m.\u001b[0m\u001b[0mndim\u001b[0m \u001b[0;34m>\u001b[0m \u001b[0;36m2\u001b[0m\u001b[0;34m:\u001b[0m\u001b[0;34m\u001b[0m\u001b[0m\n\u001b[1;32m    245\u001b[0m             raise ValueError(\"x and y can be no greater than 2-D, but have \"\n",
      "\u001b[0;31mValueError\u001b[0m: x and y must have same first dimension, but have shapes (20,) and (19, 8)"
     ]
    },
    {
     "data": {
      "image/png": "[encoded data removed]",
      "text/plain": [
       "<matplotlib.figure.Figure at 0x107f6a630>"
      ]
     },
     "metadata": {},
     "output_type": "display_data"
    }
   ],
   "source": [
    "#To run the ANOVA test, we want to check for normality in the data.\n",
    "\n",
    "norm = np.random.normal(0,1,20)\n",
    "norm.sort()\n",
    "\n",
    "Eng = college[college['type'] == 'Engineering']\n",
    "Eng['start_med'].sort_values()\n",
    "\n",
    "plt.plot(norm, Eng, \"x\")"
   ]
  },
  {
   "cell_type": "markdown",
   "metadata": {},
   "source": [
    "#### How do the differences between college types change when looking at mid-career salaries?"
   ]
  },
  {
   "cell_type": "code",
   "execution_count": 28,
   "metadata": {},
   "outputs": [],
   "source": [
    "# Let's run the histogram of the mid-career salaries for each type of college.\n",
    "\n",
    "Eng2 = college[college['type'] == \"Engineering\"]['mid_med']\n",
    "Ivy2 = college[college['type'] == \"Ivy League\"]['mid_med']\n",
    "LibArts2 = college[college['type'] == \"Liberal Arts\"]['mid_med']\n",
    "Party2 = college[college['type'] == \"Party\"]['mid_med']\n",
    "State2 = college[college['type'] == \"State\"]['mid_med']"
   ]
  },
  {
   "cell_type": "code",
   "execution_count": 29,
   "metadata": {},
   "outputs": [
    {
     "name": "stderr",
     "output_type": "stream",
     "text": [
      "/Library/Frameworks/Python.framework/Versions/3.4/lib/python3.4/site-packages/numpy/core/fromnumeric.py:57: FutureWarning: reshape is deprecated and will raise in a subsequent release. Please use .values.reshape(...) instead\n",
      "  return getattr(obj, method)(*args, **kwds)\n"
     ]
    },
    {
     "data": {
      "image/png": "[encoded data removed]",
      "text/plain": [
       "<matplotlib.figure.Figure at 0x109cfb780>"
      ]
     },
     "metadata": {},
     "output_type": "display_data"
    }
   ],
   "source": [
    "plt.figure(figsize=(10,5))\n",
    "\n",
    "plt.subplot(1, 2, 1)\n",
    "start_med_hist = plt.hist([Eng, Ivy, LibArts, Party, State], color = ['blue','turquoise', 'orange', 'magenta','maroon'])\n",
    "plt.title('Starting Career Median Salaries', fontsize=16)\n",
    "plt.xlabel(\"in dollars\", fontsize=12)  \n",
    "plt.ylabel(\"Colleges (count)\", fontsize=12)\n",
    "plt.xticks(fontsize=9)  \n",
    "plt.yticks(fontsize=14)\n",
    "\n",
    "plt.subplot(1, 2, 2)\n",
    "mid_career_hist = plt.hist([Eng2, Ivy2, LibArts2, Party2, State2], color = ['blue', 'turquoise', 'orange', 'magenta', 'maroon'])\n",
    "plt.title('Mid-Career Median Salaries', fontsize=16)\n",
    "plt.xlabel(\"in dollars\", fontsize=12)  \n",
    "plt.ylabel(\"Colleges (count)\", fontsize=12)\n",
    "plt.xticks(fontsize=9)  \n",
    "plt.yticks(fontsize=14)\n",
    "\n",
    "plt.tight_layout()\n",
    "plt.show()"
   ]
  },
  {
   "cell_type": "code",
   "execution_count": 32,
   "metadata": {},
   "outputs": [
    {
     "name": "stderr",
     "output_type": "stream",
     "text": [
      "/Library/Frameworks/Python.framework/Versions/3.4/lib/python3.4/site-packages/numpy/core/fromnumeric.py:57: FutureWarning: reshape is deprecated and will raise in a subsequent release. Please use .values.reshape(...) instead\n",
      "  return getattr(obj, method)(*args, **kwds)\n"
     ]
    },
    {
     "data": {
      "image/png": "[encoded data removed]",
      "text/plain": [
       "<matplotlib.figure.Figure at 0x109eafef0>"
      ]
     },
     "metadata": {},
     "output_type": "display_data"
    },
    {
     "data": {
      "image/png": "[encoded data removed]",
      "text/plain": [
       "<matplotlib.figure.Figure at 0x109ab3fd0>"
      ]
     },
     "metadata": {},
     "output_type": "display_data"
    },
    {
     "data": {
      "image/png": "[encoded data removed]",
      "text/plain": [
       "<matplotlib.figure.Figure at 0x108bf6390>"
      ]
     },
     "metadata": {},
     "output_type": "display_data"
    }
   ],
   "source": [
    "# Boxplots of starting median salaries by type of college.\n",
    "\n",
    "plt.figure(figsize=(10, 5))\n",
    "\n",
    "plt.subplot(1,2,1)\n",
    "college.boxplot('start_med', by = 'type')\n",
    "\n",
    "plt.subplot(1,2,1)\n",
    "college.boxplot('mid_med', by='type')\n",
    "\n",
    "plt.tight_layout()\n",
    "plt.show()"
   ]
  },
  {
   "cell_type": "markdown",
   "metadata": {},
   "source": [
    "### Conclusions\n"
   ]
  },
  {
   "cell_type": "markdown",
   "metadata": {},
   "source": [
    "### Further Research\n",
    "\n",
    "The current analysis does not consider the cost of tuition and student loans.  Ivy leagues, for example, have higher sticker prices than a state school might.  How long does it take a student of each type school to earn back the cost of tuition?  If we consider the median student loan amounts, how would the conclusions change?  Analysis into tuition and student loans would require gathering more data through APIs and/or web-scraping.\n",
    "\n",
    "It would also be interesting to consider the majors.  Is a Party school engineering student doing better than an Ivy League Art History major?  We could apply linear regression models to determine what factors result in the highest starting and mid-career salaries.  \n",
    "\n"
   ]
  },
  {
   "cell_type": "code",
   "execution_count": null,
   "metadata": {},
   "outputs": [],
   "source": []
  }
 ],
 "metadata": {
  "kernelspec": {
   "display_name": "Python 3",
   "language": "python",
   "name": "python3"
  },
  "language_info": {
   "codemirror_mode": {
    "name": "ipython",
    "version": 3
   },
   "file_extension": ".py",
   "mimetype": "text/x-python",
   "name": "python",
   "nbconvert_exporter": "python",
   "pygments_lexer": "ipython3",
   "version": "3.4.3"
  }
 },
 "nbformat": 4,
 "nbformat_minor": 2
}
